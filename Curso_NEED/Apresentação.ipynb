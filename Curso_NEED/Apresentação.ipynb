{
  "nbformat": 4,
  "nbformat_minor": 5,
  "metadata": {
    "language_info": {
      "name": "python",
      "version": "3.7.8",
      "mimetype": "text/x-python",
      "codemirror_mode": {
        "name": "ipython",
        "version": 3
      },
      "pygments_lexer": "ipython3",
      "nbconvert_exporter": "python",
      "file_extension": ".py"
    },
    "kernelspec": {
      "name": "python3",
      "display_name": "Python 3",
      "language": "python"
    },
    "colab": {
      "name": "Apresentação.ipynb",
      "provenance": []
    }
  },
  "cells": [
    {
      "cell_type": "markdown",
      "metadata": {
        "id": "lJ9hwxfsFNBT"
      },
      "source": [
        "[catdog]: imagens/catdog.jpg \"This is correct.\"\n",
        "\n",
        "# Apresentação AcelerAI\n",
        "This is machine learning in a nutshell:\n",
        "\n",
        "![alt text][catdog]"
      ],
      "id": "lJ9hwxfsFNBT"
    },
    {
      "cell_type": "code",
      "metadata": {
        "id": "bJkTgj50FGBQ",
        "outputId": "e85e2a7b-e712-49b5-b815-42fbdc6aec3e",
        "colab": {
          "base_uri": "https://localhost:8080/"
        }
      },
      "source": [
        "!pwd"
      ],
      "id": "bJkTgj50FGBQ",
      "execution_count": 1,
      "outputs": [
        {
          "output_type": "stream",
          "text": [
            "/content\n"
          ],
          "name": "stdout"
        }
      ]
    },
    {
      "cell_type": "code",
      "metadata": {
        "id": "mNfeUzrEFuuz",
        "outputId": "ee22b69b-31ca-49ae-a0ad-6a7e197920e1",
        "colab": {
          "base_uri": "https://localhost:8080/"
        }
      },
      "source": [
        "!ls"
      ],
      "id": "mNfeUzrEFuuz",
      "execution_count": 2,
      "outputs": [
        {
          "output_type": "stream",
          "text": [
            "sample_data\n"
          ],
          "name": "stdout"
        }
      ]
    }
  ]
}
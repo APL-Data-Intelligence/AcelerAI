{
 "cells": [
  {
   "cell_type": "markdown",
   "metadata": {},
   "source": [
    "<center>\n",
    "    <img src=\"logo_APL.png\" width=\"400\" alt=\"APL logo\"  />\n",
    "</center>\n",
    "\n",
    "<div class=\"alert alert-block alert-info\">\n",
    "\n",
    "<h1 align=center><font size = 6> Módulo 2: Python para Data Science  </font></h1>\n",
    "<h1 align=center><font size = 5>  <span style=\"color: black;\"> Módulo 2.2: Tutorial Jupyter Notebook </font></h1> </div>"
   ]
  },
  {
   "cell_type": "markdown",
   "metadata": {},
   "source": [
    "# Conteúdo:\n",
    "* [Objetivos:](#objetivos)\n",
    "aqui vai um texto para sintetizar essa seção...\n",
    "* [Introdução:](#introduction)\n",
    "aqui vai um texto para sintetizar essa seção...\n",
    "* [Familiarização com Ambiente de Programação](#ambiente)\n",
    "aqui vai um texto para sintetizar essa seção...\n",
    "* [Próximos Passos](#passos)\n",
    "aqui vai um texto para sintetizar essa seção..."
   ]
  },
  {
   "cell_type": "markdown",
   "metadata": {},
   "source": [
    "<h1 align=left><font size = 5>  Objetivos  <a name=\"objetivos\"></a> </div>"
   ]
  },
  {
   "cell_type": "markdown",
   "metadata": {},
   "source": [
    "Os objetivos desse módulo são:\n",
    "<li><a> Teste 1 </a></li>\n",
    "<li><a> Teste 2 </a></li>"
   ]
  },
  {
   "cell_type": "markdown",
   "metadata": {},
   "source": [
    "<h1 align=left><font size = 5>  Introdução  <a name=\"introduction\"></a> </div>"
   ]
  },
  {
   "cell_type": "markdown",
   "metadata": {},
   "source": [
    "Bem vindo ao curso Desmistificando a Cência de Dados!\n",
    "\n",
    "Ao longo desse curso vamos..."
   ]
  },
  {
   "cell_type": "markdown",
   "metadata": {},
   "source": [
    "<h1 align=left><font size = 5>  Familiarização com Ambiente de Programação  <a name=\"ambiente\"></a> </div>"
   ]
  },
  {
   "cell_type": "markdown",
   "metadata": {},
   "source": [
    "#### Pressione as teclas `shift` + `enter` para executar o código em cada célula."
   ]
  },
  {
   "cell_type": "code",
   "execution_count": 24,
   "metadata": {},
   "outputs": [
    {
     "name": "stdout",
     "output_type": "stream",
     "text": [
      "Bem vindo ao AcelerAI!\n"
     ]
    }
   ],
   "source": [
    "# O comando a seguir apresenta uma mensagem na tela:\n",
    "print('Bem vindo ao AcelerAI!')\n",
    "\n",
    "#<div class=\"alert alert-danger alertdanger\" style=\"margin-top: 20px\">"
   ]
  },
  {
   "cell_type": "markdown",
   "metadata": {},
   "source": [
    "<div class=\"alert alert-success\" style=\"margin-top: 20px\">\n",
    "    \n",
    "<h3>Questão  #1:</h3>\n",
    "\n",
    "<b>Apresente a sua primeira mensagem: Hello World! </b>\n",
    "</div>"
   ]
  },
  {
   "cell_type": "code",
   "execution_count": 25,
   "metadata": {},
   "outputs": [],
   "source": [
    "# Dica --> Use o comando 'print' que acabamos de aprender"
   ]
  },
  {
   "cell_type": "markdown",
   "metadata": {},
   "source": [
    "Dê um click duplo <b>aqui</b> para ver a solução.\n",
    "\n",
    "<!-- Resposta abaixo:\n",
    "\n",
    "print('Hello World!')\n",
    "\n",
    "-->"
   ]
  },
  {
   "cell_type": "markdown",
   "metadata": {},
   "source": [
    "#### Versão da Linguagem Python"
   ]
  },
  {
   "cell_type": "code",
   "execution_count": 26,
   "metadata": {},
   "outputs": [
    {
     "name": "stdout",
     "output_type": "stream",
     "text": [
      "Versão da Linguagem Python Usada Neste Jupyter Notebook: 3.7.4\n"
     ]
    }
   ],
   "source": [
    "# O comando a seguir apresenta a versão Python utilizada\n",
    "from platform import python_version\n",
    "print('Versão da Linguagem Python Usada Neste Jupyter Notebook:', python_version())"
   ]
  },
  {
   "cell_type": "markdown",
   "metadata": {},
   "source": [
    "<h1 align=left><font size = 5>  Próximos Passos  <a name=\"passos\"></a> </div>"
   ]
  },
  {
   "cell_type": "markdown",
   "metadata": {},
   "source": [
    "Ao longo desse curso vamos...\n",
    "\n",
    "No próximo módulo vamos..."
   ]
  }
 ],
 "metadata": {
  "kernelspec": {
   "display_name": "Python 3",
   "language": "python",
   "name": "python3"
  },
  "language_info": {
   "codemirror_mode": {
    "name": "ipython",
    "version": 3
   },
   "file_extension": ".py",
   "mimetype": "text/x-python",
   "name": "python",
   "nbconvert_exporter": "python",
   "pygments_lexer": "ipython3",
   "version": "3.7.4"
  }
 },
 "nbformat": 4,
 "nbformat_minor": 4
}

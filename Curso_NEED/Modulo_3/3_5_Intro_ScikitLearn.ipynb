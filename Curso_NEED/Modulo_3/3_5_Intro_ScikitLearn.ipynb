{
 "cells": [
  {
   "cell_type": "markdown",
   "id": "c767a35f-67d7-466e-ae99-3513146a2bee",
   "metadata": {},
   "source": [
    "<center>\n",
    "    <img src=\"../imagens/logo_APL.png\" width=\"300\" alt=\"APL logo\"  />\n",
    "</center>"
   ]
  },
  {
   "cell_type": "markdown",
   "id": "b19ec966-2eed-48e9-8b4c-214f4c970871",
   "metadata": {},
   "source": [
    "# Uma Introdução à Biblioteca `Scikit-Learn` "
   ]
  },
  {
   "cell_type": "markdown",
   "id": "3a84856c-5c26-462e-8919-8e0dc5384645",
   "metadata": {},
   "source": [
    "**Bem vindo!** Neste notebook será abordada a biblioteca `Scikit-Learn`, desenvolvida especificamente para aplicação prática de algoritmos de *machine learning*. Ao final, espera-se que você seja capaz de você usar as ferramentas simples e eficientes para análise preditiva de dados."
   ]
  },
  {
   "cell_type": "markdown",
   "id": "7ead5e39-4245-4e52-b3a9-eafc2c2e703b",
   "metadata": {},
   "source": [
    "<h2>Conteúdo:</h2>\n",
    "<div class=\"alert alert-block alert-info\" style=\"margin-top: 20px\">\n",
    "<ul>\n",
    "    <li> Introdução </li>\n",
    "    <li> Exemplo completo de Machine Learning:  \n",
    "        <ul>\n",
    "            <li> Carregamento do Dataset </li> \n",
    "            <li> Separar as Colunas do Dataframe: features vs target </li>     \n",
    "            <li> Dividir o Dataset: Treinamento e Validação </li>   \n",
    "            <li> Algoritmo de Machine Learning </li>  \n",
    "            <li> Predições </li>  \n",
    "            <li> Avaliação </li>  \n",
    "        </ul>\n",
    "    </li> \n",
    "    <li> Discussão e Próximos Passos </li>\n",
    "</ul>\n",
    "</div>\n",
    "\n",
    "<hr>"
   ]
  },
  {
   "cell_type": "markdown",
   "id": "40a72d74-0f1a-43e4-8965-9cc051d2f495",
   "metadata": {},
   "source": [
    "## Introdução\n",
    "\n",
    "Esta introdução tem por objetivo fornecer de forma simples e objetiva uma apresentação às principais ferramentas fornecidas pela biblioteca `Scikit_learn`.  Ao final desse módulo espera-se que você seja capaz de aplicar as principais ferramentas dessa biblioteca em um problema de *Machine Learning*.\n",
    "\n",
    "Vamos começar importando as principais bibliotecas a serem utilizadas:"
   ]
  },
  {
   "cell_type": "code",
   "execution_count": null,
   "id": "d7d208a3-33f6-405c-a941-4f118eb6ba67",
   "metadata": {},
   "outputs": [],
   "source": [
    "from sklearn.datasets import load_breast_cancer\n",
    "from sklearn.model_selection import train_test_split\n",
    "from sklearn.tree import DecisionTreeClassifier\n",
    "from sklearn.metrics import accuracy_score\n",
    "import pandas as pd\n",
    "import numpy as np"
   ]
  },
  {
   "cell_type": "markdown",
   "id": "a0c3ff37-d378-49e2-bc3d-ec475f0685b0",
   "metadata": {},
   "source": [
    "## Exemplo completo de Machine Learning"
   ]
  },
  {
   "cell_type": "markdown",
   "id": "c1064cb1-a809-44d0-ae00-53d28f53bc7a",
   "metadata": {},
   "source": [
    "Será apresentado um exemplo completo de *machine learning* desde o carregamento do dataset, treinamento do modelo, predição e avaliação."
   ]
  },
  {
   "cell_type": "code",
   "execution_count": null,
   "id": "19b42414-b69e-4447-83ee-96c87e631ba3",
   "metadata": {},
   "outputs": [],
   "source": [
    "### Carregamento do Dataset"
   ]
  },
  {
   "cell_type": "markdown",
   "id": "d3c18533-294e-4e21-8349-7372df3ea60b",
   "metadata": {},
   "source": [
    "Vamos carregar nosso dataset.\n",
    "O exemplo é baseado em um conjunto de dados que está publicamente disponível no [UCI Machine Learning Repository](http://mlearn.ics.uci.edu/MLRepository.html).\n",
    "\n",
    "Esse conjunto de dados consiste em centenas de registros de amostras de células humanas, contendo um conjunto de características. \n",
    "\n",
    "Os campos em cada registro são:\n",
    "\n",
    "| Nome        | Descrição                             |\n",
    "| ----------- | ---------------------------           |\n",
    "| ID          | Identificação                         |\n",
    "| Clump       | espessura do aglomerado               |\n",
    "| UnifSize    | Uniformidade do tamanho da célula     |\n",
    "| UnifShape   | Uniformidade do formato da célula     |\n",
    "| MargAdh     | Adesão marginal                       |\n",
    "| SingEpiSize | Tamanho de célula epitelial única     |\n",
    "| BareNuc     | Núcleos puros                         |\n",
    "| BlandChrom  | Cromatina branda                      |\n",
    "| NormNucl    | Nucléolos normais                     |\n",
    "| Mit         | Mitoses                               |\n",
    "| Class       | Benigno ou Maligno                    |\n",
    "\n",
    "\n",
    "Para fins de simplificar, estamos usando um conjunto de dados que possui um número relativamente pequeno de preditores em cada registro.\n"
   ]
  },
  {
   "cell_type": "code",
   "execution_count": null,
   "id": "b123db39-83c3-41f2-b408-e24f9cc39194",
   "metadata": {},
   "outputs": [],
   "source": [
    "cell_df = pd.read_csv(\"../datasets/cellsample_dataset/cell_samples.csv\")\n",
    "cell_df.shape"
   ]
  },
  {
   "cell_type": "markdown",
   "id": "4c7fca73-26c1-4486-9c8b-f658e80f98ea",
   "metadata": {
    "tags": []
   },
   "source": [
    "Nosso dataset possui, portanto, 699 amostras e 11 características."
   ]
  },
  {
   "cell_type": "code",
   "execution_count": null,
   "id": "f4d46d90-10ff-4409-af9d-7c4e498fa4df",
   "metadata": {},
   "outputs": [],
   "source": [
    "cell_df.head()"
   ]
  },
  {
   "cell_type": "markdown",
   "id": "6f3fe49c-14d2-4548-89af-985089985b7b",
   "metadata": {},
   "source": [
    "### Separar as Colunas do Dataframe: features vs target"
   ]
  },
  {
   "cell_type": "markdown",
   "id": "f08a0bdc-aacb-4b76-a55a-770f1e2ae616",
   "metadata": {},
   "source": [
    "Os regressores ou features (atributos) são as variáveis explicativas do nosso dataset. Enquanto a variável alvo reflete a característica que desejamos classificar: em nosso dataset, se o câncer é benigno ou malígno.\n",
    "\n",
    "Em nosso exemplo, as features são formadas pelas 30 primeiras colunas. \n",
    "\n",
    "Para essa finalidade, cria-se um novo dataframe a partir do dataframe orignal, utilizando-se as features desejadas."
   ]
  },
  {
   "cell_type": "code",
   "execution_count": null,
   "id": "b5479fdc-7af2-47eb-b278-5a5c81ce1150",
   "metadata": {},
   "outputs": [],
   "source": [
    "feature_df = cell_df[['Clump', 'UnifSize', 'UnifShape', 'MargAdh', 'SingEpiSize', 'BlandChrom', 'NormNucl', 'Mit']]\n",
    "X = np.asarray(feature_df)\n",
    "X[0:5]"
   ]
  },
  {
   "cell_type": "markdown",
   "id": "5908324a-fa8b-4332-a840-133971932b77",
   "metadata": {},
   "source": [
    "Agora vamos criar o nosso dataframe que corresponde a variável alvo, ou seja, a variável que queremos fazer a predição."
   ]
  },
  {
   "cell_type": "code",
   "execution_count": null,
   "id": "03149d2d-d579-4a8c-8a6f-3332034b0a84",
   "metadata": {},
   "outputs": [],
   "source": [
    "cell_df['Class'] = cell_df['Class'].astype('int')\n",
    "y = np.asarray(cell_df['Class'])\n",
    "y [0:5]"
   ]
  },
  {
   "cell_type": "markdown",
   "id": "8d410d3d-3adf-4220-9629-3423df2b2525",
   "metadata": {},
   "source": [
    "### Dividir o Dataset: Treinamento e Validação/Teste"
   ]
  },
  {
   "cell_type": "markdown",
   "id": "f1a4ae11-9480-4e37-8e2b-13ec301b5def",
   "metadata": {},
   "source": [
    "Vamos dividir nosso dataset em duas partes: 1) dados de treinamento; e 2) dados de validação.  Para tanto, vamos utilizar o método `train_test_split`."
   ]
  },
  {
   "cell_type": "code",
   "execution_count": null,
   "id": "3a2c9ae3-fc27-4532-b6d0-a4eaa89b49da",
   "metadata": {},
   "outputs": [],
   "source": [
    "# Dividir nossos dados\n",
    "X_train, X_test, y_train, y_test = train_test_split( X, y, test_size=0.2, random_state=4)\n",
    "print ('Conjunto de treino:', X_train.shape,  y_train.shape)\n",
    "print ('Conjunto de teste:', X_test.shape,  y_test.shape)"
   ]
  },
  {
   "cell_type": "markdown",
   "id": "409dd9cd-4b27-4a61-a132-b243953c9bc8",
   "metadata": {},
   "source": [
    "Podemos observar que nosso **conjunto de treinamento** possui 559 amostras (ou 80%), enquanto o **conjunto de avaliação** 140 amostras (ou 20%), totalizando as 699 amostras originais. "
   ]
  },
  {
   "cell_type": "markdown",
   "id": "db91aab3-40e6-4afa-b325-1f21ef620aac",
   "metadata": {},
   "source": [
    "### Algoritmo de Machine Learning"
   ]
  },
  {
   "cell_type": "markdown",
   "id": "b8aab6b0-5122-40bb-8c87-599605446ecb",
   "metadata": {},
   "source": [
    "Nessa etapa escolhemos o algoritmo de machine learning que desejamos utilizar. Nesse nosso exemplo vamos escolher o algoritmo **Árvore de Decisão** (em inglês, *Decision Tree*). Iremos discutir esse algorimo em detalhes no Módulo 5.\n",
    "\n",
    "Vamos inicializar nosso classificador:"
   ]
  },
  {
   "cell_type": "code",
   "execution_count": null,
   "id": "46584b1f-a00d-4940-9354-de68c88ebc66",
   "metadata": {},
   "outputs": [],
   "source": [
    "DTC = DecisionTreeClassifier()"
   ]
  },
  {
   "cell_type": "markdown",
   "id": "aad311d2-713f-4a49-a1de-c0d4ba2174d3",
   "metadata": {},
   "source": [
    "Na sequência, Treinar nosso classificador:"
   ]
  },
  {
   "cell_type": "code",
   "execution_count": null,
   "id": "cae4481b-524f-4598-b70e-91cdf100d917",
   "metadata": {},
   "outputs": [],
   "source": [
    "model = DTC.fit(X_train, y_train)"
   ]
  },
  {
   "cell_type": "markdown",
   "id": "9de0360e-f9b4-4de0-8819-c70d9bfd0685",
   "metadata": {},
   "source": [
    "### Previsão"
   ]
  },
  {
   "cell_type": "markdown",
   "id": "213fdf3a-6058-4aad-962b-3622ecde4fc5",
   "metadata": {},
   "source": [
    "Nosso modelo foi treinado. Agora é o momento de se fazer previsões. Para isso usamos os dados de validação."
   ]
  },
  {
   "cell_type": "code",
   "execution_count": null,
   "id": "b84ce337-2778-4bbc-803e-0bd29cfffb94",
   "metadata": {},
   "outputs": [],
   "source": [
    "# Fazer previsões\n",
    "preds = DTC.predict(X_test)\n",
    "print(preds)"
   ]
  },
  {
   "cell_type": "markdown",
   "id": "c151c482-5c8f-4e55-87b8-71667f338a17",
   "metadata": {},
   "source": [
    "### Avaliação"
   ]
  },
  {
   "cell_type": "markdown",
   "id": "1a6b9325-582a-4a04-9c96-39a14bfa8b30",
   "metadata": {},
   "source": [
    "Finalmente, vamos avaliar nosso modelo. Para tanto, vamos utilizar a métrica: **acurácia**, ou seja, qual o percentual de classes foram corretamente classificadas."
   ]
  },
  {
   "cell_type": "code",
   "execution_count": null,
   "id": "343d433c-a094-4509-a367-60ec23ed0a50",
   "metadata": {},
   "outputs": [],
   "source": [
    "print(accuracy_score(y_test, preds))"
   ]
  },
  {
   "cell_type": "markdown",
   "id": "73fa18de-6cb7-477e-8621-83e5e68d8686",
   "metadata": {},
   "source": [
    "Podemos observar, portanto, que o nosso modelo obteve uma acurácia superior a 90%."
   ]
  },
  {
   "cell_type": "markdown",
   "id": "c310e2f6-c6f4-456a-9867-a69cc4b1724d",
   "metadata": {},
   "source": [
    "# Discussão e Próximos Passos"
   ]
  },
  {
   "cell_type": "markdown",
   "id": "8fa32b6d-de55-42a3-b655-e25e8b9e2f7f",
   "metadata": {},
   "source": [
    "Nesse notebook Python, percorremos um exemplo completo de *machine learning* desde o carregamento do dataset, treinamento do modelo, predição e avaliação. Entretanto, destacamos que o objetivo desse notebook é apenas apresentar a biblioteca `Scikit-Learn`. \n",
    "\n",
    "No Módulo 5 de nosso curso iremos fazer uma imersão teórico-prática em alguns dos principais algortimos de *Machine Learning*."
   ]
  },
  {
   "cell_type": "markdown",
   "id": "d77b621d-8df2-4380-860e-b644a9185ff8",
   "metadata": {},
   "source": [
    "<hr>"
   ]
  },
  {
   "cell_type": "markdown",
   "id": "4ca7afd3-e19c-4674-9baf-3beeaf433466",
   "metadata": {},
   "source": [
    "## Direitos Autorais"
   ]
  },
  {
   "cell_type": "markdown",
   "id": "9e029a2e-eb2e-4898-abaa-c15a796dd1d4",
   "metadata": {},
   "source": [
    "[APL Data Intelligence](https://linktr.ee/APLdataintelligence)&#8482;  2021. Este notebook Python e seu código fonte estão liberados sob os termos da [Licença do MIT](https://bigdatauniversity.com/mit-license/)."
   ]
  }
 ],
 "metadata": {
  "kernelspec": {
   "display_name": "Python 3",
   "language": "python",
   "name": "python3"
  },
  "language_info": {
   "codemirror_mode": {
    "name": "ipython",
    "version": 3
   },
   "file_extension": ".py",
   "mimetype": "text/x-python",
   "name": "python",
   "nbconvert_exporter": "python",
   "pygments_lexer": "ipython3",
   "version": "3.8.8"
  }
 },
 "nbformat": 4,
 "nbformat_minor": 5
}

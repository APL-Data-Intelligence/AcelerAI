{
 "cells": [
  {
   "cell_type": "markdown",
   "metadata": {},
   "source": [
    "<center>\n",
    "    <img src=\"../imagens/logo_APL.png\" width=\"300\" alt=\"APL logo\"  />\n",
    "</center>"
   ]
  },
  {
   "cell_type": "markdown",
   "metadata": {},
   "source": [
    "## Introdução ao `Matplotlib`"
   ]
  },
  {
   "cell_type": "markdown",
   "metadata": {},
   "source": [
    "**Bem vindo!** Neste notebook serão abordados algumas funcionalidades básicas da biblioteca `Matplotlib`. Ao final, espera-se que você seja capaz de você usar algumas das ferramentas dessa biblioteca para visualizar seus dados."
   ]
  },
  {
   "cell_type": "markdown",
   "metadata": {},
   "source": [
    "<h2>Conteúdo:</h2>\n",
    "<div class=\"alert alert-block alert-info\" style=\"margin-top: 20px\">\n",
    "    <ul>\n",
    "        <li>Introdução</li>\n",
    "        <li>\n",
    "            Gráfico contendo uma única reta:\n",
    "            <ul>\n",
    "                <li>Desenho de uma reta simples f(x) = 2x</li>\n",
    "                <li>Acrescentando Rótulos nos eixos</li>\n",
    "                <li>Acrescentando Grid</li>\n",
    "            <ul>\n",
    "         </li>\n",
    "         <li>\n",
    "            Gráfico contendo mais de uma reta:\n",
    "            <ul>\n",
    "                <li>Podemos escolher as cores para as retas</li>\n",
    "                <li>Inserindo titulo e legendas</li>\n",
    "                <li>Selecionando posição das legendas</li>\n",
    "            <ul>\n",
    "        </li>\n",
    "    <ul>\n",
    "</div>\n",
    "\n",
    "<hr>"
   ]
  },
  {
   "cell_type": "markdown",
   "metadata": {},
   "source": [
    "## Introdução"
   ]
  },
  {
   "cell_type": "markdown",
   "metadata": {},
   "source": [
    "Existem muitas ferramentas para Visualização de Dados e a cada dia novas ferramentas surgem. Nós iremos focar na `Matplotlib`, a biblioteca `Python` mais difundida para este fim. Essa biblioteca permite a criação de gráficos em 2D, como gráficos de barra, linha, pizza, histogramas, entre muitos outros. \n",
    "\n",
    "Nesse notebook vamos usar como exemplo o gráfico de linha e aprender como configurar alguns de seus parâmetros. \n",
    "\n",
    "\n",
    "Iniciamos carregando os pacotes `Python` necessários:"
   ]
  },
  {
   "cell_type": "code",
   "execution_count": null,
   "metadata": {},
   "outputs": [],
   "source": [
    "import numpy as np\n",
    "import matplotlib.pyplot as plt"
   ]
  },
  {
   "cell_type": "markdown",
   "metadata": {},
   "source": [
    "O comando `%matplotlib inline` faz parte da mágica do Jupyter para mostrar figuras ao longo do notebook python."
   ]
  },
  {
   "cell_type": "code",
   "execution_count": null,
   "metadata": {},
   "outputs": [],
   "source": [
    "%matplotlib inline"
   ]
  },
  {
   "cell_type": "markdown",
   "metadata": {},
   "source": [
    "Inicialmente, vamos definir dois arrays `Numpy`:"
   ]
  },
  {
   "cell_type": "code",
   "execution_count": null,
   "metadata": {},
   "outputs": [],
   "source": [
    "arr1 = np.array([1, 2, 3, 4, 5, 6, 7 ,8, 9, 10])\n",
    "arr2 = np.array([2, 4, 6, 8, 10, 12, 14 ,16, 18, 20])"
   ]
  },
  {
   "cell_type": "markdown",
   "metadata": {},
   "source": [
    "## Gráfico contendo uma única reta"
   ]
  },
  {
   "cell_type": "markdown",
   "metadata": {},
   "source": [
    "Vamos desenhar um gráfico contendo uma reta simples $f(x) = 2x$."
   ]
  },
  {
   "cell_type": "code",
   "execution_count": null,
   "metadata": {},
   "outputs": [],
   "source": [
    "plt.figure(figsize=(6, 4))\n",
    "plt.plot(arr1, arr2)"
   ]
  },
  {
   "cell_type": "markdown",
   "metadata": {},
   "source": [
    "#### Acrescentando Rótulos nos eixos"
   ]
  },
  {
   "cell_type": "code",
   "execution_count": null,
   "metadata": {},
   "outputs": [],
   "source": [
    "plt.figure(figsize=(6, 4))\n",
    "plt.plot(arr1, arr2)\n",
    "plt.xlabel('x')\n",
    "plt.ylabel('f(x) = 2x')"
   ]
  },
  {
   "cell_type": "markdown",
   "metadata": {},
   "source": [
    "#### Acrescentando Grid"
   ]
  },
  {
   "cell_type": "code",
   "execution_count": null,
   "metadata": {},
   "outputs": [],
   "source": [
    "plt.figure(figsize=(6, 4))\n",
    "plt.plot(arr1, arr2)\n",
    "plt.xlabel('x')\n",
    "plt.ylabel('f(x) = 2x')\n",
    "plt.grid(True)"
   ]
  },
  {
   "cell_type": "markdown",
   "metadata": {},
   "source": [
    "# Gráfico contendo mais de uma reta"
   ]
  },
  {
   "cell_type": "markdown",
   "metadata": {},
   "source": [
    "Inicialmente, vamos criar um array usando o método `np.arange()`. \n",
    "\n",
    "Esse método retorna um objeto ndarray que contém valores espaçados igualmente dentro de um determinado intervalo. "
   ]
  },
  {
   "cell_type": "code",
   "execution_count": null,
   "metadata": {},
   "outputs": [],
   "source": [
    "x = np.arange(1, 11)\n",
    "print(x)"
   ]
  },
  {
   "cell_type": "markdown",
   "metadata": {},
   "source": [
    "#### Vamos desenhar um exemplo de gráfico contendo mais de uma linha. "
   ]
  },
  {
   "cell_type": "markdown",
   "metadata": {},
   "source": [
    "Inicialmente, vamos criar duas funções: \n",
    "- $f(x)=2x$ e \n",
    "- $f(x)=x+3$."
   ]
  },
  {
   "cell_type": "code",
   "execution_count": null,
   "metadata": {},
   "outputs": [],
   "source": [
    "plt.figure(figsize=(6, 4))\n",
    "plt.plot(x, 2*x)\n",
    "plt.plot(x, x+3)\n",
    "plt.xlabel('x')\n",
    "plt.ylabel('f(x)')\n",
    "plt.grid(True)"
   ]
  },
  {
   "cell_type": "markdown",
   "metadata": {},
   "source": [
    "#### Podemos escolher as cores para as retas\n",
    "\n",
    "Escolhemos a cor verde para uma reta e a cor vermelha para representar a outra."
   ]
  },
  {
   "cell_type": "code",
   "execution_count": null,
   "metadata": {},
   "outputs": [],
   "source": [
    "plt.figure(figsize=(6, 4))\n",
    "plt.plot(x, 2*x, color='green') \n",
    "plt.plot(x, x+3, color='red') \n",
    "plt.xlabel('x')\n",
    "plt.ylabel('f(x)')\n",
    "plt.grid(True)"
   ]
  },
  {
   "cell_type": "markdown",
   "metadata": {},
   "source": [
    "#### Inserindo título e legendas"
   ]
  },
  {
   "cell_type": "code",
   "execution_count": null,
   "metadata": {},
   "outputs": [],
   "source": [
    "plt.figure(figsize=(6, 4))\n",
    "plt.plot(x, 2*x, color='green', label='f(x) = 2x') # verde\n",
    "plt.plot(x, x+3, color='red', label='f(x) = x + 3') # vermelho\n",
    "plt.xlabel('x')\n",
    "plt.ylabel('f(x)')\n",
    "plt.grid(True)\n",
    "plt.title('Retas Simples')\n",
    "plt.legend()"
   ]
  },
  {
   "cell_type": "markdown",
   "metadata": {},
   "source": [
    "#### Acrescentando mais uma reta e selecionando posição das legendas"
   ]
  },
  {
   "cell_type": "markdown",
   "metadata": {},
   "source": [
    "Agora, vamos ter três funções: \n",
    "- $f(x)=2x$;  \n",
    "- $f(x)=x+3$; e\n",
    "- $f(x)=1.5x+1$"
   ]
  },
  {
   "cell_type": "code",
   "execution_count": null,
   "metadata": {},
   "outputs": [],
   "source": [
    "plt.figure(figsize=(6, 4))\n",
    "plt.plot(x, 2*x, color='green')     # verde\n",
    "plt.plot(x, x+3, color='red')       # vermelho\n",
    "plt.plot(x, 1.5*x+1, color='blue')  # azul\n",
    "plt.xlabel('x')\n",
    "plt.ylabel('f(x)')\n",
    "plt.grid(True)\n",
    "plt.title('Retas Simples')\n",
    "plt.legend(['f(x) = 2x',  'f(x) = x + 3', 'f(x) = 1.5x + 1'],loc=4)"
   ]
  },
  {
   "cell_type": "markdown",
   "metadata": {},
   "source": [
    "Para fins estéticos, o `Matplotlib` fornece uma série de estilos diferentes que podem ser usados, um deles é o `ggplot`:\n"
   ]
  },
  {
   "cell_type": "code",
   "execution_count": null,
   "metadata": {},
   "outputs": [],
   "source": [
    "plt.style.use('ggplot')"
   ]
  },
  {
   "cell_type": "markdown",
   "metadata": {},
   "source": [
    "Agora este estilo será usado em todas as imagens geradas após esse comando."
   ]
  },
  {
   "cell_type": "code",
   "execution_count": null,
   "metadata": {},
   "outputs": [],
   "source": [
    "plt.figure(figsize=(6, 4))\n",
    "plt.plot(x, 2*x, color='green')    # verde\n",
    "plt.plot(x, x+3, color='red')      # vermelho\n",
    "plt.plot(x, 1.5*x+1, color='blue') # azul\n",
    "plt.xlabel('x')\n",
    "plt.ylabel('f(x)')\n",
    "plt.grid(True)\n",
    "plt.title('Retas Simples')\n",
    "plt.legend(['f(x) = 2x',  'f(x) = x + 3', 'f(x) = 1.5x + 1'],loc=4)"
   ]
  },
  {
   "cell_type": "markdown",
   "metadata": {},
   "source": [
    "<hr>"
   ]
  },
  {
   "cell_type": "markdown",
   "metadata": {},
   "source": [
    "## Direitos Autorais"
   ]
  },
  {
   "cell_type": "markdown",
   "metadata": {},
   "source": [
    "[APL Data Intelligence](https://linktr.ee/APLdataintelligence)&#8482;  2021. Este notebook Python e seu código fonte estão liberados sob os termos da [Licença do MIT](https://bigdatauniversity.com/mit-license/)."
   ]
  }
 ],
 "metadata": {
  "kernelspec": {
   "display_name": "Python 3",
   "language": "python",
   "name": "python3"
  },
  "language_info": {
   "codemirror_mode": {
    "name": "ipython",
    "version": 3
   },
   "file_extension": ".py",
   "mimetype": "text/x-python",
   "name": "python",
   "nbconvert_exporter": "python",
   "pygments_lexer": "ipython3",
   "version": "3.8.8"
  }
 },
 "nbformat": 4,
 "nbformat_minor": 4
}

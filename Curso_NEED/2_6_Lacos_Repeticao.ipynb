{
 "cells": [
  {
   "cell_type": "markdown",
   "metadata": {},
   "source": [
    "<center>\n",
    "    <img src=\"imagens/logo_APL.png\" width=\"300\" alt=\"APL logo\"  />\n",
    "</center>"
   ]
  },
  {
   "cell_type": "markdown",
   "metadata": {},
   "source": [
    "# Laços de Repetição em `Python`"
   ]
  },
  {
   "cell_type": "markdown",
   "metadata": {},
   "source": [
    "**Bem-vindo!** Neste material será abordado o conceito de *Laços de Repetição* na linguagem `Python`. Ao final, espera-se que você seja capaz de entender e usar estruturas básicas, incluindo o laço `for` e o laço  `while`. "
   ]
  },
  {
   "cell_type": "markdown",
   "metadata": {},
   "source": [
    "<h2>Conteúdo:</h2>\n",
    "<div class=\"alert alert-block alert-info\" style=\"margin-top: 20px\">\n",
    "    <ul>\n",
    "        <li>\n",
    "            Laços de Repetição:\n",
    "            <ul>\n",
    "                <li>Faixa de Valores (<i>Range<i>)</li>  \n",
    "                <li>O que é o laço <code> for </code>?</li>\n",
    "                <li>O que é o laço <code> while </code>?</li>\n",
    "            <ul>\n",
    "        </li>\n",
    "    <ul>\n",
    "</div>\n",
    "\n",
    "<hr>"
   ]
  },
  {
   "cell_type": "markdown",
   "metadata": {},
   "source": [
    "<h2 id=\"loop\">Laços de Repetição</h2>"
   ]
  },
  {
   "cell_type": "markdown",
   "metadata": {},
   "source": [
    "<h3> Faixa de Valores (<i>Range<i>)</h3>"
   ]
  },
  {
   "cell_type": "markdown",
   "metadata": {},
   "source": [
    "Às vezes, você pode querer repetir uma determinada operação muitas vezes. Execuções repetidas como essa são realizadas por <b> laços de repetição </b>. Veremos dois tipos de laços: <code> for </code> e <code> while </code>.\n",
    "\n",
    "Antes de discutirmos os laços, vamos entender o conceito de <code> range </code>. É útil pensar nessa <i> faixa de valores </i> como uma lista ordenada. Por enquanto, vamos examinar o caso mais simples. Se quisermos gerar uma sequência que contém três elementos ordenados de 0 a 2, simplesmente usamos o seguinte comando:"
   ]
  },
  {
   "cell_type": "code",
   "execution_count": 1,
   "metadata": {},
   "outputs": [
    {
     "data": {
      "text/plain": [
       "range(0, 3)"
      ]
     },
     "execution_count": 1,
     "metadata": {},
     "output_type": "execute_result"
    }
   ],
   "source": [
    "# Exemplo de aplciação do comando range\n",
    "\n",
    "range(3)"
   ]
  },
  {
   "cell_type": "markdown",
   "metadata": {},
   "source": [
    "<img src=\"Imagens/LoopsRange.png\" width=\"300\" />"
   ]
  },
  {
   "cell_type": "markdown",
   "metadata": {},
   "source": [
    "<h3> O que é um laço de repetição <code>for</code>?</h3>"
   ]
  },
  {
   "cell_type": "markdown",
   "metadata": {},
   "source": [
    "O laço <code> for </code> permite que você execute um bloco de código várias vezes. Por exemplo, você poderia usar esse comando caso quisesse imprimir todos os elementos de uma lista.\n",
    "Vamos tentar usar um laço <code> for </code> para imprimir todos os anos apresentados na lista <code> datas </code>:"
   ]
  },
  {
   "cell_type": "code",
   "execution_count": 2,
   "metadata": {},
   "outputs": [
    {
     "name": "stdout",
     "output_type": "stream",
     "text": [
      "1982\n",
      "1980\n",
      "1973\n"
     ]
    }
   ],
   "source": [
    "# Exemplo de laço de repetição For\n",
    "\n",
    "datas = [1982,1980,1973]\n",
    "N = len(datas)\n",
    "\n",
    "for i in range(N):\n",
    "    print(datas[i])     "
   ]
  },
  {
   "cell_type": "markdown",
   "metadata": {},
   "source": [
    "O código indentado é executado <code> N </code> vezes, a cada iteração o valor de <code> i </code> é aumentado em 1. A instrução executada é para <code> imprimir </code> o valor da lista de acordo com o índice <code> i </code> como mostrado aqui:"
   ]
  },
  {
   "cell_type": "markdown",
   "metadata": {},
   "source": [
    "<img src=\"Imagens/LoopsForRange.gif\" width=\"800\" />"
   ]
  },
  {
   "cell_type": "markdown",
   "metadata": {},
   "source": [
    "No exemplo a seguir, podemos imprimir uma sequência de números de 0 a 7:"
   ]
  },
  {
   "cell_type": "code",
   "execution_count": 3,
   "metadata": {},
   "outputs": [
    {
     "name": "stdout",
     "output_type": "stream",
     "text": [
      "0\n",
      "1\n",
      "2\n",
      "3\n",
      "4\n",
      "5\n",
      "6\n",
      "7\n"
     ]
    }
   ],
   "source": [
    "# Exemplo de aplicação de um laço for\n",
    "\n",
    "for i in range(0, 8):\n",
    "    print(i)"
   ]
  },
  {
   "cell_type": "markdown",
   "metadata": {},
   "source": [
    "Em Python, podemos acessar diretamente os elementos da lista da seguinte maneira:"
   ]
  },
  {
   "cell_type": "code",
   "execution_count": 4,
   "metadata": {},
   "outputs": [
    {
     "name": "stdout",
     "output_type": "stream",
     "text": [
      "1982\n",
      "1980\n",
      "1973\n"
     ]
    }
   ],
   "source": [
    "# Exemplo de laço for, percorrendo uma lista\n",
    "\n",
    "for ano in datas:  \n",
    "    print(ano)   "
   ]
  },
  {
   "cell_type": "markdown",
   "metadata": {},
   "source": [
    "Para cada iteração, o valor da variável <code> anos </code> se comporta como o valor de <code> datas[i] </code>, conforme mostrado no primeiro exemplo:"
   ]
  },
  {
   "cell_type": "markdown",
   "metadata": {},
   "source": [
    "<img src=\"Imagens/LoopsForList.gif\" width=\"800\">"
   ]
  },
  {
   "cell_type": "markdown",
   "metadata": {},
   "source": [
    "Podemos alterar os elementos de uma lista:"
   ]
  },
  {
   "cell_type": "code",
   "execution_count": 5,
   "metadata": {},
   "outputs": [
    {
     "name": "stdout",
     "output_type": "stream",
     "text": [
      "Inicialmente, a cor no indice  0 eh vermelho\n",
      "Agora,  a cor no indice  0 eh branco\n",
      "Inicialmente, a cor no indice  1 eh amarelo\n",
      "Agora,  a cor no indice  1 eh branco\n",
      "Inicialmente, a cor no indice  2 eh verde\n",
      "Agora,  a cor no indice  2 eh branco\n",
      "Inicialmente, a cor no indice  3 eh roxo\n",
      "Agora,  a cor no indice  3 eh branco\n",
      "Inicialmente, a cor no indice  4 eh azul\n",
      "Agora,  a cor no indice  4 eh branco\n"
     ]
    }
   ],
   "source": [
    "# Uso do laço for para alterar um elemento em uma lista\n",
    "\n",
    "cores = ['vermelho', 'amarelo', 'verde', 'roxo', 'azul']\n",
    "\n",
    "for i in range(0, 5):\n",
    "    print(\"Inicialmente, a cor no indice \", i, 'eh',  cores[i])\n",
    "    cores[i] = 'branco'\n",
    "    print(\"Agora,  a cor no indice \", i, 'eh',  cores[i])"
   ]
  },
  {
   "cell_type": "markdown",
   "metadata": {},
   "source": [
    "Verificando se a lista foi realmente modificada:"
   ]
  },
  {
   "cell_type": "code",
   "execution_count": 6,
   "metadata": {},
   "outputs": [
    {
     "name": "stdout",
     "output_type": "stream",
     "text": [
      "Vamos mostrar a lista de cores, que foi modificada:\n",
      "A cor no indice  0 eh branco\n",
      "A cor no indice  1 eh branco\n",
      "A cor no indice  2 eh branco\n",
      "A cor no indice  3 eh branco\n",
      "A cor no indice  4 eh branco\n"
     ]
    }
   ],
   "source": [
    "# imprimindo a lista na tela\n",
    "print(\"Vamos mostrar a lista de cores, que foi modificada:\")\n",
    "for i in range(0, 5):\n",
    "    print(\"A cor no indice \", i, 'eh',  cores[i])"
   ]
  },
  {
   "cell_type": "markdown",
   "metadata": {},
   "source": [
    "Podemos acessar tanto o índice quanto os elementos de uma lista da seguinte maneira:"
   ]
  },
  {
   "cell_type": "code",
   "execution_count": 7,
   "metadata": {},
   "outputs": [
    {
     "ename": "NameError",
     "evalue": "name 'square' is not defined",
     "output_type": "error",
     "traceback": [
      "\u001b[1;31m---------------------------------------------------------------------------\u001b[0m",
      "\u001b[1;31mNameError\u001b[0m                                 Traceback (most recent call last)",
      "\u001b[1;32m<ipython-input-7-af7efd5055b7>\u001b[0m in \u001b[0;36m<module>\u001b[1;34m\u001b[0m\n\u001b[0;32m      4\u001b[0m \u001b[1;33m\u001b[0m\u001b[0m\n\u001b[0;32m      5\u001b[0m \u001b[1;32mfor\u001b[0m \u001b[0mi\u001b[0m\u001b[1;33m,\u001b[0m \u001b[0mcor\u001b[0m \u001b[1;32min\u001b[0m \u001b[0menumerate\u001b[0m\u001b[1;33m(\u001b[0m\u001b[0mcores\u001b[0m\u001b[1;33m)\u001b[0m\u001b[1;33m:\u001b[0m\u001b[1;33m\u001b[0m\u001b[1;33m\u001b[0m\u001b[0m\n\u001b[1;32m----> 6\u001b[1;33m     \u001b[0mprint\u001b[0m\u001b[1;33m(\u001b[0m\u001b[0mi\u001b[0m\u001b[1;33m,\u001b[0m \u001b[0msquare\u001b[0m\u001b[1;33m)\u001b[0m\u001b[1;33m\u001b[0m\u001b[1;33m\u001b[0m\u001b[0m\n\u001b[0m",
      "\u001b[1;31mNameError\u001b[0m: name 'square' is not defined"
     ]
    }
   ],
   "source": [
    "# Percorra a lista e faça a iteração tanto pelo indice quanto pelo valor do elemento\n",
    "\n",
    "cores = ['vermelho', 'amarelo', 'verde', 'roxo', 'azul']\n",
    "\n",
    "for i, cor in enumerate(cores):\n",
    "    print(i, square)"
   ]
  },
  {
   "cell_type": "markdown",
   "metadata": {},
   "source": [
    "<h3> O que é um laço de repetição is <code>while</code>?</h3>"
   ]
  },
  {
   "cell_type": "markdown",
   "metadata": {},
   "source": [
    "Como você pode ter notado, o laço <code> for </code> é usado para um fluxo controlado de repetição. No entanto, e se não soubermos com antecedência quantas vezes queremos repetir a execução do laço? E se quisermos continuar executando um bloco de código até que uma determinada condição seja atendida? O laço <code> while </code> existe como uma ferramenta para execução repetida com base em uma condição. O bloco de código continuará sendo executado até que a condição lógica fornecida retorne um valor booleano **False**."
   ]
  },
  {
   "cell_type": "markdown",
   "metadata": {},
   "source": [
    "Digamos que se deseje iterar através da lista de <code> datas </code> e parar no ano de 1973. Em seguida, imprimir o número de iterações. Isso pode ser feito com o seguinte bloco de código:"
   ]
  },
  {
   "cell_type": "code",
   "execution_count": 8,
   "metadata": {},
   "outputs": [
    {
     "name": "stdout",
     "output_type": "stream",
     "text": [
      "1982\n",
      "1980\n",
      "1973\n",
      "Foram necessárias  3 repetições para se parar de executar o laço.\n"
     ]
    }
   ],
   "source": [
    "# Exemplo do laço While\n",
    "\n",
    "datas = [1982, 1980, 1973, 2000]\n",
    "\n",
    "i = 0\n",
    "ano = 0\n",
    "\n",
    "# A lista será percorrida até que se encontre o ano de 1973.\n",
    "while(ano != 1973):\n",
    "    ano = datas[i]\n",
    "    i = i + 1\n",
    "    print(ano)\n",
    "\n",
    "print(\"Foram necessárias \", i ,\"repetições para se parar de executar o laço.\")"
   ]
  },
  {
   "cell_type": "markdown",
   "metadata": {},
   "source": [
    "Nesse exemplo, o laço `while` iterou até que a condição de teste não fosse atendida, ou seja, `enquanto` o ano fosse diferente de 1973, conforme ilustrad na figura a seguir:"
   ]
  },
  {
   "cell_type": "markdown",
   "metadata": {},
   "source": [
    "<img src=\"Imagens/LoopsWhile.gif\" width=\"650\" />"
   ]
  },
  {
   "cell_type": "markdown",
   "metadata": {},
   "source": [
    "<hr>"
   ]
  },
  {
   "cell_type": "markdown",
   "metadata": {},
   "source": [
    "### Direitos Autorais"
   ]
  },
  {
   "cell_type": "markdown",
   "metadata": {},
   "source": [
    "[APL Data Intelligence](https://linktr.ee/APLdataintelligence)&#8482;  2021. Este notebook Python e seu código fonte estão liberados sob os termos da [Licença do MIT](https://bigdatauniversity.com/mit-license/)."
   ]
  }
 ],
 "metadata": {
  "kernelspec": {
   "display_name": "Python 3",
   "language": "python",
   "name": "python3"
  },
  "language_info": {
   "codemirror_mode": {
    "name": "ipython",
    "version": 3
   },
   "file_extension": ".py",
   "mimetype": "text/x-python",
   "name": "python",
   "nbconvert_exporter": "python",
   "pygments_lexer": "ipython3",
   "version": "3.8.8"
  }
 },
 "nbformat": 4,
 "nbformat_minor": 4
}

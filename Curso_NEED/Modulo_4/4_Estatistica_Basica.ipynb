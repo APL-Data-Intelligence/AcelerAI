{
 "cells": [
  {
   "cell_type": "markdown",
   "metadata": {},
   "source": [
    "<center>\n",
    "    <img src=\"../imagens/logo_APL.png\" width=\"300\" alt=\"APL logo\"  />\n",
    "</center>"
   ]
  },
  {
   "cell_type": "markdown",
   "metadata": {
    "id": "E93lFiSCqwim"
   },
   "source": [
    "<h1>Estatística Básica em Python</h1>"
   ]
  },
  {
   "cell_type": "markdown",
   "metadata": {},
   "source": [
    "**Bem vindo!** Neste material serão abordados como alguns dos conceitos de estátistica podem ser codificados em `Python`. Ao final, espera-se que você seja capaz de você usar algumas ferramentas de análise estatística com `Python`."
   ]
  },
  {
   "cell_type": "markdown",
   "metadata": {},
   "source": [
    "<h2>Conteúdo:</h2>\n",
    "<div class=\"alert alert-block alert-info\" style=\"margin-top: 20px\">\n",
    "        <li> Introdução </li>\n",
    "        <li> Estimativas de Medidas de Tendência Central </li>     \n",
    "        <li> Estimativas de Variabilidade </li>   \n",
    "        <li> Percentis e Boxplots </li> \n",
    "        <li> Histogramas e Tabelas de Frequência </li>     \n",
    "        <li> Correlação </li>   \n",
    "</div>\n",
    "\n",
    "<hr>"
   ]
  },
  {
   "cell_type": "markdown",
   "metadata": {},
   "source": [
    "# Introdução"
   ]
  },
  {
   "cell_type": "markdown",
   "metadata": {},
   "source": [
    "Vamos codificar algumas das principais ferramentas estatísticas, como cálculo da média, desvio padrão, correlação, entre outros. \n",
    "\n",
    "Iniciamos carregando os pacotes `Python` necessários:"
   ]
  },
  {
   "cell_type": "code",
   "execution_count": null,
   "metadata": {
    "id": "2dwoEXGNqwiz",
    "tags": []
   },
   "outputs": [],
   "source": [
    "%matplotlib inline\n",
    "\n",
    "import pandas as pd\n",
    "import numpy as np\n",
    "from scipy.stats import trim_mean\n",
    "from statsmodels import robust\n",
    "\n",
    "import seaborn as sns\n",
    "import matplotlib.pylab as plt"
   ]
  },
  {
   "cell_type": "markdown",
   "metadata": {
    "id": "pZi4XvoDqwi3"
   },
   "source": [
    "# Estimativas de Medidas de Tendência Central"
   ]
  },
  {
   "cell_type": "markdown",
   "metadata": {},
   "source": [
    "Vamos começar lendo o nosso **dataset**. \n",
    "\n",
    "Os campos em cada registro se referem a informações de residências na cidade do Rio de Janeiro e são listados a seguir:\n",
    "\n",
    "| Nome        | Descrição                          |\n",
    "| ----------- | ---------------------------        |\n",
    "| condominio  | Valor (R\\$) do Condomínio          |\n",
    "| quartos     | Numero de quartos                  |\n",
    "| suites      | Numero de suítes                   |\n",
    "| vagas       | Numero de vagas de garagem         |\n",
    "| area        | Tamanho da área construída (m2)    |\n",
    "| bairro      | Nome do bairro                     |\n",
    "| preco       | Preço (R\\$) do imóvel              |\n",
    "| pm2         | Preço (R\\$) por metro quadrado     |\n",
    "\n",
    "Inicialmente, carregamos o dataset no dataframe `df`:"
   ]
  },
  {
   "cell_type": "code",
   "execution_count": null,
   "metadata": {
    "id": "oKjc2PmHqwi3",
    "outputId": "d4514a5c-ac26-4064-a6d8-0246aacfc318",
    "tags": []
   },
   "outputs": [],
   "source": [
    "df = pd.read_csv(\"dados.csv\")\n",
    "print(df.head())"
   ]
  },
  {
   "cell_type": "markdown",
   "metadata": {
    "id": "TfkUd2kjqwi5"
   },
   "source": [
    "Calcule a média, a média truncada e a mediana para o **Preço**. Para cálculo da média e mediana podemos usar, respectivamente, os métodos `mean` e` median` da biblioteca **Pandas**. Entretanto, a média truncada requer a função `trim_mean` da biblioteca **Scipy.Stats**.\n",
    "\n",
    "Para facilitar a visualização, apresentamos apenas duas casas decimais usando o método `round()`."
   ]
  },
  {
   "cell_type": "code",
   "execution_count": null,
   "metadata": {
    "id": "nJlQtwcKqwi5",
    "outputId": "7ce6dcd1-8f36-40a3-a95e-ada1ec078372",
    "tags": []
   },
   "outputs": [],
   "source": [
    "print(\"Media = R$ {}.\".format(round(df['preco'].mean(),2)))"
   ]
  },
  {
   "cell_type": "code",
   "execution_count": null,
   "metadata": {
    "id": "PKMsqRK7qwi6",
    "outputId": "98f8fe7b-6f4e-47ca-8fa3-1ee463f27592",
    "tags": []
   },
   "outputs": [],
   "source": [
    "print(\"Media Truncada = R$ {}.\".format(round(trim_mean(df['preco'], 0.1),2)))"
   ]
  },
  {
   "cell_type": "code",
   "execution_count": null,
   "metadata": {
    "id": "BxLIleykqwi7",
    "outputId": "537750f4-d5c0-4deb-a01a-d2596bddae2b",
    "tags": []
   },
   "outputs": [],
   "source": [
    "print(\"Mediana = R$ {}.\".format(round(df['preco'].median(),2)))"
   ]
  },
  {
   "cell_type": "markdown",
   "metadata": {
    "id": "4kJgBIxYqwi7"
   },
   "source": [
    "Para cálculo da média ponderada usamos a biblioteca **Numpy**. Nesse exemplo, vamos calcular o **Preço** ponderado pela **Área**."
   ]
  },
  {
   "cell_type": "code",
   "execution_count": null,
   "metadata": {
    "id": "tsyx37b_qwi8",
    "outputId": "a277c6ae-f2b7-461d-c882-d743eb4acf89",
    "tags": []
   },
   "outputs": [],
   "source": [
    "print(\"Media do Preço ponderado pela Área = R$ {}.\".format(round(np.average(df['preco'], weights=df['area']),2)))"
   ]
  },
  {
   "cell_type": "markdown",
   "metadata": {
    "id": "l1pnC3PIqwi-"
   },
   "source": [
    "# Estimativas de Variabilidade"
   ]
  },
  {
   "cell_type": "markdown",
   "metadata": {
    "id": "B0QBBok_qwi-"
   },
   "source": [
    "Vamos continuar usando a coluna **Preço** do nosso dataset. Para cálculo do **Desvio Padrão**:"
   ]
  },
  {
   "cell_type": "code",
   "execution_count": null,
   "metadata": {
    "id": "y5n5e6WJqwi_",
    "outputId": "5304c676-655f-4001-8a36-43dacabeb4c6",
    "tags": []
   },
   "outputs": [],
   "source": [
    "print(\"Desvio Padrão = R$ {}.\".format(round(df['preco'].std(),2)))"
   ]
  },
  {
   "cell_type": "markdown",
   "metadata": {
    "id": "ongz3d8Xqwi_"
   },
   "source": [
    "O intervalo interquartil é calculado como a diferença do quantil 75% e 25%."
   ]
  },
  {
   "cell_type": "code",
   "execution_count": null,
   "metadata": {
    "id": "f5POItL5qwjA",
    "outputId": "2840d2e5-4532-4fa5-c672-4ccb83f8c8f9",
    "tags": []
   },
   "outputs": [],
   "source": [
    "intervalo_interquartil = df['preco'].quantile(0.75) - df['preco'].quantile(0.25)\n",
    "print(\"Intervalo interquartil entre 75% e 25% = R$ {}.\".format(round(intervalo_interquartil,2)))"
   ]
  },
  {
   "cell_type": "markdown",
   "metadata": {
    "id": "BFk0hRBaqwjA"
   },
   "source": [
    "O desvio absoluto da mediana da mediana pode ser calculado com um método da biblioteca `statsmodels`."
   ]
  },
  {
   "cell_type": "code",
   "execution_count": null,
   "metadata": {
    "id": "qysaZfTpqwjB",
    "outputId": "9190fc7f-07e0-48e7-e0e3-95e3a55d6813",
    "tags": []
   },
   "outputs": [],
   "source": [
    "print(\"Desvio Padrão = R$ {}.\".format(round(robust.scale.mad(df['preco']),2)))"
   ]
  },
  {
   "cell_type": "markdown",
   "metadata": {
    "id": "jITkFbSlqwjB"
   },
   "source": [
    "# Percentis e Boxplots\n",
    "A biblioteca **Pandas** disponibiliza o método `quantile`, de acordo com:"
   ]
  },
  {
   "cell_type": "code",
   "execution_count": null,
   "metadata": {
    "id": "rei1rgoHqwjC",
    "outputId": "a2c58e5f-a023-43eb-80d1-4af4c52845ce",
    "tags": []
   },
   "outputs": [],
   "source": [
    "print(df['preco'].quantile([0.05, 0.25, 0.5, 0.75, 0.95]))"
   ]
  },
  {
   "cell_type": "markdown",
   "metadata": {
    "id": "F5cP37g7qwjD"
   },
   "source": [
    "A biblioteca **Pandas** fornece diversos gráficos para análise exploratória básica; um deles são _boxplots_. Nesse exemplo, vamos analisar a distribuição dos valores de _Preço/m2_:"
   ]
  },
  {
   "cell_type": "code",
   "execution_count": null,
   "metadata": {
    "id": "0f1HQLOoqwjD",
    "outputId": "54cb03f2-c147-4f28-d9a3-0dbbc4361800",
    "tags": []
   },
   "outputs": [],
   "source": [
    "ax = (df['pm2']).plot.box(figsize=(3, 4))\n",
    "ax.set_ylabel('Preço/m2')\n",
    "\n",
    "plt.tight_layout()\n",
    "plt.show()"
   ]
  },
  {
   "cell_type": "markdown",
   "metadata": {},
   "source": [
    "Como vimos na aula sobre **Pandas**, agrupar os dados se baseando em certos critérios, por meio do comando `.groupby()`, pode ser usado para resolver diversos problemas. Abaixo agrupamos o nosso DataFrame pelos valores da coluna `\"bairro\"`, e em seguida aplicamos o `.mean()` para termos informação das médias agrupadas pelos valores da coluna bairros. "
   ]
  },
  {
   "cell_type": "code",
   "execution_count": null,
   "metadata": {},
   "outputs": [],
   "source": [
    "df.groupby(\"bairro\").mean()"
   ]
  },
  {
   "cell_type": "markdown",
   "metadata": {
    "id": "wgcrZRauqwjU"
   },
   "source": [
    "Os gráficos boxplot da biblioteca **Pandas** não se restringem a apresentar uma única variável. No exemplo a seguir, os dados relativos ao Preço foram agrupados por uma coluna diferente, o bairro."
   ]
  },
  {
   "cell_type": "code",
   "execution_count": null,
   "metadata": {
    "id": "-9xynH8rqwjV",
    "outputId": "c42a1255-ce78-4593-f0f3-7c83e0cd552f",
    "tags": []
   },
   "outputs": [],
   "source": [
    "ax = df.boxplot(by='bairro', column='preco',\n",
    "                           figsize=(5, 5))\n",
    "ax.set_xlabel('')\n",
    "ax.set_ylabel('Preço (R$)')\n",
    "ax.get_figure().gca().set_title(\"\")\n",
    "plt.suptitle('Variação do Preço por Bairro')\n",
    "plt.xticks(rotation=45)\n",
    "plt.tight_layout()\n",
    "plt.show()"
   ]
  },
  {
   "cell_type": "markdown",
   "metadata": {
    "id": "OEdNB6WTqwjE"
   },
   "source": [
    "# Histogramas"
   ]
  },
  {
   "cell_type": "markdown",
   "metadata": {
    "id": "91bas-AeqwjF"
   },
   "source": [
    "No exemplo a seguir vemos o histograma para a _feature_ Preço/m2, usando o método `plot.hist` do `Pandas`."
   ]
  },
  {
   "cell_type": "code",
   "execution_count": null,
   "metadata": {
    "id": "euMi4MljqwjG",
    "outputId": "78718a09-1d76-44ee-cf75-c9382d7e65f4",
    "tags": []
   },
   "outputs": [],
   "source": [
    "ax = (df['pm2']).plot.hist(bins=50, edgecolor='black', figsize=(4, 4))\n",
    "ax.set_xlabel('Preço por metro quadrado (R$)')\n",
    "ax.set_ylabel('No de Ocorrências')\n",
    "ax.set_xlim(-500, 50000)\n",
    "\n",
    "plt.tight_layout()\n",
    "plt.show()"
   ]
  },
  {
   "cell_type": "markdown",
   "metadata": {
    "id": "Bl3XkANZqwjG"
   },
   "source": [
    "O gráfico de _densidade_ é uma alternativa aos histogramas, uma vez que pode fornecer diferentes insights acerca da distribuição dos dados, podendo ser entendido como uma versão _suavizada_ do histrograma."
   ]
  },
  {
   "cell_type": "code",
   "execution_count": null,
   "metadata": {
    "id": "bSBOwKeCqwjH",
    "outputId": "7399a0fc-13e9-4b49-b1f6-97b3b564498e",
    "tags": []
   },
   "outputs": [],
   "source": [
    "ax = (df['pm2']).plot.hist(density=True, bins=50, edgecolor='black', figsize=(4, 4))\n",
    "df['pm2'].plot.density(ax=ax, linewidth=4)\n",
    "ax.set_xlabel('Preço por metro quadrado (R$)')\n",
    "ax.set_ylabel('No de Ocorrências')\n",
    "ax.set_xlim(-500, 50000)\n",
    "plt.tight_layout()\n",
    "plt.show()"
   ]
  },
  {
   "cell_type": "markdown",
   "metadata": {},
   "source": [
    "# Correlação\n",
    "**Correlação**: uma medida da extensão da interdependência linear entre as variáveis.\n",
    "    \n",
    "Calculando a **correlação** entre as features do nosso dataset, usando o método `corr` da bilbioteca `Pandas`."
   ]
  },
  {
   "cell_type": "code",
   "execution_count": null,
   "metadata": {},
   "outputs": [],
   "source": [
    "df.corr().round(2)"
   ]
  },
  {
   "cell_type": "markdown",
   "metadata": {},
   "source": [
    "Pela análise dessa tabela pode-se observar que existe uma **correlação alta** entre a _area_ e o _preco_, assim como entre o valor do _condominio_ e _preço_. Por outro lado,  existe uma **correlação fraca** entre a variável _vagas_ e _pm2_ (preço/m2). E uma **correlação mais fraca ainda (quase nula)** entre _quartos_ e _pm2_. Uma discussão mais detalhada a respeito do conceito de **correlação** será feita no Módulo de **Análise Exploratória dos Dados**."
   ]
  },
  {
   "cell_type": "markdown",
   "metadata": {},
   "source": [
    "<hr>"
   ]
  },
  {
   "cell_type": "markdown",
   "metadata": {},
   "source": [
    "## Direitos Autorais"
   ]
  },
  {
   "cell_type": "markdown",
   "metadata": {},
   "source": [
    "[APL Data Intelligence](https://linktr.ee/APLdataintelligence)&#8482;  2021. Este notebook Python e seu código fonte estão liberados sob os termos da [Licença do MIT](https://bigdatauniversity.com/mit-license/)."
   ]
  }
 ],
 "metadata": {
  "colab": {
   "name": "Chapter 1 - Exploratory Data Analysis.ipynb",
   "provenance": []
  },
  "kernelspec": {
   "display_name": "Python 3",
   "language": "python",
   "name": "python3"
  },
  "language_info": {
   "codemirror_mode": {
    "name": "ipython",
    "version": 3
   },
   "file_extension": ".py",
   "mimetype": "text/x-python",
   "name": "python",
   "nbconvert_exporter": "python",
   "pygments_lexer": "ipython3",
   "version": "3.8.8"
  }
 },
 "nbformat": 4,
 "nbformat_minor": 4
}

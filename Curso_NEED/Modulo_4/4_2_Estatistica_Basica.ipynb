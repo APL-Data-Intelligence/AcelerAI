{
 "cells": [
  {
   "cell_type": "markdown",
   "metadata": {},
   "source": [
    "</a>\n",
    "    <img src=\"../imagens/logo_APL.png\" width=\"400\" align=\"center\">\n",
    "</a>"
   ]
  },
  {
   "cell_type": "markdown",
   "metadata": {
    "id": "E93lFiSCqwim"
   },
   "source": [
    "<h1>Estatística Básica em Python</h1>"
   ]
  },
  {
   "cell_type": "markdown",
   "metadata": {},
   "source": [
    "<p><strong>Bem vindo!</strong> Neste notebook serão abordados como alguns dos conceitos de estátistica podem ser codificados em <strong>Python</strong>. Ao final, espera-se que você seja capaz de você usar algumas das ferramentas de análise estatística de dados com Python.</p>"
   ]
  },
  {
   "cell_type": "markdown",
   "metadata": {},
   "source": [
    "<h2>Conteúdo:</h2>\n",
    "<div class=\"alert alert-block alert-info\" style=\"margin-top: 20px\">\n",
    "        <li> Introdução </li>\n",
    "        <li> Estimativas de Medidas de Tendência Central </li>     \n",
    "        <li> Estimativas de Variabilidade </li>   \n",
    "        <li> Percentis e Boxplots </li> \n",
    "        <li> Histogramas e Tabelas de Frequência </li>     \n",
    "        <li> Correlação </li>   \n",
    "</div>\n",
    "\n",
    "<hr>"
   ]
  },
  {
   "cell_type": "markdown",
   "metadata": {},
   "source": [
    "# Introdução"
   ]
  },
  {
   "cell_type": "markdown",
   "metadata": {},
   "source": [
    "Vamos codificar algumas das principais ferramentas estatísticas, como cálculo da média, desvio padrão, correlação, entre outros. \n",
    "\n",
    "Iniciamos carregando os pacotes `Python` necessários:"
   ]
  },
  {
   "cell_type": "code",
   "execution_count": 1,
   "metadata": {
    "id": "2dwoEXGNqwiz",
    "tags": []
   },
   "outputs": [],
   "source": [
    "%matplotlib inline\n",
    "\n",
    "import pandas as pd\n",
    "import numpy as np\n",
    "from scipy.stats import trim_mean\n",
    "from statsmodels import robust\n",
    "\n",
    "import seaborn as sns\n",
    "import matplotlib.pylab as plt"
   ]
  },
  {
   "cell_type": "markdown",
   "metadata": {
    "id": "pZi4XvoDqwi3"
   },
   "source": [
    "# Estimativas de Medidas de Tendência Central"
   ]
  },
  {
   "cell_type": "markdown",
   "metadata": {},
   "source": [
    "Vamos começar lendo o nosso dataset."
   ]
  },
  {
   "cell_type": "code",
   "execution_count": 2,
   "metadata": {
    "id": "oKjc2PmHqwi3",
    "outputId": "d4514a5c-ac26-4064-a6d8-0246aacfc318",
    "tags": []
   },
   "outputs": [
    {
     "name": "stdout",
     "output_type": "stream",
     "text": [
      "   condominio  quartos  suites  vagas  area    bairro   preco       pm2\n",
      "0         350        1     0.0    1.0    21  Botafogo  340000  16190.48\n",
      "1         800        1     0.0    1.0    64  Botafogo  770000  12031.25\n",
      "2         674        1     0.0    1.0    61  Botafogo  600000   9836.07\n",
      "3         700        1     1.0    1.0    70  Botafogo  700000  10000.00\n",
      "4         440        1     0.0    1.0    44  Botafogo  515000  11704.55\n",
      "5         917        1     1.0    1.0    60  Botafogo  630000  10500.00\n",
      "6         850        1     1.0    1.0    65  Botafogo  740000  11384.62\n",
      "7         350        1     1.0    1.0    43  Botafogo  570000  13255.81\n"
     ]
    }
   ],
   "source": [
    "df = pd.read_csv(\"dados.csv\")\n",
    "print(df.head(8))"
   ]
  },
  {
   "cell_type": "markdown",
   "metadata": {
    "id": "TfkUd2kjqwi5"
   },
   "source": [
    "Calcule a média, a média truncada e a mediana para o **Preço**. Para cálculo da média e mediana podemos usar, respectivamente, os métodos `mean` e` median` da biblioteca **Pandas**. Entretanto, a média truncada requer a função `trim_mean` da biblioteca **Scipy.Stats**.\n",
    "\n",
    "Para facilitar a visualização, apresentamos apenas duas casas decimais usando o método `round()`."
   ]
  },
  {
   "cell_type": "code",
   "execution_count": 3,
   "metadata": {
    "id": "nJlQtwcKqwi5",
    "outputId": "7ce6dcd1-8f36-40a3-a95e-ada1ec078372",
    "tags": []
   },
   "outputs": [
    {
     "name": "stdout",
     "output_type": "stream",
     "text": [
      "Media = R$ 1229410.15.\n"
     ]
    }
   ],
   "source": [
    "print(\"Media = R$ {}.\".format(round(df['preco'].mean(),2)))"
   ]
  },
  {
   "cell_type": "code",
   "execution_count": 4,
   "metadata": {
    "id": "PKMsqRK7qwi6",
    "outputId": "98f8fe7b-6f4e-47ca-8fa3-1ee463f27592",
    "tags": []
   },
   "outputs": [
    {
     "name": "stdout",
     "output_type": "stream",
     "text": [
      "Media Truncada = R$ 1027752.39.\n"
     ]
    }
   ],
   "source": [
    "print(\"Media Truncada = R$ {}.\".format(round(trim_mean(df['preco'], 0.1),2)))"
   ]
  },
  {
   "cell_type": "code",
   "execution_count": 5,
   "metadata": {
    "id": "BxLIleykqwi7",
    "outputId": "537750f4-d5c0-4deb-a01a-d2596bddae2b",
    "tags": []
   },
   "outputs": [
    {
     "name": "stdout",
     "output_type": "stream",
     "text": [
      "Mediana = R$ 900000.0.\n"
     ]
    }
   ],
   "source": [
    "print(\"Mediana = R$ {}.\".format(round(df['preco'].median(),2)))"
   ]
  },
  {
   "cell_type": "markdown",
   "metadata": {
    "id": "4kJgBIxYqwi7"
   },
   "source": [
    "Para cálculo da média ponderada usamos a biblioteca **Numpy**. Nesse exemplo, vamos calcular o **Preço** ponderado pela **Área**."
   ]
  },
  {
   "cell_type": "code",
   "execution_count": 6,
   "metadata": {
    "id": "tsyx37b_qwi8",
    "outputId": "a277c6ae-f2b7-461d-c882-d743eb4acf89",
    "tags": []
   },
   "outputs": [
    {
     "name": "stdout",
     "output_type": "stream",
     "text": [
      "Media do Preço ponderado pela Área = R$ 1656954.58.\n"
     ]
    }
   ],
   "source": [
    "print(\"Media do Preço ponderado pela Área = R$ {}.\".format(round(np.average(df['preco'], weights=df['area']),2)))"
   ]
  },
  {
   "cell_type": "markdown",
   "metadata": {
    "id": "l1pnC3PIqwi-"
   },
   "source": [
    "# Estimativas de Variabilidade"
   ]
  },
  {
   "cell_type": "markdown",
   "metadata": {
    "id": "B0QBBok_qwi-"
   },
   "source": [
    "Vamos continuar usando a coluna **Preço** do nosso dataset. Para cálculo do **Desvio Padrão**:"
   ]
  },
  {
   "cell_type": "code",
   "execution_count": 7,
   "metadata": {
    "id": "y5n5e6WJqwi_",
    "outputId": "5304c676-655f-4001-8a36-43dacabeb4c6",
    "tags": []
   },
   "outputs": [
    {
     "name": "stdout",
     "output_type": "stream",
     "text": [
      "Desvio Padrão = R$ 1155808.71.\n"
     ]
    }
   ],
   "source": [
    "print(\"Desvio Padrão = R$ {}.\".format(round(df['preco'].std(),2)))"
   ]
  },
  {
   "cell_type": "markdown",
   "metadata": {
    "id": "ongz3d8Xqwi_"
   },
   "source": [
    "O intervalo interquartil é calculado como a diferença do quantil 75% e 25%."
   ]
  },
  {
   "cell_type": "code",
   "execution_count": 8,
   "metadata": {
    "id": "f5POItL5qwjA",
    "outputId": "2840d2e5-4532-4fa5-c672-4ccb83f8c8f9",
    "tags": []
   },
   "outputs": [
    {
     "name": "stdout",
     "output_type": "stream",
     "text": [
      "Intervalo interquartil entre 75% e 25% = R$ 990000.0.\n"
     ]
    }
   ],
   "source": [
    "intervalo_interquartil = df['preco'].quantile(0.75) - df['preco'].quantile(0.25)\n",
    "print(\"Intervalo interquartil entre 75% e 25% = R$ {}.\".format(round(intervalo_interquartil,2)))"
   ]
  },
  {
   "cell_type": "markdown",
   "metadata": {
    "id": "BFk0hRBaqwjA"
   },
   "source": [
    "O desvio absoluto da mediana da mediana pode ser calculado com um método da biblioteca `statsmodels`."
   ]
  },
  {
   "cell_type": "code",
   "execution_count": 9,
   "metadata": {
    "id": "qysaZfTpqwjB",
    "outputId": "9190fc7f-07e0-48e7-e0e3-95e3a55d6813",
    "tags": []
   },
   "outputs": [
    {
     "name": "stdout",
     "output_type": "stream",
     "text": [
      "Desvio Padrão = R$ 607866.91.\n"
     ]
    }
   ],
   "source": [
    "print(\"Desvio Padrão = R$ {}.\".format(round(robust.scale.mad(df['preco']),2)))"
   ]
  },
  {
   "cell_type": "markdown",
   "metadata": {
    "id": "jITkFbSlqwjB"
   },
   "source": [
    "# Percentis e Boxplots\n",
    "A biblioteca **Pandas** disponibiliza o método `quantile`, de acordo com:"
   ]
  },
  {
   "cell_type": "code",
   "execution_count": 10,
   "metadata": {
    "id": "rei1rgoHqwjC",
    "outputId": "a2c58e5f-a023-43eb-80d1-4af4c52845ce",
    "tags": []
   },
   "outputs": [
    {
     "name": "stdout",
     "output_type": "stream",
     "text": [
      "0.05     340000.0\n",
      "0.25     560000.0\n",
      "0.50     900000.0\n",
      "0.75    1550000.0\n",
      "0.95    3000000.0\n",
      "Name: preco, dtype: float64\n"
     ]
    }
   ],
   "source": [
    "print(df['preco'].quantile([0.05, 0.25, 0.5, 0.75, 0.95]))"
   ]
  },
  {
   "cell_type": "markdown",
   "metadata": {
    "id": "F5cP37g7qwjD"
   },
   "source": [
    "A biblioteca **Pandas** fornece diversos gráficos para análise exploratória básica; um deles são _boxplots_. Nesse exemplo, vamos analisar a distribuição dos valores de _Preço/m2_:"
   ]
  },
  {
   "cell_type": "code",
   "execution_count": 11,
   "metadata": {
    "id": "0f1HQLOoqwjD",
    "outputId": "54cb03f2-c147-4f28-d9a3-0dbbc4361800",
    "tags": []
   },
   "outputs": [
    {
     "data": {
      "image/png": "[encoded data removed]",
      "text/plain": [
       "<Figure size 216x288 with 1 Axes>"
      ]
     },
     "metadata": {
      "needs_background": "light"
     },
     "output_type": "display_data"
    }
   ],
   "source": [
    "ax = (df['pm2']).plot.box(figsize=(3, 4))\n",
    "ax.set_ylabel('Preço/m2')\n",
    "\n",
    "plt.tight_layout()\n",
    "plt.show()"
   ]
  },
  {
   "cell_type": "markdown",
   "metadata": {},
   "source": [
    "Como vimos na aula sobre **Pandas**, agrupar os dados se baseando em certos critérios, por meio do comando `.groupby()`, pode ser usado para resolver diversos problemas. Abaixo agrupamos o nosso DataFrame pelos valores da coluna `\"bairro\"`, e em seguida aplicamos o `.mean()` para termos informação das médias agrupadas pelos valores da coluna bairros. "
   ]
  },
  {
   "cell_type": "code",
   "execution_count": 12,
   "metadata": {},
   "outputs": [
    {
     "data": {
      "text/html": [
       "<div>\n",
       "<style scoped>\n",
       "    .dataframe tbody tr th:only-of-type {\n",
       "        vertical-align: middle;\n",
       "    }\n",
       "\n",
       "    .dataframe tbody tr th {\n",
       "        vertical-align: top;\n",
       "    }\n",
       "\n",
       "    .dataframe thead th {\n",
       "        text-align: right;\n",
       "    }\n",
       "</style>\n",
       "<table border=\"1\" class=\"dataframe\">\n",
       "  <thead>\n",
       "    <tr style=\"text-align: right;\">\n",
       "      <th></th>\n",
       "      <th>condominio</th>\n",
       "      <th>quartos</th>\n",
       "      <th>suites</th>\n",
       "      <th>vagas</th>\n",
       "      <th>area</th>\n",
       "      <th>preco</th>\n",
       "      <th>pm2</th>\n",
       "    </tr>\n",
       "    <tr>\n",
       "      <th>bairro</th>\n",
       "      <th></th>\n",
       "      <th></th>\n",
       "      <th></th>\n",
       "      <th></th>\n",
       "      <th></th>\n",
       "      <th></th>\n",
       "      <th></th>\n",
       "    </tr>\n",
       "  </thead>\n",
       "  <tbody>\n",
       "    <tr>\n",
       "      <th>Botafogo</th>\n",
       "      <td>914.475570</td>\n",
       "      <td>2.107492</td>\n",
       "      <td>1.048860</td>\n",
       "      <td>1.159609</td>\n",
       "      <td>83.837134</td>\n",
       "      <td>1.010614e+06</td>\n",
       "      <td>12034.486189</td>\n",
       "    </tr>\n",
       "    <tr>\n",
       "      <th>Copacabana</th>\n",
       "      <td>991.861272</td>\n",
       "      <td>2.101156</td>\n",
       "      <td>1.034682</td>\n",
       "      <td>1.080925</td>\n",
       "      <td>101.855491</td>\n",
       "      <td>1.216344e+06</td>\n",
       "      <td>11965.298699</td>\n",
       "    </tr>\n",
       "    <tr>\n",
       "      <th>Grajaú</th>\n",
       "      <td>619.940928</td>\n",
       "      <td>2.097046</td>\n",
       "      <td>0.970464</td>\n",
       "      <td>1.130802</td>\n",
       "      <td>79.949367</td>\n",
       "      <td>4.788869e+05</td>\n",
       "      <td>6145.624473</td>\n",
       "    </tr>\n",
       "    <tr>\n",
       "      <th>Gávea</th>\n",
       "      <td>985.234146</td>\n",
       "      <td>2.058537</td>\n",
       "      <td>1.029268</td>\n",
       "      <td>1.200000</td>\n",
       "      <td>88.497561</td>\n",
       "      <td>1.454571e+06</td>\n",
       "      <td>16511.582780</td>\n",
       "    </tr>\n",
       "    <tr>\n",
       "      <th>Ipanema</th>\n",
       "      <td>1357.120996</td>\n",
       "      <td>2.181495</td>\n",
       "      <td>1.192171</td>\n",
       "      <td>1.220641</td>\n",
       "      <td>100.615658</td>\n",
       "      <td>2.033096e+06</td>\n",
       "      <td>19738.407794</td>\n",
       "    </tr>\n",
       "    <tr>\n",
       "      <th>Leblon</th>\n",
       "      <td>1260.010714</td>\n",
       "      <td>2.207143</td>\n",
       "      <td>1.064286</td>\n",
       "      <td>1.164286</td>\n",
       "      <td>91.832143</td>\n",
       "      <td>1.946193e+06</td>\n",
       "      <td>20761.351036</td>\n",
       "    </tr>\n",
       "    <tr>\n",
       "      <th>Tijuca</th>\n",
       "      <td>681.175953</td>\n",
       "      <td>2.131965</td>\n",
       "      <td>0.944282</td>\n",
       "      <td>1.143695</td>\n",
       "      <td>81.457478</td>\n",
       "      <td>5.750780e+05</td>\n",
       "      <td>7149.804985</td>\n",
       "    </tr>\n",
       "  </tbody>\n",
       "</table>\n",
       "</div>"
      ],
      "text/plain": [
       "             condominio   quartos    suites     vagas        area  \\\n",
       "bairro                                                              \n",
       "Botafogo     914.475570  2.107492  1.048860  1.159609   83.837134   \n",
       "Copacabana   991.861272  2.101156  1.034682  1.080925  101.855491   \n",
       "Grajaú       619.940928  2.097046  0.970464  1.130802   79.949367   \n",
       "Gávea        985.234146  2.058537  1.029268  1.200000   88.497561   \n",
       "Ipanema     1357.120996  2.181495  1.192171  1.220641  100.615658   \n",
       "Leblon      1260.010714  2.207143  1.064286  1.164286   91.832143   \n",
       "Tijuca       681.175953  2.131965  0.944282  1.143695   81.457478   \n",
       "\n",
       "                   preco           pm2  \n",
       "bairro                                  \n",
       "Botafogo    1.010614e+06  12034.486189  \n",
       "Copacabana  1.216344e+06  11965.298699  \n",
       "Grajaú      4.788869e+05   6145.624473  \n",
       "Gávea       1.454571e+06  16511.582780  \n",
       "Ipanema     2.033096e+06  19738.407794  \n",
       "Leblon      1.946193e+06  20761.351036  \n",
       "Tijuca      5.750780e+05   7149.804985  "
      ]
     },
     "execution_count": 12,
     "metadata": {},
     "output_type": "execute_result"
    }
   ],
   "source": [
    "df.groupby(\"bairro\").mean()"
   ]
  },
  {
   "cell_type": "markdown",
   "metadata": {
    "id": "wgcrZRauqwjU"
   },
   "source": [
    "Os gráficos boxplot da biblioteca **Pandas** não se restringem a apresentar uma única variável. No exemplo a seguir, os dados relativos ao Preço foram agrupados por uma coluna diferente, o bairro."
   ]
  },
  {
   "cell_type": "code",
   "execution_count": 13,
   "metadata": {
    "id": "-9xynH8rqwjV",
    "outputId": "c42a1255-ce78-4593-f0f3-7c83e0cd552f",
    "tags": []
   },
   "outputs": [
    {
     "data": {
      "image/png": "[encoded data removed]",
      "text/plain": [
       "<Figure size 360x360 with 1 Axes>"
      ]
     },
     "metadata": {
      "needs_background": "light"
     },
     "output_type": "display_data"
    }
   ],
   "source": [
    "ax = df.boxplot(by='bairro', column='preco',\n",
    "                           figsize=(5, 5))\n",
    "ax.set_xlabel('')\n",
    "ax.set_ylabel('Preço (R$)')\n",
    "ax.get_figure().gca().set_title(\"\")\n",
    "plt.suptitle('Variação do Preço por Bairro')\n",
    "plt.xticks(rotation=45)\n",
    "plt.tight_layout()\n",
    "plt.show()"
   ]
  },
  {
   "cell_type": "markdown",
   "metadata": {
    "id": "OEdNB6WTqwjE"
   },
   "source": [
    "# Histogramas"
   ]
  },
  {
   "cell_type": "markdown",
   "metadata": {
    "id": "91bas-AeqwjF"
   },
   "source": [
    "No exemplo a seguir vemos o histograma para a _feature_ Preço/m2, usando o método `plot.hist` do `Pandas`."
   ]
  },
  {
   "cell_type": "code",
   "execution_count": 14,
   "metadata": {
    "id": "euMi4MljqwjG",
    "outputId": "78718a09-1d76-44ee-cf75-c9382d7e65f4",
    "tags": []
   },
   "outputs": [
    {
     "data": {
      "image/png": "[encoded data removed]",
      "text/plain": [
       "<Figure size 288x288 with 1 Axes>"
      ]
     },
     "metadata": {
      "needs_background": "light"
     },
     "output_type": "display_data"
    }
   ],
   "source": [
    "ax = (df['pm2']).plot.hist(bins=50, edgecolor='black', figsize=(4, 4))\n",
    "ax.set_xlabel('Preço por metro quadrado (R$)')\n",
    "ax.set_ylabel('No de Ocorrências')\n",
    "ax.set_xlim(-500, 50000)\n",
    "\n",
    "plt.tight_layout()\n",
    "plt.show()"
   ]
  },
  {
   "cell_type": "markdown",
   "metadata": {
    "id": "Bl3XkANZqwjG"
   },
   "source": [
    "O gráfico de _densidade_ é uma alternativa aos histogramas, uma vez que pode fornecer diferentes insights acerca da distribuição dos dados, podendo ser entendido como uma versão _suavizada_ do histrograma."
   ]
  },
  {
   "cell_type": "code",
   "execution_count": 15,
   "metadata": {
    "id": "bSBOwKeCqwjH",
    "outputId": "7399a0fc-13e9-4b49-b1f6-97b3b564498e",
    "tags": []
   },
   "outputs": [
    {
     "data": {
      "image/png": "[encoded data removed]",
      "text/plain": [
       "<Figure size 288x288 with 1 Axes>"
      ]
     },
     "metadata": {
      "needs_background": "light"
     },
     "output_type": "display_data"
    }
   ],
   "source": [
    "ax = (df['pm2']).plot.hist(density=True, bins=50, edgecolor='black', figsize=(4, 4))\n",
    "df['pm2'].plot.density(ax=ax, linewidth=4)\n",
    "ax.set_xlabel('Preço por metro quadrado (R$)')\n",
    "ax.set_ylabel('No de Ocorrências')\n",
    "ax.set_xlim(-500, 50000)\n",
    "plt.tight_layout()\n",
    "plt.show()"
   ]
  },
  {
   "cell_type": "markdown",
   "metadata": {},
   "source": [
    "# Correlação\n",
    "**Correlação**: uma medida da extensão da interdependência linear entre as variáveis.\n",
    "    \n",
    "Calculando a **correlação** entre as features do nosso dataset, usando o método `corr` da bilbioteca `Pandas`."
   ]
  },
  {
   "cell_type": "code",
   "execution_count": 16,
   "metadata": {},
   "outputs": [
    {
     "data": {
      "text/html": [
       "<div>\n",
       "<style scoped>\n",
       "    .dataframe tbody tr th:only-of-type {\n",
       "        vertical-align: middle;\n",
       "    }\n",
       "\n",
       "    .dataframe tbody tr th {\n",
       "        vertical-align: top;\n",
       "    }\n",
       "\n",
       "    .dataframe thead th {\n",
       "        text-align: right;\n",
       "    }\n",
       "</style>\n",
       "<table border=\"1\" class=\"dataframe\">\n",
       "  <thead>\n",
       "    <tr style=\"text-align: right;\">\n",
       "      <th></th>\n",
       "      <th>condominio</th>\n",
       "      <th>quartos</th>\n",
       "      <th>suites</th>\n",
       "      <th>vagas</th>\n",
       "      <th>area</th>\n",
       "      <th>preco</th>\n",
       "      <th>pm2</th>\n",
       "    </tr>\n",
       "  </thead>\n",
       "  <tbody>\n",
       "    <tr>\n",
       "      <th>condominio</th>\n",
       "      <td>1.00</td>\n",
       "      <td>0.42</td>\n",
       "      <td>0.31</td>\n",
       "      <td>0.36</td>\n",
       "      <td>0.65</td>\n",
       "      <td>0.74</td>\n",
       "      <td>0.49</td>\n",
       "    </tr>\n",
       "    <tr>\n",
       "      <th>quartos</th>\n",
       "      <td>0.42</td>\n",
       "      <td>1.00</td>\n",
       "      <td>0.27</td>\n",
       "      <td>0.35</td>\n",
       "      <td>0.68</td>\n",
       "      <td>0.41</td>\n",
       "      <td>0.01</td>\n",
       "    </tr>\n",
       "    <tr>\n",
       "      <th>suites</th>\n",
       "      <td>0.31</td>\n",
       "      <td>0.27</td>\n",
       "      <td>1.00</td>\n",
       "      <td>0.26</td>\n",
       "      <td>0.32</td>\n",
       "      <td>0.31</td>\n",
       "      <td>0.17</td>\n",
       "    </tr>\n",
       "    <tr>\n",
       "      <th>vagas</th>\n",
       "      <td>0.36</td>\n",
       "      <td>0.35</td>\n",
       "      <td>0.26</td>\n",
       "      <td>1.00</td>\n",
       "      <td>0.44</td>\n",
       "      <td>0.39</td>\n",
       "      <td>0.13</td>\n",
       "    </tr>\n",
       "    <tr>\n",
       "      <th>area</th>\n",
       "      <td>0.65</td>\n",
       "      <td>0.68</td>\n",
       "      <td>0.32</td>\n",
       "      <td>0.44</td>\n",
       "      <td>1.00</td>\n",
       "      <td>0.72</td>\n",
       "      <td>0.11</td>\n",
       "    </tr>\n",
       "    <tr>\n",
       "      <th>preco</th>\n",
       "      <td>0.74</td>\n",
       "      <td>0.41</td>\n",
       "      <td>0.31</td>\n",
       "      <td>0.39</td>\n",
       "      <td>0.72</td>\n",
       "      <td>1.00</td>\n",
       "      <td>0.68</td>\n",
       "    </tr>\n",
       "    <tr>\n",
       "      <th>pm2</th>\n",
       "      <td>0.49</td>\n",
       "      <td>0.01</td>\n",
       "      <td>0.17</td>\n",
       "      <td>0.13</td>\n",
       "      <td>0.11</td>\n",
       "      <td>0.68</td>\n",
       "      <td>1.00</td>\n",
       "    </tr>\n",
       "  </tbody>\n",
       "</table>\n",
       "</div>"
      ],
      "text/plain": [
       "            condominio  quartos  suites  vagas  area  preco   pm2\n",
       "condominio        1.00     0.42    0.31   0.36  0.65   0.74  0.49\n",
       "quartos           0.42     1.00    0.27   0.35  0.68   0.41  0.01\n",
       "suites            0.31     0.27    1.00   0.26  0.32   0.31  0.17\n",
       "vagas             0.36     0.35    0.26   1.00  0.44   0.39  0.13\n",
       "area              0.65     0.68    0.32   0.44  1.00   0.72  0.11\n",
       "preco             0.74     0.41    0.31   0.39  0.72   1.00  0.68\n",
       "pm2               0.49     0.01    0.17   0.13  0.11   0.68  1.00"
      ]
     },
     "execution_count": 16,
     "metadata": {},
     "output_type": "execute_result"
    }
   ],
   "source": [
    "df.corr().round(2)"
   ]
  },
  {
   "cell_type": "markdown",
   "metadata": {},
   "source": [
    "Pela análise dessa tabela pode-se observar que existe uma **correlação alta** entre a _area_ e o _preco_, assim como entre o valor do _condominio_ e _preço_. Por outro lado,  existe uma **correlação fraca** entre a variável _vagas_ e _pm2_ (preço/m2). E uma **correlação mais fraca ainda (quase nula)** entre _quartos_ e _pm2_. Uma discussão mais detalhada a respeito do conceito de **correlação** será feita no Módulo 4."
   ]
  }
 ],
 "metadata": {
  "colab": {
   "name": "Chapter 1 - Exploratory Data Analysis.ipynb",
   "provenance": []
  },
  "kernelspec": {
   "display_name": "Python 3",
   "language": "python",
   "name": "python3"
  },
  "language_info": {
   "codemirror_mode": {
    "name": "ipython",
    "version": 3
   },
   "file_extension": ".py",
   "mimetype": "text/x-python",
   "name": "python",
   "nbconvert_exporter": "python",
   "pygments_lexer": "ipython3",
   "version": "3.8.8"
  }
 },
 "nbformat": 4,
 "nbformat_minor": 4
}

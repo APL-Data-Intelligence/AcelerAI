{
 "cells": [
  {
   "cell_type": "markdown",
   "metadata": {},
   "source": [
    "<center>\n",
    "    <img src=\"imagens/logo_APL.png\" width=\"300\" alt=\"APL logo\"  />\n",
    "</center>\n",
    "\n",
    "<div class=\"alert alert-block alert-info\">\n",
    "\n",
    "<h1 align=center><font size = 6> Módulo 2: Python para Data Science  </font></h1>\n",
    "<h1 align=center><font size = 5>  <span style=\"color: black;\"> Módulo 2.1: Introdução ao Python </font></h1> \n",
    "\n",
    "</div>\n",
    "\n",
    "# Escrevendo seu primeiro programa em Python\n",
    "\n",
    "## Objetivo\n",
    "\n",
    "Após completar esse notebook você será capaz de:\n",
    "\n",
    "-   Escrever seu próprio código em Python\n",
    "-   Trabalhar com vários tipos de dados em Python\n",
    "-   Converter entre os tipos de dados\n",
    "-   Usar expressões e variáveis\n"
   ]
  },
  {
   "cell_type": "markdown",
   "metadata": {},
   "source": [
    "<h2>Table of Contents</h2>\n",
    "<div class=\"alert alert-block alert-info\" style=\"margin-top: 20px\">\n",
    "    <ul>\n",
    "        <li>\n",
    "            <a href=\"#hello\">Escrever um \"Hello World\" em Python</a>\n",
    "            <ul>\n",
    "                <li><a href=\"version\">Qual versão do Python estamos usando?</a></li>\n",
    "                <li><a href=\"comments\">Escrevendo comentários em Python</a></li>\n",
    "                <li><a href=\"errors\">Erros em Python</a></li>\n",
    "                <li><a href=\"python_error\">O Python sabe sobre o seu erro antes de executar o código?</a></li>\n",
    "                <li><a href=\"exercise\">Exercício: Seu primeiro programa</a></li>\n",
    "            </ul>\n",
    "        </li>\n",
    "        <li>\n",
    "            <a href=\"#types_objects\">Tipos de objetos em Python</a>\n",
    "            <ul>\n",
    "                <li><a href=\"int\">Inteiros</a></li>\n",
    "                <li><a href=\"float\">Floats</a></li>\n",
    "                <li><a href=\"convert\">Converter de um tipo de objeto em um tipo de objeto diferente</a></li>\n",
    "                <li><a href=\"bool\">Tipo de dado booleano</a></li>\n",
    "                <li><a href=\"exer_type\">Exercício: Tipos</a></li>\n",
    "            </ul>\n",
    "        </li>\n",
    "        <li>\n",
    "            <a href=\"#expressions\">Expressões e Variáveis</a>\n",
    "            <ul>\n",
    "                <li><a href=\"exp\">Expressões</a></li>\n",
    "                <li><a href=\"exer_exp\">Exercício: Expressões</a></li>\n",
    "                <li><a href=\"var\">Variáveis</a></li>\n",
    "                <li><a href=\"exer_exp_var\">Exercício: Expressões e Variáveis em Python</a></li>\n",
    "            </ul>\n",
    "        </li>\n",
    "    </ul>\n",
    "</div>\n",
    "\n",
    "<hr>\n"
   ]
  },
  {
   "cell_type": "markdown",
   "metadata": {},
   "source": [
    "<h2 id=\"hello\">Escrever um \"Hello World\" em Python</h2>\n"
   ]
  },
  {
   "cell_type": "markdown",
   "metadata": {},
   "source": [
    "Ao aprender uma nova linguagem de programação, é comum começar com um exemplo \"hello world\". Por mais simples que seja, essa única linha de código garantirá que sabemos como imprimir uma string na saída e como executar o código dentro das células de um notebook."
   ]
  },
  {
   "cell_type": "markdown",
   "metadata": {},
   "source": [
    "<hr/>\n",
    "<div class=\"alert alert-success alertsuccess\" style=\"margin-top: 20px\">\n",
    "[Dica]: Para executar o código Python na célula de código abaixo, clique na célula para selecioná-la e pressione <kbd>Shift</kbd> + <kbd>Enter</kbd>.\n",
    "</div>\n",
    "<hr/>\n"
   ]
  },
  {
   "cell_type": "code",
   "execution_count": 6,
   "metadata": {},
   "outputs": [
    {
     "output_type": "stream",
     "name": "stdout",
     "text": [
      "Olá, mundo!\n"
     ]
    }
   ],
   "source": [
    "# Tente executar esse código\n",
    "\n",
    "print('Olá, mundo!')"
   ]
  },
  {
   "cell_type": "markdown",
   "metadata": {},
   "source": [
    "Depois de executar a célula acima, você deve ver que o Python imprime <code>Olá, mundo!</code>. Parabéns por executar seu primeiro código Python!"
   ]
  },
  {
   "cell_type": "markdown",
   "metadata": {},
   "source": [
    "<hr/>\n",
    "<div class=\"alert alert-success alertsuccess\" style=\"margin-top: 20px\">\n",
    "    [Dica:] <code>print()</code> é uma função. Você passou a string <code>'Olá, mundo!'</code> como um argumento para instruir o Python sobre o que imprimir.\n",
    "</div>\n",
    "<hr/>\n"
   ]
  },
  {
   "cell_type": "markdown",
   "metadata": {},
   "source": [
    "<h3 id=\"version\">Qual versão do Python estamos usando?</h3>\n"
   ]
  },
  {
   "cell_type": "markdown",
   "metadata": {},
   "source": [
    "<p>\n",
    "     Existem duas versões populares da linguagem de programação Python em uso hoje: Python 2 e Python 3. A comunidade Python decidiu mudar do Python 2 para o Python 3, e muitas bibliotecas populares anunciaram que não suportarão mais o Python 2.\n",
    "</p>\n",
    "<p>\n",
    "     Como Python 3 é o futuro, neste curso iremos usá-lo exclusivamente. Como sabemos que nosso notebook é executado por um runtime Python 3? Podemos olhar no canto superior direito deste notebook e ver \"Python 3\".\n",
    "</p>\n",
    "<p>\n",
    "     Também podemos perguntar diretamente ao Python e obter uma resposta detalhada. Tente executar o seguinte código:\n",
    "</p>\n"
   ]
  },
  {
   "cell_type": "code",
   "execution_count": 7,
   "metadata": {},
   "outputs": [
    {
     "output_type": "stream",
     "name": "stdout",
     "text": [
      "3.6.9 (default, Jan 26 2021, 15:33:00) \n[GCC 8.4.0]\n"
     ]
    }
   ],
   "source": [
    "# Verificar a versão do Python\n",
    "\n",
    "import sys\n",
    "print(sys.version)"
   ]
  },
  {
   "cell_type": "markdown",
   "metadata": {},
   "source": [
    "<hr/>\n",
    "<div class=\"alert alert-success alertsuccess\" style=\"margin-top: 20px\">\n",
    "    [Dica:] <code>sys</code> é um módulo embutido que contém muitos parâmetros e funções específicos do sistema, incluindo a versão Python em uso. Antes de usá-lo, devemos usar <code>import</code> explicitamente.\n",
    "</div>\n",
    "<hr/>\n"
   ]
  },
  {
   "cell_type": "markdown",
   "metadata": {},
   "source": [
    "<h3 id=\"comments\">Escrevendo comentários Python</h3>\n"
   ]
  },
  {
   "cell_type": "markdown",
   "metadata": {},
   "source": [
    "<p>\n",
    "     Além de escrever o código, observe que é sempre uma boa ideia adicionar comentários ao seu código. Isso ajudará outras pessoas a entender o que você estava tentando realizar (a razão pela qual você escreveu um determinado trecho de código). Isso não apenas ajuda <strong> outras pessoas </strong> a entender seu código, mas também pode servir como um lembrete <strong> para você </strong> quando voltar a ele semanas ou meses depois. </p>\n",
    "\n",
    "<p>\n",
    "     Para escrever comentários em Python, use o símbolo numérico <code> # </code> antes de escrever seu comentário. Quando você executa seu código, o Python irá ignorar tudo após o <code> # </code> em uma determinada linha.\n",
    "</p>\n"
   ]
  },
  {
   "cell_type": "code",
   "execution_count": 8,
   "metadata": {},
   "outputs": [
    {
     "output_type": "stream",
     "name": "stdout",
     "text": [
      "Olá, mundo!\n"
     ]
    }
   ],
   "source": [
    "# Pratique escrever comentários\n",
    "\n",
    "print('Olá, mundo!') # Essa linha escreve uma string\n",
    "# print('Oi')"
   ]
  },
  {
   "cell_type": "markdown",
   "metadata": {},
   "source": [
    "<p>\n",
    "     Depois de executar a célula acima, você deve notar que <code> Esta linha escreve uma string </code> não apareceu na saída, porque era um comentário (e, portanto, ignorado pelo Python).\n",
    "</p>\n",
    "<p>\n",
    "     A segunda linha também não foi executada porque <code> print ('Oi') </code> também era precedido pelo sinal numérico (<code> # </code>)! Visto que este não é um comentário explicativo do programador, mas uma linha real de código, podemos dizer que o programador <em> comentou </em> aquela segunda linha de código.\n",
    "</p>\n"
   ]
  },
  {
   "cell_type": "markdown",
   "metadata": {},
   "source": [
    "<h3 id=\"errors\">Erros em Python</h3>\n"
   ]
  },
  {
   "cell_type": "markdown",
   "metadata": {},
   "source": [
    "<p> Todo mundo comete erros. Para muitos tipos de erros, o Python dirá que você cometeu um erro, exibindo uma mensagem de erro. É importante ler as mensagens de erro com atenção para realmente entender onde você cometeu um erro e como você pode corrigi-lo. </p>\n",
    "<p> Por exemplo, se você soletrar <code> print </code> como <code> frint</code>, o Python exibirá uma mensagem de erro. Experimente: </p>"
   ]
  },
  {
   "cell_type": "code",
   "execution_count": 9,
   "metadata": {},
   "outputs": [
    {
     "output_type": "error",
     "ename": "NameError",
     "evalue": "name 'frint' is not defined",
     "traceback": [
      "\u001b[0;31m---------------------------------------------------------------------------\u001b[0m",
      "\u001b[0;31mNameError\u001b[0m                                 Traceback (most recent call last)",
      "\u001b[0;32m<ipython-input-9-6cb32604495c>\u001b[0m in \u001b[0;36m<module>\u001b[0;34m\u001b[0m\n\u001b[1;32m      1\u001b[0m \u001b[0;31m# Print string mensagem de erro\u001b[0m\u001b[0;34m\u001b[0m\u001b[0;34m\u001b[0m\u001b[0;34m\u001b[0m\u001b[0m\n\u001b[1;32m      2\u001b[0m \u001b[0;34m\u001b[0m\u001b[0m\n\u001b[0;32m----> 3\u001b[0;31m \u001b[0mfrint\u001b[0m\u001b[0;34m(\u001b[0m\u001b[0;34m\"Hello, Python!\"\u001b[0m\u001b[0;34m)\u001b[0m\u001b[0;34m\u001b[0m\u001b[0;34m\u001b[0m\u001b[0m\n\u001b[0m",
      "\u001b[0;31mNameError\u001b[0m: name 'frint' is not defined"
     ]
    }
   ],
   "source": [
    "# Print string mensagem de erro\n",
    "\n",
    "frint(\"Hello, Python!\")"
   ]
  },
  {
   "cell_type": "markdown",
   "metadata": {},
   "source": [
    "<p> A mensagem de erro informa:\n",
    "<ol>\n",
    "     <li> onde ocorreu o erro (mais útil em grandes células de notebook ou scripts) e </li>\n",
    "     <li> que tipo de erro foi (NameError) </li>\n",
    "</ol>\n",
    "<p> Aqui, Python tentou executar a função <code> frint</code>, mas não conseguiu determinar o que é <code> frint </code>, pois não é uma função integrada e não foi definida anteriormente por nós também. </p>"
   ]
  },
  {
   "cell_type": "markdown",
   "metadata": {},
   "source": [
    "<p>\n",
    "     Você notará que se cometermos um tipo diferente de erro, ao esquecermos de fechar a string, obteremos um erro diferente (ou seja, um <code> SyntaxError</code>). Experimente abaixo:\n",
    "</p>\n"
   ]
  },
  {
   "cell_type": "code",
   "execution_count": 3,
   "metadata": {},
   "outputs": [
    {
     "output_type": "error",
     "ename": "SyntaxError",
     "evalue": "EOL while scanning string literal (<ipython-input-3-cb885df087ab>, line 3)",
     "traceback": [
      "\u001b[0;36m  File \u001b[0;32m\"<ipython-input-3-cb885df087ab>\"\u001b[0;36m, line \u001b[0;32m3\u001b[0m\n\u001b[0;31m    print(\"Hello, Python!)\u001b[0m\n\u001b[0m                          ^\u001b[0m\n\u001b[0;31mSyntaxError\u001b[0m\u001b[0;31m:\u001b[0m EOL while scanning string literal\n"
     ]
    }
   ],
   "source": [
    "# Tente ver o erro abaixo\n",
    "\n",
    "print(\"Hello, Python!)"
   ]
  },
  {
   "cell_type": "markdown",
   "metadata": {},
   "source": [
    "<h3 id=\"python_error\">O Python sabe sobre seu erro antes de executar seu código?</h3>\n"
   ]
  },
  {
   "cell_type": "markdown",
   "metadata": {},
   "source": [
    "Python é o que se chama de <em> linguagem interpretada</em>. As linguagens compiladas examinam todo o seu programa em tempo de compilação e são capazes de avisá-lo sobre toda uma classe de erros antes da execução. Em contraste, Python interpreta seu script linha por linha enquanto o executa. O Python irá parar de executar o programa inteiro quando encontrar um erro (a menos que o erro seja esperado e tratado pelo programador, um assunto mais avançado que abordaremos posteriormente neste curso)."
   ]
  },
  {
   "cell_type": "markdown",
   "metadata": {},
   "source": [
    "Tente executar o código na célula abaixo e veja o que acontece:"
   ]
  },
  {
   "cell_type": "code",
   "execution_count": 5,
   "metadata": {},
   "outputs": [
    {
     "output_type": "stream",
     "name": "stdout",
     "text": [
      "Isso será escrito\n"
     ]
    },
    {
     "output_type": "error",
     "ename": "NameError",
     "evalue": "name 'frint' is not defined",
     "traceback": [
      "\u001b[0;31m---------------------------------------------------------------------------\u001b[0m",
      "\u001b[0;31mNameError\u001b[0m                                 Traceback (most recent call last)",
      "\u001b[0;32m<ipython-input-5-30119619ac62>\u001b[0m in \u001b[0;36m<module>\u001b[0;34m\u001b[0m\n\u001b[1;32m      2\u001b[0m \u001b[0;34m\u001b[0m\u001b[0m\n\u001b[1;32m      3\u001b[0m \u001b[0mprint\u001b[0m\u001b[0;34m(\u001b[0m\u001b[0;34m\"Isso será escrito\"\u001b[0m\u001b[0;34m)\u001b[0m\u001b[0;34m\u001b[0m\u001b[0;34m\u001b[0m\u001b[0m\n\u001b[0;32m----> 4\u001b[0;31m \u001b[0mfrint\u001b[0m\u001b[0;34m(\u001b[0m\u001b[0;34m\"Isso causará erro\"\u001b[0m\u001b[0;34m)\u001b[0m\u001b[0;34m\u001b[0m\u001b[0;34m\u001b[0m\u001b[0m\n\u001b[0m\u001b[1;32m      5\u001b[0m \u001b[0mprint\u001b[0m\u001b[0;34m(\u001b[0m\u001b[0;34m\"Isso NÃO será escrito\"\u001b[0m\u001b[0;34m)\u001b[0m\u001b[0;34m\u001b[0m\u001b[0;34m\u001b[0m\u001b[0m\n",
      "\u001b[0;31mNameError\u001b[0m: name 'frint' is not defined"
     ]
    }
   ],
   "source": [
    "# Print string e erro para saber a ordem de execução\n",
    "\n",
    "print(\"Isso será escrito\")\n",
    "frint(\"Isso causará erro\")\n",
    "print(\"Isso NÃO será escrito\")"
   ]
  },
  {
   "cell_type": "markdown",
   "metadata": {},
   "source": [
    "<h3 id=\"exercise\">Exercício: Seu primeiro programa</h3>\n"
   ]
  },
  {
   "cell_type": "markdown",
   "metadata": {},
   "source": [
    "<p> Gerações de programadores começaram suas carreiras de programação simplesmente imprimindo \"Olá, mundo!\". Você estará seguindo os passos deles. </p>\n",
    "<p> Na célula de código abaixo, use a função <code> print()</code> para imprimir a frase: <code> Olá, mundo!</code> </p>\n"
   ]
  },
  {
   "cell_type": "code",
   "execution_count": null,
   "metadata": {},
   "outputs": [],
   "source": [
    "# Escreva seu código abaixo. Não se esqueça de pressionar Shift + Enter para executar a célula\n"
   ]
  },
  {
   "cell_type": "markdown",
   "metadata": {},
   "source": [
    "<details><summary>Clique aqui para ver a solução</summary>\n",
    "\n",
    "```python\n",
    "print(\"Olá, mundo!\")\n",
    "\n",
    "```\n",
    "\n",
    "</details>\n"
   ]
  },
  {
   "cell_type": "markdown",
   "metadata": {},
   "source": [
    "<p> Agora, vamos aprimorar seu código com um comentário. Na célula de código abaixo, imprima a frase: <code> Hello, world! </code> e comente com a frase <code> Imprima o tradicional hello world </code> tudo em uma linha de código. </p>\n"
   ]
  },
  {
   "cell_type": "code",
   "execution_count": null,
   "metadata": {},
   "outputs": [],
   "source": [
    "# Escreva seu código abaixo. Não se esqueça de pressionar Shift + Enter para executar a célula\n"
   ]
  },
  {
   "cell_type": "markdown",
   "metadata": {},
   "source": [
    "<details><summary>Clique aqui para ver a solução</summary>\n",
    "\n",
    "```python\n",
    "print(\"Hello, world!\") # Imprima o tradicional hello world\n",
    "\n",
    "```\n",
    "\n",
    "</details>\n"
   ]
  },
  {
   "cell_type": "markdown",
   "metadata": {},
   "source": [
    "<hr>\n"
   ]
  },
  {
   "cell_type": "markdown",
   "metadata": {},
   "source": [
    "<h2 id=\"types_objects\" align=\"center\">Tipos de objetos em Python</h2>\n"
   ]
  },
  {
   "cell_type": "markdown",
   "metadata": {},
   "source": [
    "<p> Python é uma linguagem orientada a objetos. Existem muitos tipos diferentes de objetos em Python. Vamos começar com os tipos de objetos mais comuns: <i> strings </i>, <i> inteiros </i> e <i> flutuantes </i>. Sempre que você escreve palavras (texto) em Python, está usando <i> strings de caracteres </i> (strings para abreviar). Os números mais comuns, por outro lado, são <i> inteiros </i> (por exemplo, -1, 0, 100) e <i> flutuantes </i>, que representam números reais (por exemplo, 3,14, -42,0). </p>"
   ]
  },
  {
   "cell_type": "markdown",
   "metadata": {},
   "source": [
    "<a align=\"center\">\n",
    "    <img src=\"https://cf-courses-data.s3.us.cloud-object-storage.appdomain.cloud/IBMDeveloperSkillsNetwork-PY0101EN-SkillsNetwork/labs/Module%201/images/TypesObjects.png\" width=\"600\">\n",
    "</a>\n"
   ]
  },
  {
   "cell_type": "markdown",
   "metadata": {},
   "source": [
    "<p> As células de código a seguir contêm alguns exemplos. </p>"
   ]
  },
  {
   "cell_type": "code",
   "execution_count": null,
   "metadata": {},
   "outputs": [],
   "source": [
    "# Inteiro\n",
    "\n",
    "11"
   ]
  },
  {
   "cell_type": "code",
   "execution_count": null,
   "metadata": {},
   "outputs": [],
   "source": [
    "# Float\n",
    "\n",
    "2.14"
   ]
  },
  {
   "cell_type": "code",
   "execution_count": null,
   "metadata": {},
   "outputs": [],
   "source": [
    "# String\n",
    "\n",
    "\"Hello, Python 101!\""
   ]
  },
  {
   "cell_type": "markdown",
   "metadata": {},
   "source": [
    "<p> Você pode fazer com que o Python informe o tipo de uma expressão usando a função interna <code> type()</code>. Você notará que Python se refere a inteiros como <code> int</code>, flutuantes como <code> float</code> e cadeias de caracteres como <code> str</code>. </p>"
   ]
  },
  {
   "cell_type": "code",
   "execution_count": null,
   "metadata": {},
   "outputs": [],
   "source": [
    "# Tipo do número 12\n",
    "\n",
    "type(12)"
   ]
  },
  {
   "cell_type": "code",
   "execution_count": null,
   "metadata": {},
   "outputs": [],
   "source": [
    "# Tipo do número 2.14\n",
    "\n",
    "type(2.14)"
   ]
  },
  {
   "cell_type": "code",
   "execution_count": null,
   "metadata": {},
   "outputs": [],
   "source": [
    "# Tipo da frase \"Hello, Python 101!\"\n",
    "\n",
    "type(\"Hello, Python 101!\")"
   ]
  },
  {
   "cell_type": "markdown",
   "metadata": {},
   "source": [
    "<p> Na célula de código abaixo, use a função <code> type()</code> para verificar o tipo de objeto de <code> 12.0</code>.\n"
   ]
  },
  {
   "cell_type": "code",
   "execution_count": null,
   "metadata": {},
   "outputs": [],
   "source": [
    "# Escreva seu código abaixo. Não se esqueça de pressionar Shift + Enter para executar a célula\n"
   ]
  },
  {
   "cell_type": "markdown",
   "metadata": {},
   "source": [
    "<details><summary>Clique aqui para ver a solução</summary>\n",
    "\n",
    "```python\n",
    "type(12.0)\n",
    "\n",
    "```\n",
    "\n",
    "</details>\n"
   ]
  },
  {
   "cell_type": "markdown",
   "metadata": {},
   "source": [
    "<h3 id=\"int\">Inteiros</h3>\n"
   ]
  },
  {
   "cell_type": "markdown",
   "metadata": {},
   "source": [
    "<p> Aqui estão alguns exemplos de inteiros. Os inteiros podem ser números negativos ou positivos: </p>"
   ]
  },
  {
   "cell_type": "markdown",
   "metadata": {},
   "source": [
    "<a align=\"center\">\n",
    "    <img src=\"https://cf-courses-data.s3.us.cloud-object-storage.appdomain.cloud/IBMDeveloperSkillsNetwork-PY0101EN-SkillsNetwork/labs/Module%201/images/TypesInt.png\" width=\"600\">\n",
    "</a>\n"
   ]
  },
  {
   "cell_type": "markdown",
   "metadata": {},
   "source": [
    "<p> Podemos verificar esse é o caso usando, você adivinhou, a função <code> type () </code>:"
   ]
  },
  {
   "cell_type": "code",
   "execution_count": null,
   "metadata": {},
   "outputs": [],
   "source": [
    "# Escreva o tipo de -1\n",
    "\n",
    "type(-1)"
   ]
  },
  {
   "cell_type": "code",
   "execution_count": null,
   "metadata": {},
   "outputs": [],
   "source": [
    "# Escreva o tipo de 4\n",
    "\n",
    "type(4)"
   ]
  },
  {
   "cell_type": "code",
   "execution_count": null,
   "metadata": {},
   "outputs": [],
   "source": [
    "# Escreva o tipo de 0\n",
    "\n",
    "type(0)"
   ]
  },
  {
   "cell_type": "markdown",
   "metadata": {},
   "source": [
    "<h3 id=\"float\">Floats</h3> \n"
   ]
  },
  {
   "cell_type": "markdown",
   "metadata": {},
   "source": [
    "<p> Floats representam números reais; eles são um superconjunto de números inteiros, mas também incluem \"números com decimais\". Existem algumas limitações quando se trata de máquinas que representam números reais, mas os números de ponto flutuante são uma boa representação na maioria dos casos. Você pode aprender mais sobre as especificações de floats para seu ambiente de execução, verificando o valor de <code> sys.float_info</code>. Isso também informará qual é o maior e o menor número que pode ser representado com eles. </p>\n",
    "\n",
    "<p> Mais uma vez, pode testar alguns exemplos com a função <code> type()</code>:\n"
   ]
  },
  {
   "cell_type": "code",
   "execution_count": 2,
   "metadata": {},
   "outputs": [
    {
     "output_type": "execute_result",
     "data": {
      "text/plain": [
       "float"
      ]
     },
     "metadata": {},
     "execution_count": 2
    }
   ],
   "source": [
    "# Escreva o tipo de 1.0\n",
    "\n",
    "type(1.0) # Perceba que 1 é int, e 1.0 é float"
   ]
  },
  {
   "cell_type": "code",
   "execution_count": 3,
   "metadata": {},
   "outputs": [
    {
     "output_type": "execute_result",
     "data": {
      "text/plain": [
       "float"
      ]
     },
     "metadata": {},
     "execution_count": 3
    }
   ],
   "source": [
    "# Escreva o tipo de 0.5\n",
    "\n",
    "type(0.5)"
   ]
  },
  {
   "cell_type": "code",
   "execution_count": 4,
   "metadata": {},
   "outputs": [
    {
     "output_type": "execute_result",
     "data": {
      "text/plain": [
       "float"
      ]
     },
     "metadata": {},
     "execution_count": 4
    }
   ],
   "source": [
    "# Escreva o tipo de 0.56\n",
    "\n",
    "type(0.56)"
   ]
  },
  {
   "cell_type": "code",
   "execution_count": 5,
   "metadata": {},
   "outputs": [
    {
     "output_type": "execute_result",
     "data": {
      "text/plain": [
       "sys.float_info(max=1.7976931348623157e+308, max_exp=1024, max_10_exp=308, min=2.2250738585072014e-308, min_exp=-1021, min_10_exp=-307, dig=15, mant_dig=53, epsilon=2.220446049250313e-16, radix=2, rounds=1)"
      ]
     },
     "metadata": {},
     "execution_count": 5
    }
   ],
   "source": [
    "# Configurações sobre o tipo float\n",
    "\n",
    "sys.float_info"
   ]
  },
  {
   "cell_type": "markdown",
   "metadata": {},
   "source": [
    "<h3 id=\"convert\">Converter de um tipo de objeto em um tipo de objeto diferente</h3>\n"
   ]
  },
  {
   "cell_type": "markdown",
   "metadata": {},
   "source": [
    "<p> Você pode alterar o tipo do objeto em Python; isso é chamado de typecasting. Por exemplo, você pode converter um <i> inteiro </i> em um <i> flutuante </i> (por exemplo, 2 para 2.0). </p>\n",
    "<p> Vamos tentar: </p>\n"
   ]
  },
  {
   "cell_type": "code",
   "execution_count": 6,
   "metadata": {},
   "outputs": [
    {
     "output_type": "execute_result",
     "data": {
      "text/plain": [
       "int"
      ]
     },
     "metadata": {},
     "execution_count": 6
    }
   ],
   "source": [
    "# Verificando que isso é um inteiro\n",
    "\n",
    "type(2)"
   ]
  },
  {
   "cell_type": "markdown",
   "metadata": {},
   "source": [
    "<h4> Conversão de inteiros em flutuantes </h4>\n",
    "<p> Vamos converter o inteiro 2 em flutuante: </p>\n"
   ]
  },
  {
   "cell_type": "code",
   "execution_count": null,
   "metadata": {},
   "outputs": [],
   "source": [
    "# Converte 2 para float\n",
    "\n",
    "float(2)"
   ]
  },
  {
   "cell_type": "code",
   "execution_count": 7,
   "metadata": {},
   "outputs": [
    {
     "output_type": "execute_result",
     "data": {
      "text/plain": [
       "float"
      ]
     },
     "metadata": {},
     "execution_count": 7
    }
   ],
   "source": [
    "# Converte inteiro 2 para float e verifica seu tipo\n",
    "\n",
    "type(float(2))"
   ]
  },
  {
   "cell_type": "markdown",
   "metadata": {},
   "source": [
    "<p> Quando convertemos um inteiro em um float, não alteramos realmente o valor (ou seja, o significando) do número. No entanto, se convertermos um float em um inteiro, podemos perder algumas informações. Por exemplo, se convertermos o float 1.1 em inteiro, obteremos 1 e perderemos as informações decimais (ou seja, 0.1): </p>\n"
   ]
  },
  {
   "cell_type": "code",
   "execution_count": 8,
   "metadata": {},
   "outputs": [
    {
     "output_type": "execute_result",
     "data": {
      "text/plain": [
       "1"
      ]
     },
     "metadata": {},
     "execution_count": 8
    }
   ],
   "source": [
    "# Converter 1.1 para integer resulta em perda de informação\n",
    "\n",
    "int(1.1)"
   ]
  },
  {
   "cell_type": "markdown",
   "metadata": {},
   "source": [
    "<h4>Convertendo de strings para inteiros ou floats</h4>\n"
   ]
  },
  {
   "cell_type": "markdown",
   "metadata": {},
   "source": [
    "<p> Às vezes, podemos ter uma string que contém um número dentro dela. Se for esse o caso, podemos converter aquela string que representa um número em um inteiro usando <code> int()</code>: </p>\n"
   ]
  },
  {
   "cell_type": "code",
   "execution_count": 9,
   "metadata": {},
   "outputs": [
    {
     "output_type": "execute_result",
     "data": {
      "text/plain": [
       "1"
      ]
     },
     "metadata": {},
     "execution_count": 9
    }
   ],
   "source": [
    "# Converte uma string em um inteiro\n",
    "\n",
    "int('1')"
   ]
  },
  {
   "cell_type": "markdown",
   "metadata": {},
   "source": [
    "<p> Mas se tentar fazer isso com uma string que não é uma correspondência perfeita para um número, você obterá um erro. Experimente o seguinte: </p>\n"
   ]
  },
  {
   "cell_type": "code",
   "execution_count": null,
   "metadata": {},
   "outputs": [],
   "source": [
    "# Converte uma string em um inteiro com erro\n",
    "\n",
    "int('1 or 2 people')"
   ]
  },
  {
   "cell_type": "markdown",
   "metadata": {},
   "source": [
    "<p> Você também pode converter strings contendo números de ponto flutuante em objetos <i> float </i>: </p>\n"
   ]
  },
  {
   "cell_type": "code",
   "execution_count": null,
   "metadata": {},
   "outputs": [],
   "source": [
    "# Converte a string \"1.2\" em um float\n",
    "\n",
    "float('1.2')"
   ]
  },
  {
   "cell_type": "markdown",
   "metadata": {},
   "source": [
    "<hr/>\n",
    "<div class=\"alert alert-success alertsuccess\" style=\"margin-top: 20px\">\n",
    "    [Dica:] Observe que as strings podem ser representadas com aspas simples (<code>'1.2'</code>) ou aspas duplas (<code>\"1.2\"</code>), mas você não pode misturar as duas (por exemplo, <code>\"1,2'</code>).\n",
    "</div>\n",
    "<hr/>\n"
   ]
  },
  {
   "cell_type": "markdown",
   "metadata": {},
   "source": [
    "<h4>Convertendo números em strings</h4>\n"
   ]
  },
  {
   "cell_type": "markdown",
   "metadata": {},
   "source": [
    "<p> Se podemos converter strings em números, é natural supor que podemos converter números em strings, certo? </p>\n"
   ]
  },
  {
   "cell_type": "code",
   "execution_count": null,
   "metadata": {},
   "outputs": [],
   "source": [
    "# Converte um int em uma string\n",
    "\n",
    "str(1)\n"
   ]
  },
  {
   "cell_type": "markdown",
   "metadata": {},
   "source": [
    "<p> E não há razão pela qual não devamos ser capazes de transformar floats em strings também: </p>\n"
   ]
  },
  {
   "cell_type": "code",
   "execution_count": null,
   "metadata": {},
   "outputs": [],
   "source": [
    "# Converte um float em uma string\n",
    "\n",
    "str(1.2)"
   ]
  },
  {
   "cell_type": "markdown",
   "metadata": {},
   "source": [
    "<h3 id=\"bool\">Tipo de dados booleano</h3>\n"
   ]
  },
  {
   "cell_type": "markdown",
   "metadata": {},
   "source": [
    "<p> <i>Booleano</i> é outro tipo importante em Python. Um objeto do tipo <i>Booleano</i> pode assumir um de dois valores: <code>True</code> ou <code>False</code>: </p>"
   ]
  },
  {
   "cell_type": "code",
   "execution_count": null,
   "metadata": {},
   "outputs": [],
   "source": [
    "# Valor verdadeiro\n",
    "\n",
    "True"
   ]
  },
  {
   "cell_type": "markdown",
   "metadata": {},
   "source": [
    "<p> Observe que o valor <code>True</code> possui um \"T\" maiúsculo. O mesmo é verdadeiro para <code>False</code> (ou seja, você deve usar \"F\" maiúsculo). </p>\n"
   ]
  },
  {
   "cell_type": "code",
   "execution_count": null,
   "metadata": {},
   "outputs": [],
   "source": [
    "# Valor falso\n",
    "False"
   ]
  },
  {
   "cell_type": "markdown",
   "metadata": {},
   "source": [
    "<p> Quando você pede ao Python para exibir o tipo de um objeto booleano, ele mostra <code> bool </code> que significa <i> boolean</i>: </p>\n"
   ]
  },
  {
   "cell_type": "code",
   "execution_count": null,
   "metadata": {},
   "outputs": [],
   "source": [
    "# Tipo de True\n",
    "\n",
    "type(True)"
   ]
  },
  {
   "cell_type": "code",
   "execution_count": null,
   "metadata": {},
   "outputs": [],
   "source": [
    "# Tipo de False\n",
    "\n",
    "type(False)"
   ]
  },
  {
   "cell_type": "markdown",
   "metadata": {},
   "source": [
    "<p> Podemos lançar objetos booleanos para outros tipos de dados. Se convertermos um booleano com valor <code> True</code> em um inteiro ou float, obteremos um. Se convertermos um booleano com valor <code> False</code> em um inteiro ou float, obteremos um zero. Da mesma forma, se convertermos um 1 em um Booleano, você obterá um <code> True</code>. E se convertermos um 0 em um Booleano, obteremos um <code> False</code>. Vamos tentar: </p>\n"
   ]
  },
  {
   "cell_type": "code",
   "execution_count": null,
   "metadata": {},
   "outputs": [],
   "source": [
    "# Converte True para int\n",
    "\n",
    "int(True)"
   ]
  },
  {
   "cell_type": "code",
   "execution_count": null,
   "metadata": {},
   "outputs": [],
   "source": [
    "# Converte 1 para booleamp\n",
    "\n",
    "bool(1)"
   ]
  },
  {
   "cell_type": "code",
   "execution_count": null,
   "metadata": {},
   "outputs": [],
   "source": [
    "# Converte 0 para booleano\n",
    "\n",
    "bool(0)"
   ]
  },
  {
   "cell_type": "code",
   "execution_count": null,
   "metadata": {},
   "outputs": [],
   "source": [
    "# Converte True para float\n",
    "\n",
    "float(True)"
   ]
  },
  {
   "cell_type": "markdown",
   "metadata": {},
   "source": [
    "<h3 id=\"exer_type\">Exercício: Tipos</h3>\n"
   ]
  },
  {
   "cell_type": "markdown",
   "metadata": {},
   "source": [
    "<p> Qual é o tipo de dados do resultado de: <code> 6/2</code>? </p>\n"
   ]
  },
  {
   "cell_type": "code",
   "execution_count": null,
   "metadata": {},
   "outputs": [],
   "source": [
    "# Escreva seu código abaixo. Não se esqueça de pressionar Shift + Enter para executar a célula\n"
   ]
  },
  {
   "cell_type": "markdown",
   "metadata": {},
   "source": [
    "<details><summary>Clique aqui para ver a solução</summary>\n",
    "\n",
    "```python\n",
    "type(6/2) # float\n",
    "\n",
    "```\n",
    "\n",
    "</details>\n"
   ]
  },
  {
   "cell_type": "markdown",
   "metadata": {},
   "source": [
    "<p> Qual é o tipo de resultado de: <code> 6 // 2</code>? (Observe a barra dupla <code> //</code>.) </p>"
   ]
  },
  {
   "cell_type": "code",
   "execution_count": null,
   "metadata": {},
   "outputs": [],
   "source": [
    "# Escreva seu código abaixo. Não se esqueça de pressionar Shift + Enter para executar a célula\n"
   ]
  },
  {
   "cell_type": "markdown",
   "metadata": {},
   "source": [
    "<details><summary>Clique aqui para ver a solução</summary>\n",
    "\n",
    "```python\n",
    "type(6//2) # int, pois as barras duplas são para divisão inteira \n",
    "\n",
    "```\n",
    "\n",
    "</details>\n"
   ]
  },
  {
   "cell_type": "markdown",
   "metadata": {},
   "source": [
    "<hr>\n"
   ]
  },
  {
   "cell_type": "markdown",
   "metadata": {},
   "source": [
    "<h2 id=\"expressions\">Expressões e Variáveis</h2>\n"
   ]
  },
  {
   "cell_type": "markdown",
   "metadata": {},
   "source": [
    "<h3 id=\"exp\">Expressões</h3>\n"
   ]
  },
  {
   "cell_type": "markdown",
   "metadata": {},
   "source": [
    "<p> As expressões em Python podem incluir operações entre tipos compatíveis (por exemplo, inteiros e floats). Por exemplo, operações aritméticas básicas, como adicionar vários números: </p>"
   ]
  },
  {
   "cell_type": "code",
   "execution_count": null,
   "metadata": {},
   "outputs": [],
   "source": [
    "# Adição\n",
    "\n",
    "43 + 60 + 16 + 41"
   ]
  },
  {
   "cell_type": "markdown",
   "metadata": {},
   "source": [
    "<p> Podemos realizar operações de subtração usando o operador menos. Neste caso, o resultado é um número negativo: </p>"
   ]
  },
  {
   "cell_type": "code",
   "execution_count": null,
   "metadata": {},
   "outputs": [],
   "source": [
    "# Subtração\n",
    "\n",
    "50 - 60"
   ]
  },
  {
   "cell_type": "markdown",
   "metadata": {},
   "source": [
    "<p> Podemos fazer multiplicação usando um asterisco: </p>\n"
   ]
  },
  {
   "cell_type": "code",
   "execution_count": null,
   "metadata": {},
   "outputs": [],
   "source": [
    "# Multiplicação\n",
    "\n",
    "5 * 5"
   ]
  },
  {
   "cell_type": "markdown",
   "metadata": {},
   "source": [
    "<p> Também podemos realizar a divisão com a barra: </p>\n"
   ]
  },
  {
   "cell_type": "code",
   "execution_count": null,
   "metadata": {},
   "outputs": [],
   "source": [
    "# Divisão\n",
    "\n",
    "25 / 5"
   ]
  },
  {
   "cell_type": "code",
   "execution_count": null,
   "metadata": {},
   "outputs": [],
   "source": [
    "# Divisão\n",
    "\n",
    "25 / 6"
   ]
  },
  {
   "cell_type": "markdown",
   "metadata": {},
   "source": [
    "<p> Como visto no questionário acima, podemos usar a barra dupla para a divisão inteira, onde o resultado é arredondado para o número inteiro mais próximo: </p>"
   ]
  },
  {
   "cell_type": "code",
   "execution_count": 11,
   "metadata": {},
   "outputs": [
    {
     "output_type": "execute_result",
     "data": {
      "text/plain": [
       "5"
      ]
     },
     "metadata": {},
     "execution_count": 11
    }
   ],
   "source": [
    "# Divisão inteira\n",
    "\n",
    "25 // 5"
   ]
  },
  {
   "cell_type": "code",
   "execution_count": null,
   "metadata": {},
   "outputs": [],
   "source": [
    "# Divisão inteira\n",
    "\n",
    "25 // 6"
   ]
  },
  {
   "cell_type": "markdown",
   "metadata": {},
   "source": [
    "<h3 id=\"exer_exp\">Exercício: Expressões</h3>\n"
   ]
  },
  {
   "cell_type": "markdown",
   "metadata": {},
   "source": [
    "<p> Vamos escrever uma expressão que calcule quantas horas existem em 160 minutos: </p>\n"
   ]
  },
  {
   "cell_type": "code",
   "execution_count": null,
   "metadata": {},
   "outputs": [],
   "source": [
    "# Escreva seu código abaixo. Não se esqueça de pressionar Shift + Enter para executar a célula\n"
   ]
  },
  {
   "cell_type": "markdown",
   "metadata": {},
   "source": [
    "<details><summary>Clique aqui para ver a solução</summary>\n",
    "\n",
    "```python\n",
    "160/60 \n",
    "\n",
    "# Ou\n",
    "\n",
    "160//60\n",
    "\n",
    "```\n",
    "\n",
    "</details>\n"
   ]
  },
  {
   "cell_type": "markdown",
   "metadata": {},
   "source": [
    "<p> Python segue convenções matemáticas bem aceitas ao avaliar expressões matemáticas. No exemplo a seguir, Python adiciona 30 ao resultado da multiplicação (ou seja, 120). </p>\n"
   ]
  },
  {
   "cell_type": "code",
   "execution_count": null,
   "metadata": {},
   "outputs": [],
   "source": [
    "# Expressão matemática\n",
    "\n",
    "30 + 2 * 60"
   ]
  },
  {
   "cell_type": "markdown",
   "metadata": {},
   "source": [
    "<p> E, assim como a matemática, as expressões entre parênteses têm prioridade. Portanto, o seguinte multiplica 32 por 60. </p>\n"
   ]
  },
  {
   "cell_type": "code",
   "execution_count": null,
   "metadata": {},
   "outputs": [],
   "source": [
    "# Expressão matemática\n",
    "\n",
    "(30 + 2) * 60"
   ]
  },
  {
   "cell_type": "markdown",
   "metadata": {},
   "source": [
    "<h3 id=\"var\">Variáveis</h3>\n"
   ]
  },
  {
   "cell_type": "markdown",
   "metadata": {},
   "source": [
    "<p> Assim como com a maioria das linguagens de programação, podemos armazenar valores em <i> variáveis</i>, para que possamos usá-los mais tarde. Por exemplo: </p>\n"
   ]
  },
  {
   "cell_type": "code",
   "execution_count": null,
   "metadata": {},
   "outputs": [],
   "source": [
    "# Armazena valor em variável\n",
    "\n",
    "x = 43 + 60 + 16 + 41"
   ]
  },
  {
   "cell_type": "markdown",
   "metadata": {},
   "source": [
    "<p> Para ver o valor de <code> x</code> em um Notebook, podemos simplesmente colocá-lo na última linha de uma célula: </p>\n"
   ]
  },
  {
   "cell_type": "code",
   "execution_count": null,
   "metadata": {},
   "outputs": [],
   "source": [
    "# Escreve o valor da variável\n",
    "\n",
    "x"
   ]
  },
  {
   "cell_type": "markdown",
   "metadata": {},
   "source": [
    "<p> Também podemos realizar operações em <code> x </code> e salvar o resultado em uma nova variável: </p>\n"
   ]
  },
  {
   "cell_type": "code",
   "execution_count": null,
   "metadata": {},
   "outputs": [],
   "source": [
    "# Use outra variável para armazenar o resultado da operação entre a variável e o valor\n",
    "\n",
    "y = x / 60\n",
    "y"
   ]
  },
  {
   "cell_type": "markdown",
   "metadata": {},
   "source": [
    "<p> Se salvarmos um valor em uma variável existente, o novo valor substituirá o valor anterior: </p>\n"
   ]
  },
  {
   "cell_type": "code",
   "execution_count": null,
   "metadata": {},
   "outputs": [],
   "source": [
    "# Sobrescreve variável com novo valor\n",
    "\n",
    "x = x / 60\n",
    "x"
   ]
  },
  {
   "cell_type": "markdown",
   "metadata": {},
   "source": [
    "<p> É uma boa prática usar nomes de variáveis significativos, para que você e outras pessoas possam ler o código e entendê-lo com mais facilidade: </p>\n"
   ]
  },
  {
   "cell_type": "code",
   "execution_count": null,
   "metadata": {},
   "outputs": [],
   "source": [
    "# Nomeie as variáveis de forma significativa\n",
    "\n",
    "total_min = 43 + 42 + 57 # Duração total dos álbuns em minutos\n",
    "total_min"
   ]
  },
  {
   "cell_type": "code",
   "execution_count": null,
   "metadata": {},
   "outputs": [],
   "source": [
    "# Nomeie as variáveis de forma significativa\n",
    "\n",
    "total_horas = total_min / 60 # Duração total dos álbuns em horas\n",
    "total_horas"
   ]
  },
  {
   "cell_type": "markdown",
   "metadata": {},
   "source": [
    "<p> Nas células acima, adicionamos a duração de três álbuns em minutos e os armazenamos em <code> total_min</code>. Em seguida, dividimos por 60 para calcular a duração total <code> total_horas</code> em horas. Você também pode fazer tudo de uma vez em uma única expressão, contanto que use parênteses para adicionar a duração do álbum antes de dividir, conforme mostrado abaixo. </p>"
   ]
  },
  {
   "cell_type": "code",
   "execution_count": null,
   "metadata": {},
   "outputs": [],
   "source": [
    "# Expressão complicada\n",
    "\n",
    "total_horas = (43 + 42 + 57) / 60  # Duração total em horas\n",
    "total_horas"
   ]
  },
  {
   "cell_type": "markdown",
   "metadata": {},
   "source": [
    "<p> Se você preferir ter o total de horas como um número inteiro, você pode, é claro, substituir a divisão de ponto flutuante pela divisão de número inteiro (ou seja, <code> //</code>). </p>\n"
   ]
  },
  {
   "cell_type": "markdown",
   "metadata": {},
   "source": [
    "<h3 id=\"exer_exp_var\">Exercícios: Expressões e Variáveis em Python</h3>\n"
   ]
  },
  {
   "cell_type": "markdown",
   "metadata": {},
   "source": [
    "<p>Qual é o valor de <code>x</code> onde <code>x = 3 + 2 * 2</code></p>\n"
   ]
  },
  {
   "cell_type": "code",
   "execution_count": null,
   "metadata": {},
   "outputs": [],
   "source": [
    "# Escreva seu código abaixo. Não se esqueça de pressionar Shift + Enter para executar a célula\n"
   ]
  },
  {
   "cell_type": "markdown",
   "metadata": {},
   "source": [
    "<details><summary>Clique aqui para ver a solução</summary>\n",
    "\n",
    "```python\n",
    "7\n",
    "\n",
    "```\n",
    "\n",
    "</details>\n"
   ]
  },
  {
   "cell_type": "markdown",
   "metadata": {},
   "source": [
    "<p>Qual é o valor de <code>y</code> onde <code>y = (3 + 2) * 2</code>?</p>\n"
   ]
  },
  {
   "cell_type": "code",
   "execution_count": null,
   "metadata": {},
   "outputs": [],
   "source": [
    "# Escreva seu código abaixo. Não se esqueça de pressionar Shift + Enter para executar a célula\n"
   ]
  },
  {
   "cell_type": "markdown",
   "metadata": {},
   "source": [
    "<details><summary>Clique aqui para ver a solução</summary>\n",
    "\n",
    "```python\n",
    "10\n",
    "\n",
    "```\n",
    "\n",
    "</details>\n"
   ]
  },
  {
   "cell_type": "markdown",
   "metadata": {},
   "source": [
    "<p>Qual é o valor de <code>z</code> onde <code>z = x + y</code>?</p>\n"
   ]
  },
  {
   "cell_type": "code",
   "execution_count": null,
   "metadata": {},
   "outputs": [],
   "source": [
    "# Escreva seu código abaixo. Não se esqueça de pressionar Shift + Enter para executar a célula\n"
   ]
  },
  {
   "cell_type": "markdown",
   "metadata": {},
   "source": [
    "<details><summary>Clique aqui para ver a solução</summary>\n",
    "\n",
    "```python\n",
    "17\n",
    "\n",
    "```\n",
    "\n",
    "</details>\n"
   ]
  },
  {
   "cell_type": "markdown",
   "metadata": {},
   "source": [
    "<hr>\n",
    "<h2> O último exercício! </h2>\n",
    "<p> Parabéns, você concluiu sua primeira lição e seu laboratório prático em Python. No entanto, há mais uma coisa que você precisa fazer. A comunidade de Data Science incentiva o compartilhamento de trabalho. A melhor maneira de compartilhar e apresentar seu trabalho é compartilhá-lo no GitHub. Ao compartilhar seu notebook no GitHub, você não apenas está construindo sua reputação com outros cientistas de dados, mas também pode exibi-la ao se candidatar a um emprego. Embora este tenha sido seu primeiro trabalho, nunca é cedo demais para começar a criar bons hábitos.\n",
    "<hr>\n"
   ]
  }
 ],
 "metadata": {
  "kernelspec": {
   "name": "python369jvsc74a57bd031f2aee4e71d21fbe5cf8b01ff0e069b9275f58929596ceb00d14d90e3e16cd6",
   "display_name": "Python 3.6.9 64-bit"
  },
  "language_info": {
   "codemirror_mode": {
    "name": "ipython",
    "version": 3
   },
   "file_extension": ".py",
   "mimetype": "text/x-python",
   "name": "python",
   "nbconvert_exporter": "python",
   "pygments_lexer": "ipython3",
   "version": "3.6.9"
  },
  "metadata": {
   "interpreter": {
    "hash": "31f2aee4e71d21fbe5cf8b01ff0e069b9275f58929596ceb00d14d90e3e16cd6"
   }
  }
 },
 "nbformat": 4,
 "nbformat_minor": 4
}
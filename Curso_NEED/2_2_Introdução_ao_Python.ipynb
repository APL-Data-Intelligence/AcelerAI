{
 "cells": [
  {
   "cell_type": "markdown",
   "metadata": {},
   "source": [
    "<center>\n",
    "    <img src=\"imagens/logo_APL.png\" width=\"300\" alt=\"APL logo\"  />\n",
    "</center>\n",
    "\n",
    "<div class=\"alert alert-block alert-info\">\n",
    "\n",
    "<h1 align=center><font size = 6> Módulo 2: Python para Data Science  </font></h1>\n",
    "<h1 align=center><font size = 5>  <span style=\"color: black;\"> Módulo 2.1: Introdução ao Python </font></h1> \n",
    "\n",
    "</div>\n",
    "\n",
    "# Escrevendo seu primeiro programa em Python\n",
    "\n",
    "## Objetivo\n",
    "\n",
    "Após completar esse notebook você será capaz de:\n",
    "\n",
    "-   Escrever seu próprio código em Python\n",
    "-   Trabalhar com vários tipos de dados em Python\n",
    "-   Converter entre os tipos de dados\n",
    "-   Usar expressões e variáveis\n"
   ]
  },
  {
   "cell_type": "markdown",
   "metadata": {},
   "source": [
    "<h2>Table of Contents</h2>\n",
    "<div class=\"alert alert-block alert-info\" style=\"margin-top: 20px\">\n",
    "    <ul>\n",
    "        <li>\n",
    "            <a href=\"#hello\">Say \"Hello\" to the world in Python</a>\n",
    "            <ul>\n",
    "                <li><a href=\"version\">What version of Python are we using?</a></li>\n",
    "                <li><a href=\"comments\">Writing comments in Python</a></li>\n",
    "                <li><a href=\"errors\">Errors in Python</a></li>\n",
    "                <li><a href=\"python_error\">Does Python know about your error before it runs your code?</a></li>\n",
    "                <li><a href=\"exercise\">Exercise: Your First Program</a></li>\n",
    "            </ul>\n",
    "        </li>\n",
    "        <li>\n",
    "            <a href=\"#types_objects\">Types of objects in Python</a>\n",
    "            <ul>\n",
    "                <li><a href=\"int\">Integers</a></li>\n",
    "                <li><a href=\"float\">Floats</a></li>\n",
    "                <li><a href=\"convert\">Converting from one object type to a different object type</a></li>\n",
    "                <li><a href=\"bool\">Boolean data type</a></li>\n",
    "                <li><a href=\"exer_type\">Exercise: Types</a></li>\n",
    "            </ul>\n",
    "        </li>\n",
    "        <li>\n",
    "            <a href=\"#expressions\">Expressions and Variables</a>\n",
    "            <ul>\n",
    "                <li><a href=\"exp\">Expressions</a></li>\n",
    "                <li><a href=\"exer_exp\">Exercise: Expressions</a></li>\n",
    "                <li><a href=\"var\">Variables</a></li>\n",
    "                <li><a href=\"exer_exp_var\">Exercise: Expression and Variables in Python</a></li>\n",
    "            </ul>\n",
    "        </li>\n",
    "    </ul>\n",
    "    <p>\n",
    "        Estimated time needed: <strong>25 min</strong>\n",
    "    </p>\n",
    "</div>\n",
    "\n",
    "<hr>\n"
   ]
  },
  {
   "cell_type": "markdown",
   "metadata": {},
   "source": [
    "<h2 id=\"hello\">Escrever um \"Hello World\" em Python</h2>\n"
   ]
  },
  {
   "cell_type": "markdown",
   "metadata": {},
   "source": [
    "Ao aprender uma nova linguagem de programação, é comum começar com um exemplo \"hello world\". Por mais simples que seja, essa única linha de código garantirá que sabemos como imprimir uma string na saída e como executar o código dentro das células de um notebook."
   ]
  },
  {
   "cell_type": "markdown",
   "metadata": {},
   "source": [
    "<hr/>\n",
    "<div class=\"alert alert-success alertsuccess\" style=\"margin-top: 20px\">\n",
    "[Dica]: Para executar o código Python na célula de código abaixo, clique na célula para selecioná-la e pressione <kbd>Shift</kbd> + <kbd>Enter</kbd>.\n",
    "</div>\n",
    "<hr/>\n"
   ]
  },
  {
   "cell_type": "code",
   "execution_count": 10,
   "metadata": {},
   "outputs": [
    {
     "output_type": "stream",
     "name": "stdout",
     "text": [
      "Olá, mundo!\n"
     ]
    }
   ],
   "source": [
    "# Tente executar esse código\n",
    "\n",
    "print('Olá, mundo!')"
   ]
  },
  {
   "cell_type": "markdown",
   "metadata": {},
   "source": [
    "Depois de executar a célula acima, você deve ver que o Python imprime <code>Olá, mundo!</code>. Parabéns por executar seu primeiro código Python!"
   ]
  },
  {
   "cell_type": "markdown",
   "metadata": {},
   "source": [
    "<hr/>\n",
    "<div class=\"alert alert-success alertsuccess\" style=\"margin-top: 20px\">\n",
    "    [Dica:] <code>print()</code> é uma função. Você passou a string <code>'Olá, mundo!'</code> como um argumento para instruir o Python sobre o que imprimir.\n",
    "</div>\n",
    "<hr/>\n"
   ]
  },
  {
   "cell_type": "markdown",
   "metadata": {},
   "source": [
    "<h3 id=\"version\">Qual versão do Python estamos usando?</h3>\n"
   ]
  },
  {
   "cell_type": "markdown",
   "metadata": {},
   "source": [
    "<p>\n",
    "     Existem duas versões populares da linguagem de programação Python em uso hoje: Python 2 e Python 3. A comunidade Python decidiu mudar do Python 2 para o Python 3, e muitas bibliotecas populares anunciaram que não suportarão mais o Python 2.\n",
    "</p>\n",
    "<p>\n",
    "     Como Python 3 é o futuro, neste curso iremos usá-lo exclusivamente. Como sabemos que nosso notebook é executado por um runtime Python 3? Podemos olhar no canto superior direito deste notebook e ver \"Python 3\".\n",
    "</p>\n",
    "<p>\n",
    "     Também podemos perguntar diretamente ao Python e obter uma resposta detalhada. Tente executar o seguinte código:\n",
    "</p>\n"
   ]
  },
  {
   "cell_type": "code",
   "execution_count": 11,
   "metadata": {},
   "outputs": [
    {
     "output_type": "stream",
     "name": "stdout",
     "text": [
      "3.6.9 (default, Jan 26 2021, 15:33:00) \n[GCC 8.4.0]\n"
     ]
    }
   ],
   "source": [
    "# Verificar a versão do Python\n",
    "\n",
    "import sys\n",
    "print(sys.version)"
   ]
  },
  {
   "cell_type": "markdown",
   "metadata": {},
   "source": [
    "<hr/>\n",
    "<div class=\"alert alert-success alertsuccess\" style=\"margin-top: 20px\">\n",
    "    [Dica:] <code>sys</code> é um módulo embutido que contém muitos parâmetros e funções específicos do sistema, incluindo a versão Python em uso. Antes de usá-lo, devemos usar <code>import</code> explicitamente.\n",
    "</div>\n",
    "<hr/>\n"
   ]
  },
  {
   "cell_type": "markdown",
   "metadata": {},
   "source": [
    "<h3 id=\"comments\">Escrevendo comentários Python</h3>\n"
   ]
  },
  {
   "cell_type": "markdown",
   "metadata": {},
   "source": [
    "<p>\n",
    "     Além de escrever o código, observe que é sempre uma boa ideia adicionar comentários ao seu código. Isso ajudará outras pessoas a entender o que você estava tentando realizar (a razão pela qual você escreveu um determinado trecho de código). Isso não apenas ajuda <strong> outras pessoas </strong> a entender seu código, mas também pode servir como um lembrete <strong> para você </strong> quando voltar a ele semanas ou meses depois. </p>\n",
    "\n",
    "<p>\n",
    "     Para escrever comentários em Python, use o símbolo numérico <code> # </code> antes de escrever seu comentário. Quando você executa seu código, o Python irá ignorar tudo após o <code> # </code> em uma determinada linha.\n",
    "</p>\n"
   ]
  },
  {
   "cell_type": "code",
   "execution_count": 12,
   "metadata": {},
   "outputs": [
    {
     "output_type": "stream",
     "name": "stdout",
     "text": [
      "Olá, mundo!\n"
     ]
    }
   ],
   "source": [
    "# Pratique escrever comentários\n",
    "\n",
    "print('Olá, mundo!') # Essa linha escreve uma string\n",
    "# print('Oi')"
   ]
  },
  {
   "cell_type": "markdown",
   "metadata": {},
   "source": [
    "<p>\n",
    "     Depois de executar a célula acima, você deve notar que <code> Esta linha escreve uma string </code> não apareceu na saída, porque era um comentário (e, portanto, ignorado pelo Python).\n",
    "</p>\n",
    "<p>\n",
    "     A segunda linha também não foi executada porque <code> print ('Oi') </code> também era precedido pelo sinal numérico (<code> # </code>)! Visto que este não é um comentário explicativo do programador, mas uma linha real de código, podemos dizer que o programador <em> comentou </em> aquela segunda linha de código.\n",
    "</p>\n"
   ]
  },
  {
   "cell_type": "markdown",
   "metadata": {},
   "source": [
    "<h3 id=\"errors\">Erros em Python</h3>\n"
   ]
  },
  {
   "cell_type": "markdown",
   "metadata": {},
   "source": [
    "<p> Todo mundo comete erros. Para muitos tipos de erros, o Python dirá que você cometeu um erro, exibindo uma mensagem de erro. É importante ler as mensagens de erro com atenção para realmente entender onde você cometeu um erro e como você pode corrigi-lo. </p>\n",
    "<p> Por exemplo, se você soletrar <code> print </code> como <code> frint</code>, o Python exibirá uma mensagem de erro. Experimente: </p>"
   ]
  },
  {
   "cell_type": "code",
   "execution_count": 1,
   "metadata": {},
   "outputs": [
    {
     "output_type": "error",
     "ename": "NameError",
     "evalue": "name 'frint' is not defined",
     "traceback": [
      "\u001b[0;31m---------------------------------------------------------------------------\u001b[0m",
      "\u001b[0;31mNameError\u001b[0m                                 Traceback (most recent call last)",
      "\u001b[0;32m<ipython-input-1-6cb32604495c>\u001b[0m in \u001b[0;36m<module>\u001b[0;34m\u001b[0m\n\u001b[1;32m      1\u001b[0m \u001b[0;31m# Print string mensagem de erro\u001b[0m\u001b[0;34m\u001b[0m\u001b[0;34m\u001b[0m\u001b[0;34m\u001b[0m\u001b[0m\n\u001b[1;32m      2\u001b[0m \u001b[0;34m\u001b[0m\u001b[0m\n\u001b[0;32m----> 3\u001b[0;31m \u001b[0mfrint\u001b[0m\u001b[0;34m(\u001b[0m\u001b[0;34m\"Hello, Python!\"\u001b[0m\u001b[0;34m)\u001b[0m\u001b[0;34m\u001b[0m\u001b[0;34m\u001b[0m\u001b[0m\n\u001b[0m",
      "\u001b[0;31mNameError\u001b[0m: name 'frint' is not defined"
     ]
    }
   ],
   "source": [
    "# Print string mensagem de erro\n",
    "\n",
    "frint(\"Hello, Python!\")"
   ]
  },
  {
   "cell_type": "markdown",
   "metadata": {},
   "source": [
    "<p> A mensagem de erro informa:\n",
    "<ol>\n",
    "     <li> onde ocorreu o erro (mais útil em grandes células de notebook ou scripts) e </li>\n",
    "     <li> que tipo de erro foi (NameError) </li>\n",
    "</ol>\n",
    "<p> Aqui, Python tentou executar a função <code> frint</code>, mas não conseguiu determinar o que é <code> frint </code>, pois não é uma função integrada e não foi definida anteriormente por nós também. </p>"
   ]
  },
  {
   "cell_type": "markdown",
   "metadata": {},
   "source": [
    "<p>\n",
    "     Você notará que se cometermos um tipo diferente de erro, ao esquecermos de fechar a string, obteremos um erro diferente (ou seja, um <code> SyntaxError</code>). Experimente abaixo:\n",
    "</p>\n"
   ]
  },
  {
   "cell_type": "code",
   "execution_count": 3,
   "metadata": {},
   "outputs": [
    {
     "output_type": "error",
     "ename": "SyntaxError",
     "evalue": "EOL while scanning string literal (<ipython-input-3-cb885df087ab>, line 3)",
     "traceback": [
      "\u001b[0;36m  File \u001b[0;32m\"<ipython-input-3-cb885df087ab>\"\u001b[0;36m, line \u001b[0;32m3\u001b[0m\n\u001b[0;31m    print(\"Hello, Python!)\u001b[0m\n\u001b[0m                          ^\u001b[0m\n\u001b[0;31mSyntaxError\u001b[0m\u001b[0;31m:\u001b[0m EOL while scanning string literal\n"
     ]
    }
   ],
   "source": [
    "# Tente ver o erro abaixo\n",
    "\n",
    "print(\"Hello, Python!)"
   ]
  },
  {
   "cell_type": "markdown",
   "metadata": {},
   "source": [
    "<h3 id=\"python_error\">O Python sabe sobre seu erro antes de executar seu código?</h3>\n"
   ]
  },
  {
   "cell_type": "markdown",
   "metadata": {},
   "source": [
    "Python é o que se chama de <em> linguagem interpretada</em>. As linguagens compiladas examinam todo o seu programa em tempo de compilação e são capazes de avisá-lo sobre toda uma classe de erros antes da execução. Em contraste, Python interpreta seu script linha por linha enquanto o executa. O Python irá parar de executar o programa inteiro quando encontrar um erro (a menos que o erro seja esperado e tratado pelo programador, um assunto mais avançado que abordaremos posteriormente neste curso)."
   ]
  },
  {
   "cell_type": "markdown",
   "metadata": {},
   "source": [
    "Tente executar o código na célula abaixo e veja o que acontece:"
   ]
  },
  {
   "cell_type": "code",
   "execution_count": 5,
   "metadata": {},
   "outputs": [
    {
     "output_type": "stream",
     "name": "stdout",
     "text": [
      "Isso será escrito\n"
     ]
    },
    {
     "output_type": "error",
     "ename": "NameError",
     "evalue": "name 'frint' is not defined",
     "traceback": [
      "\u001b[0;31m---------------------------------------------------------------------------\u001b[0m",
      "\u001b[0;31mNameError\u001b[0m                                 Traceback (most recent call last)",
      "\u001b[0;32m<ipython-input-5-30119619ac62>\u001b[0m in \u001b[0;36m<module>\u001b[0;34m\u001b[0m\n\u001b[1;32m      2\u001b[0m \u001b[0;34m\u001b[0m\u001b[0m\n\u001b[1;32m      3\u001b[0m \u001b[0mprint\u001b[0m\u001b[0;34m(\u001b[0m\u001b[0;34m\"Isso será escrito\"\u001b[0m\u001b[0;34m)\u001b[0m\u001b[0;34m\u001b[0m\u001b[0;34m\u001b[0m\u001b[0m\n\u001b[0;32m----> 4\u001b[0;31m \u001b[0mfrint\u001b[0m\u001b[0;34m(\u001b[0m\u001b[0;34m\"Isso causará erro\"\u001b[0m\u001b[0;34m)\u001b[0m\u001b[0;34m\u001b[0m\u001b[0;34m\u001b[0m\u001b[0m\n\u001b[0m\u001b[1;32m      5\u001b[0m \u001b[0mprint\u001b[0m\u001b[0;34m(\u001b[0m\u001b[0;34m\"Isso NÃO será escrito\"\u001b[0m\u001b[0;34m)\u001b[0m\u001b[0;34m\u001b[0m\u001b[0;34m\u001b[0m\u001b[0m\n",
      "\u001b[0;31mNameError\u001b[0m: name 'frint' is not defined"
     ]
    }
   ],
   "source": [
    "# Print string e erro para saber a ordem de execução\n",
    "\n",
    "print(\"Isso será escrito\")\n",
    "frint(\"Isso causará erro\")\n",
    "print(\"Isso NÃO será escrito\")"
   ]
  },
  {
   "cell_type": "markdown",
   "metadata": {},
   "source": [
    "<h3 id=\"exercise\">Exercício: Seu primeiro programa</h3>\n"
   ]
  },
  {
   "cell_type": "markdown",
   "metadata": {},
   "source": [
    "<p> Gerações de programadores começaram suas carreiras de programação simplesmente imprimindo \"Olá, mundo!\". Você estará seguindo os passos deles. </p>\n",
    "<p> Na célula de código abaixo, use a função <code> print()</code> para imprimir a frase: <code> Olá, mundo!</code> </p>\n"
   ]
  },
  {
   "cell_type": "code",
   "execution_count": null,
   "metadata": {},
   "outputs": [],
   "source": [
    "# Escreva seu código abaixo. Não se esqueça de pressionar Shift + Enter para executar a célula\n"
   ]
  },
  {
   "cell_type": "markdown",
   "metadata": {},
   "source": [
    "<details><summary>Clique aqui para ver a solução</summary>\n",
    "\n",
    "```python\n",
    "print(\"Olá, mundo!\")\n",
    "\n",
    "```\n",
    "\n",
    "</details>\n"
   ]
  },
  {
   "cell_type": "markdown",
   "metadata": {},
   "source": [
    "<p> Agora, vamos aprimorar seu código com um comentário. Na célula de código abaixo, imprima a frase: <code> Hello, world! </code> e comente com a frase <code> Imprima o tradicional hello world </code> tudo em uma linha de código. </p>\n"
   ]
  },
  {
   "cell_type": "code",
   "execution_count": null,
   "metadata": {},
   "outputs": [],
   "source": [
    "# Escreva seu código abaixo. Não se esqueça de pressionar Shift + Enter para executar a célula\n"
   ]
  },
  {
   "cell_type": "markdown",
   "metadata": {},
   "source": [
    "<details><summary>Clique aqui para ver a solução</summary>\n",
    "\n",
    "```python\n",
    "print(\"Hello, world!\") # Imprima o tradicional hello world\n",
    "\n",
    "```\n",
    "\n",
    "</details>\n"
   ]
  },
  {
   "cell_type": "markdown",
   "metadata": {},
   "source": [
    "<hr>\n"
   ]
  },
  {
   "cell_type": "markdown",
   "metadata": {},
   "source": [
    "<h2 id=\"types_objects\" align=\"center\">Tipos de objetos em Python</h2>\n"
   ]
  },
  {
   "cell_type": "markdown",
   "metadata": {},
   "source": [
    "<p> Python é uma linguagem orientada a objetos. Existem muitos tipos diferentes de objetos em Python. Vamos começar com os tipos de objetos mais comuns: <i> strings </i>, <i> inteiros </i> e <i> flutuantes </i>. Sempre que você escreve palavras (texto) em Python, está usando <i> strings de caracteres </i> (strings para abreviar). Os números mais comuns, por outro lado, são <i> inteiros </i> (por exemplo, -1, 0, 100) e <i> flutuantes </i>, que representam números reais (por exemplo, 3,14, -42,0). </p>"
   ]
  },
  {
   "cell_type": "markdown",
   "metadata": {},
   "source": [
    "<a align=\"center\">\n",
    "    <img src=\"https://cf-courses-data.s3.us.cloud-object-storage.appdomain.cloud/IBMDeveloperSkillsNetwork-PY0101EN-SkillsNetwork/labs/Module%201/images/TypesObjects.png\" width=\"600\">\n",
    "</a>\n"
   ]
  },
  {
   "cell_type": "markdown",
   "metadata": {},
   "source": [
    "<p> As células de código a seguir contêm alguns exemplos. </p>"
   ]
  },
  {
   "cell_type": "code",
   "execution_count": null,
   "metadata": {},
   "outputs": [],
   "source": [
    "# Inteiro\n",
    "\n",
    "11"
   ]
  },
  {
   "cell_type": "code",
   "execution_count": null,
   "metadata": {},
   "outputs": [],
   "source": [
    "# Float\n",
    "\n",
    "2.14"
   ]
  },
  {
   "cell_type": "code",
   "execution_count": null,
   "metadata": {},
   "outputs": [],
   "source": [
    "# String\n",
    "\n",
    "\"Hello, Python 101!\""
   ]
  },
  {
   "cell_type": "markdown",
   "metadata": {},
   "source": [
    "<p> Você pode fazer com que o Python informe o tipo de uma expressão usando a função interna <code> type()</code>. Você notará que Python se refere a inteiros como <code> int</code>, flutuantes como <code> float</code> e cadeias de caracteres como <code> str</code>. </p>"
   ]
  },
  {
   "cell_type": "code",
   "execution_count": null,
   "metadata": {},
   "outputs": [],
   "source": [
    "# Tipo do número 12\n",
    "\n",
    "type(12)"
   ]
  },
  {
   "cell_type": "code",
   "execution_count": null,
   "metadata": {},
   "outputs": [],
   "source": [
    "# Tipo do número 2.14\n",
    "\n",
    "type(2.14)"
   ]
  },
  {
   "cell_type": "code",
   "execution_count": null,
   "metadata": {},
   "outputs": [],
   "source": [
    "# Tipo da frase \"Hello, Python 101!\"\n",
    "\n",
    "type(\"Hello, Python 101!\")"
   ]
  },
  {
   "cell_type": "markdown",
   "metadata": {},
   "source": [
    "<p> Na célula de código abaixo, use a função <code> type()</code> para verificar o tipo de objeto de <code> 12.0</code>.\n"
   ]
  },
  {
   "cell_type": "code",
   "execution_count": null,
   "metadata": {},
   "outputs": [],
   "source": [
    "# Escreva seu código abaixo. Não se esqueça de pressionar Shift + Enter para executar a célula\n"
   ]
  },
  {
   "cell_type": "markdown",
   "metadata": {},
   "source": [
    "<details><summary>Clique aqui para ver a solução</summary>\n",
    "\n",
    "```python\n",
    "type(12.0)\n",
    "\n",
    "```\n",
    "\n",
    "</details>\n"
   ]
  },
  {
   "cell_type": "markdown",
   "metadata": {},
   "source": [
    "<h3 id=\"int\">Integers</h3>\n"
   ]
  },
  {
   "cell_type": "markdown",
   "metadata": {},
   "source": [
    "<p> Aqui estão alguns exemplos de inteiros. Os inteiros podem ser números negativos ou positivos: </p>"
   ]
  },
  {
   "cell_type": "markdown",
   "metadata": {},
   "source": [
    "<a align=\"center\">\n",
    "    <img src=\"https://cf-courses-data.s3.us.cloud-object-storage.appdomain.cloud/IBMDeveloperSkillsNetwork-PY0101EN-SkillsNetwork/labs/Module%201/images/TypesInt.png\" width=\"600\">\n",
    "</a>\n"
   ]
  },
  {
   "cell_type": "markdown",
   "metadata": {},
   "source": [
    "<p> Podemos verificar esse é o caso usando, você adivinhou, a função <code> type () </code>:"
   ]
  },
  {
   "cell_type": "code",
   "execution_count": null,
   "metadata": {},
   "outputs": [],
   "source": [
    "# Print the type of -1\n",
    "\n",
    "type(-1)"
   ]
  },
  {
   "cell_type": "code",
   "execution_count": null,
   "metadata": {},
   "outputs": [],
   "source": [
    "# Print the type of 4\n",
    "\n",
    "type(4)"
   ]
  },
  {
   "cell_type": "code",
   "execution_count": null,
   "metadata": {},
   "outputs": [],
   "source": [
    "# Print the type of 0\n",
    "\n",
    "type(0)"
   ]
  },
  {
   "cell_type": "markdown",
   "metadata": {},
   "source": [
    "<h3 id=\"float\">Floats</h3> \n"
   ]
  },
  {
   "cell_type": "markdown",
   "metadata": {},
   "source": [
    "<p> Flutuantes representam números reais; eles são um superconjunto de números inteiros, mas também incluem \"números com decimais\". Existem algumas limitações quando se trata de máquinas que representam números reais, mas os números de ponto flutuante são uma boa representação na maioria dos casos. Você pode aprender mais sobre as especificações de floats para seu ambiente de execução, verificando o valor de <code> sys.float_info</code>. Isso também informará qual é o maior e o menor número que pode ser representado com eles. </p>\n",
    "\n",
    "<p> Mais uma vez, pode testar alguns exemplos com a função <code> type()</code>:\n"
   ]
  },
  {
   "cell_type": "code",
   "execution_count": null,
   "metadata": {},
   "outputs": [],
   "source": [
    "# Print the type of 1.0\n",
    "\n",
    "type(1.0) # Notice that 1 is an int, and 1.0 is a float"
   ]
  },
  {
   "cell_type": "code",
   "execution_count": null,
   "metadata": {},
   "outputs": [],
   "source": [
    "# Print the type of 0.5\n",
    "\n",
    "type(0.5)"
   ]
  },
  {
   "cell_type": "code",
   "execution_count": null,
   "metadata": {},
   "outputs": [],
   "source": [
    "# Print the type of 0.56\n",
    "\n",
    "type(0.56)"
   ]
  },
  {
   "cell_type": "code",
   "execution_count": null,
   "metadata": {},
   "outputs": [],
   "source": [
    "# System settings about float type\n",
    "\n",
    "sys.float_info"
   ]
  },
  {
   "cell_type": "markdown",
   "metadata": {},
   "source": [
    "<h3 id=\"convert\">Converting from one object type to a different object type</h3>\n"
   ]
  },
  {
   "cell_type": "markdown",
   "metadata": {},
   "source": [
    "<p>You can change the type of the object in Python; this is called typecasting. For example, you can convert an <i>integer</i> into a <i>float</i> (e.g. 2 to 2.0).</p>\n",
    "<p>Let's try it:</p>\n"
   ]
  },
  {
   "cell_type": "code",
   "execution_count": null,
   "metadata": {},
   "outputs": [],
   "source": [
    "# Verify that this is an integer\n",
    "\n",
    "type(2)"
   ]
  },
  {
   "cell_type": "markdown",
   "metadata": {},
   "source": [
    "<h4>Converting integers to floats</h4>\n",
    "<p>Let's cast integer 2 to float:</p>\n"
   ]
  },
  {
   "cell_type": "code",
   "execution_count": null,
   "metadata": {},
   "outputs": [],
   "source": [
    "# Convert 2 to a float\n",
    "\n",
    "float(2)"
   ]
  },
  {
   "cell_type": "code",
   "execution_count": null,
   "metadata": {},
   "outputs": [],
   "source": [
    "# Convert integer 2 to a float and check its type\n",
    "\n",
    "type(float(2))"
   ]
  },
  {
   "cell_type": "markdown",
   "metadata": {},
   "source": [
    "<p>When we convert an integer into a float, we don't really change the value (i.e., the significand) of the number. However, if we cast a float into an integer, we could potentially lose some information. For example, if we cast the float 1.1 to integer we will get 1 and lose the decimal information (i.e., 0.1):</p>\n"
   ]
  },
  {
   "cell_type": "code",
   "execution_count": null,
   "metadata": {},
   "outputs": [],
   "source": [
    "# Casting 1.1 to integer will result in loss of information\n",
    "\n",
    "int(1.1)"
   ]
  },
  {
   "cell_type": "markdown",
   "metadata": {},
   "source": [
    "<h4>Converting from strings to integers or floats</h4>\n"
   ]
  },
  {
   "cell_type": "markdown",
   "metadata": {},
   "source": [
    "<p>Sometimes, we can have a string that contains a number within it. If this is the case, we can cast that string that represents a number into an integer using <code>int()</code>:</p>\n"
   ]
  },
  {
   "cell_type": "code",
   "execution_count": null,
   "metadata": {},
   "outputs": [],
   "source": [
    "# Convert a string into an integer\n",
    "\n",
    "int('1')"
   ]
  },
  {
   "cell_type": "markdown",
   "metadata": {},
   "source": [
    "<p>But if you try to do so with a string that is not a perfect match for a number, you'll get an error. Try the following:</p>\n"
   ]
  },
  {
   "cell_type": "code",
   "execution_count": null,
   "metadata": {},
   "outputs": [],
   "source": [
    "# Convert a string into an integer with error\n",
    "\n",
    "int('1 or 2 people')"
   ]
  },
  {
   "cell_type": "markdown",
   "metadata": {},
   "source": [
    "<p>You can also convert strings containing floating point numbers into <i>float</i> objects:</p>\n"
   ]
  },
  {
   "cell_type": "code",
   "execution_count": null,
   "metadata": {},
   "outputs": [],
   "source": [
    "# Convert the string \"1.2\" into a float\n",
    "\n",
    "float('1.2')"
   ]
  },
  {
   "cell_type": "markdown",
   "metadata": {},
   "source": [
    "<hr/>\n",
    "<div class=\"alert alert-success alertsuccess\" style=\"margin-top: 20px\">\n",
    "    [Tip:] Note that strings can be represented with single quotes (<code>'1.2'</code>) or double quotes (<code>\"1.2\"</code>), but you can't mix both (e.g., <code>\"1.2'</code>).\n",
    "</div>\n",
    "<hr/>\n"
   ]
  },
  {
   "cell_type": "markdown",
   "metadata": {},
   "source": [
    "<h4>Converting numbers to strings</h4>\n"
   ]
  },
  {
   "cell_type": "markdown",
   "metadata": {},
   "source": [
    "<p>If we can convert strings to numbers, it is only natural to assume that we can convert numbers to strings, right?</p>\n"
   ]
  },
  {
   "cell_type": "code",
   "execution_count": null,
   "metadata": {},
   "outputs": [],
   "source": [
    "# Convert an integer to a string\n",
    "\n",
    "str(1)\n"
   ]
  },
  {
   "cell_type": "markdown",
   "metadata": {},
   "source": [
    "<p>And there is no reason why we shouldn't be able to make floats into strings as well:</p> \n"
   ]
  },
  {
   "cell_type": "code",
   "execution_count": null,
   "metadata": {},
   "outputs": [],
   "source": [
    "# Convert a float to a string\n",
    "\n",
    "str(1.2)"
   ]
  },
  {
   "cell_type": "markdown",
   "metadata": {},
   "source": [
    "<h3 id=\"bool\">Boolean data type</h3>\n"
   ]
  },
  {
   "cell_type": "markdown",
   "metadata": {},
   "source": [
    "<p><i>Boolean</i> is another important type in Python. An object of type <i>Boolean</i> can take on one of two values: <code>True</code> or <code>False</code>:</p>\n"
   ]
  },
  {
   "cell_type": "code",
   "execution_count": null,
   "metadata": {},
   "outputs": [],
   "source": [
    "# Value true\n",
    "\n",
    "True"
   ]
  },
  {
   "cell_type": "markdown",
   "metadata": {},
   "source": [
    "<p>Notice that the value <code>True</code> has an uppercase \"T\". The same is true for <code>False</code> (i.e. you must use the uppercase \"F\").</p>\n"
   ]
  },
  {
   "cell_type": "code",
   "execution_count": null,
   "metadata": {},
   "outputs": [],
   "source": [
    "# Value false\n",
    "\n",
    "False"
   ]
  },
  {
   "cell_type": "markdown",
   "metadata": {},
   "source": [
    "<p>When you ask Python to display the type of a boolean object it will show <code>bool</code> which stands for <i>boolean</i>:</p> \n"
   ]
  },
  {
   "cell_type": "code",
   "execution_count": null,
   "metadata": {},
   "outputs": [],
   "source": [
    "# Type of True\n",
    "\n",
    "type(True)"
   ]
  },
  {
   "cell_type": "code",
   "execution_count": null,
   "metadata": {},
   "outputs": [],
   "source": [
    "# Type of False\n",
    "\n",
    "type(False)"
   ]
  },
  {
   "cell_type": "markdown",
   "metadata": {},
   "source": [
    "<p>We can cast boolean objects to other data types. If we cast a boolean with a value of <code>True</code> to an integer or float we will get a one. If we cast a boolean with a value of <code>False</code> to an integer or float we will get a zero. Similarly, if we cast a 1 to a Boolean, you get a <code>True</code>. And if we cast a 0 to a Boolean we will get a <code>False</code>. Let's give it a try:</p> \n"
   ]
  },
  {
   "cell_type": "code",
   "execution_count": null,
   "metadata": {},
   "outputs": [],
   "source": [
    "# Convert True to int\n",
    "\n",
    "int(True)"
   ]
  },
  {
   "cell_type": "code",
   "execution_count": null,
   "metadata": {},
   "outputs": [],
   "source": [
    "# Convert 1 to boolean\n",
    "\n",
    "bool(1)"
   ]
  },
  {
   "cell_type": "code",
   "execution_count": null,
   "metadata": {},
   "outputs": [],
   "source": [
    "# Convert 0 to boolean\n",
    "\n",
    "bool(0)"
   ]
  },
  {
   "cell_type": "code",
   "execution_count": null,
   "metadata": {},
   "outputs": [],
   "source": [
    "# Convert True to float\n",
    "\n",
    "float(True)"
   ]
  },
  {
   "cell_type": "markdown",
   "metadata": {},
   "source": [
    "<h3 id=\"exer_type\">Exercise: Types</h3>\n"
   ]
  },
  {
   "cell_type": "markdown",
   "metadata": {},
   "source": [
    "<p>What is the data type of the result of: <code>6 / 2</code>?</p>\n"
   ]
  },
  {
   "cell_type": "code",
   "execution_count": null,
   "metadata": {},
   "outputs": [],
   "source": [
    "# Write your code below. Don't forget to press Shift+Enter to execute the cell\n"
   ]
  },
  {
   "cell_type": "markdown",
   "metadata": {},
   "source": [
    "<details><summary>Click here for the solution</summary>\n",
    "\n",
    "```python\n",
    "type(6/2) # float\n",
    "\n",
    "```\n",
    "\n",
    "</details>\n"
   ]
  },
  {
   "cell_type": "markdown",
   "metadata": {},
   "source": [
    "<p>What is the type of the result of: <code>6 // 2</code>? (Note the double slash <code>//</code>.)</p>\n"
   ]
  },
  {
   "cell_type": "code",
   "execution_count": null,
   "metadata": {},
   "outputs": [],
   "source": [
    "# Write your code below. Don't forget to press Shift+Enter to execute the cell\n"
   ]
  },
  {
   "cell_type": "markdown",
   "metadata": {},
   "source": [
    "<details><summary>Click here for the solution</summary>\n",
    "\n",
    "```python\n",
    "type(6//2) # int, as the double slashes stand for integer division \n",
    "\n",
    "```\n",
    "\n",
    "</details>\n"
   ]
  },
  {
   "cell_type": "markdown",
   "metadata": {},
   "source": [
    "<hr>\n"
   ]
  },
  {
   "cell_type": "markdown",
   "metadata": {},
   "source": [
    "<h2 id=\"expressions\">Expression and Variables</h2>\n"
   ]
  },
  {
   "cell_type": "markdown",
   "metadata": {},
   "source": [
    "<h3 id=\"exp\">Expressions</h3>\n"
   ]
  },
  {
   "cell_type": "markdown",
   "metadata": {},
   "source": [
    "<p>Expressions in Python can include operations among compatible types (e.g., integers and floats). For example, basic arithmetic operations like adding multiple numbers:</p>\n"
   ]
  },
  {
   "cell_type": "code",
   "execution_count": null,
   "metadata": {},
   "outputs": [],
   "source": [
    "# Addition operation expression\n",
    "\n",
    "43 + 60 + 16 + 41"
   ]
  },
  {
   "cell_type": "markdown",
   "metadata": {},
   "source": [
    "<p>We can perform subtraction operations using the minus operator. In this case the result is a negative number:</p>\n"
   ]
  },
  {
   "cell_type": "code",
   "execution_count": null,
   "metadata": {},
   "outputs": [],
   "source": [
    "# Subtraction operation expression\n",
    "\n",
    "50 - 60"
   ]
  },
  {
   "cell_type": "markdown",
   "metadata": {},
   "source": [
    "<p>We can do multiplication using an asterisk:</p>\n"
   ]
  },
  {
   "cell_type": "code",
   "execution_count": null,
   "metadata": {},
   "outputs": [],
   "source": [
    "# Multiplication operation expression\n",
    "\n",
    "5 * 5"
   ]
  },
  {
   "cell_type": "markdown",
   "metadata": {},
   "source": [
    "<p>We can also perform division with the forward slash:\n"
   ]
  },
  {
   "cell_type": "code",
   "execution_count": null,
   "metadata": {},
   "outputs": [],
   "source": [
    "# Division operation expression\n",
    "\n",
    "25 / 5"
   ]
  },
  {
   "cell_type": "code",
   "execution_count": null,
   "metadata": {},
   "outputs": [],
   "source": [
    "# Division operation expression\n",
    "\n",
    "25 / 6"
   ]
  },
  {
   "cell_type": "markdown",
   "metadata": {},
   "source": [
    "<p>As seen in the quiz above, we can use the double slash for integer division, where the result is rounded to the nearest integer:\n"
   ]
  },
  {
   "cell_type": "code",
   "execution_count": null,
   "metadata": {},
   "outputs": [],
   "source": [
    "# Integer division operation expression\n",
    "\n",
    "25 // 5"
   ]
  },
  {
   "cell_type": "code",
   "execution_count": null,
   "metadata": {},
   "outputs": [],
   "source": [
    "# Integer division operation expression\n",
    "\n",
    "25 // 6"
   ]
  },
  {
   "cell_type": "markdown",
   "metadata": {},
   "source": [
    "<h3 id=\"exer_exp\">Exercise: Expression</h3>\n"
   ]
  },
  {
   "cell_type": "markdown",
   "metadata": {},
   "source": [
    "<p>Let's write an expression that calculates how many hours there are in 160 minutes:\n"
   ]
  },
  {
   "cell_type": "code",
   "execution_count": null,
   "metadata": {},
   "outputs": [],
   "source": [
    "# Write your code below. Don't forget to press Shift+Enter to execute the cell\n"
   ]
  },
  {
   "cell_type": "markdown",
   "metadata": {},
   "source": [
    "<details><summary>Click here for the solution</summary>\n",
    "\n",
    "```python\n",
    "160/60 \n",
    "\n",
    "# Or \n",
    "\n",
    "160//60\n",
    "\n",
    "```\n",
    "\n",
    "</details>\n"
   ]
  },
  {
   "cell_type": "markdown",
   "metadata": {},
   "source": [
    "<p>Python follows well accepted mathematical conventions when evaluating mathematical expressions. In the following example, Python adds 30 to the result of the multiplication (i.e., 120).\n"
   ]
  },
  {
   "cell_type": "code",
   "execution_count": null,
   "metadata": {},
   "outputs": [],
   "source": [
    "# Mathematical expression\n",
    "\n",
    "30 + 2 * 60"
   ]
  },
  {
   "cell_type": "markdown",
   "metadata": {},
   "source": [
    "<p>And just like mathematics, expressions enclosed in parentheses have priority. So the following multiplies 32 by 60.\n"
   ]
  },
  {
   "cell_type": "code",
   "execution_count": null,
   "metadata": {},
   "outputs": [],
   "source": [
    "# Mathematical expression\n",
    "\n",
    "(30 + 2) * 60"
   ]
  },
  {
   "cell_type": "markdown",
   "metadata": {},
   "source": [
    "<h3 id=\"var\">Variables</h3>\n"
   ]
  },
  {
   "cell_type": "markdown",
   "metadata": {},
   "source": [
    "<p>Just like with most programming languages, we can store values in <i>variables</i>, so we can use them later on. For example:</p>\n"
   ]
  },
  {
   "cell_type": "code",
   "execution_count": null,
   "metadata": {},
   "outputs": [],
   "source": [
    "# Store value into variable\n",
    "\n",
    "x = 43 + 60 + 16 + 41"
   ]
  },
  {
   "cell_type": "markdown",
   "metadata": {},
   "source": [
    "<p>To see the value of <code>x</code> in a Notebook, we can simply place it on the last line of a cell:</p>\n"
   ]
  },
  {
   "cell_type": "code",
   "execution_count": null,
   "metadata": {},
   "outputs": [],
   "source": [
    "# Print out the value in variable\n",
    "\n",
    "x"
   ]
  },
  {
   "cell_type": "markdown",
   "metadata": {},
   "source": [
    "<p>We can also perform operations on <code>x</code> and save the result to a new variable:</p>\n"
   ]
  },
  {
   "cell_type": "code",
   "execution_count": null,
   "metadata": {},
   "outputs": [],
   "source": [
    "# Use another variable to store the result of the operation between variable and value\n",
    "\n",
    "y = x / 60\n",
    "y"
   ]
  },
  {
   "cell_type": "markdown",
   "metadata": {},
   "source": [
    "<p>If we save a value to an existing variable, the new value will overwrite the previous value:</p>\n"
   ]
  },
  {
   "cell_type": "code",
   "execution_count": null,
   "metadata": {},
   "outputs": [],
   "source": [
    "# Overwrite variable with new value\n",
    "\n",
    "x = x / 60\n",
    "x"
   ]
  },
  {
   "cell_type": "markdown",
   "metadata": {},
   "source": [
    "<p>It's a good practice to use meaningful variable names, so you and others can read the code and understand it more easily:</p>\n"
   ]
  },
  {
   "cell_type": "code",
   "execution_count": null,
   "metadata": {},
   "outputs": [],
   "source": [
    "# Name the variables meaningfully\n",
    "\n",
    "total_min = 43 + 42 + 57 # Total length of albums in minutes\n",
    "total_min"
   ]
  },
  {
   "cell_type": "code",
   "execution_count": null,
   "metadata": {},
   "outputs": [],
   "source": [
    "# Name the variables meaningfully\n",
    "\n",
    "total_hours = total_min / 60 # Total length of albums in hours \n",
    "total_hours"
   ]
  },
  {
   "cell_type": "markdown",
   "metadata": {},
   "source": [
    "<p>In the cells above we added the length of three albums in minutes and stored it in <code>total_min</code>. We then divided it by 60 to calculate total length <code>total_hours</code> in hours. You can also do it all at once in a single expression, as long as you use parenthesis to add the albums length before you divide, as shown below.</p>\n"
   ]
  },
  {
   "cell_type": "code",
   "execution_count": null,
   "metadata": {},
   "outputs": [],
   "source": [
    "# Complicate expression\n",
    "\n",
    "total_hours = (43 + 42 + 57) / 60  # Total hours in a single expression\n",
    "total_hours"
   ]
  },
  {
   "cell_type": "markdown",
   "metadata": {},
   "source": [
    "<p>If you'd rather have total hours as an integer, you can of course replace the floating point division with integer division (i.e., <code>//</code>).</p>\n"
   ]
  },
  {
   "cell_type": "markdown",
   "metadata": {},
   "source": [
    "<h3 id=\"exer_exp_var\">Exercise: Expression and Variables in Python</h3>\n"
   ]
  },
  {
   "cell_type": "markdown",
   "metadata": {},
   "source": [
    "<p>What is the value of <code>x</code> where <code>x = 3 + 2 * 2</code></p>\n"
   ]
  },
  {
   "cell_type": "code",
   "execution_count": null,
   "metadata": {},
   "outputs": [],
   "source": [
    "# Write your code below. Don't forget to press Shift+Enter to execute the cell\n"
   ]
  },
  {
   "cell_type": "markdown",
   "metadata": {},
   "source": [
    "<details><summary>Click here for the solution</summary>\n",
    "\n",
    "```python\n",
    "7\n",
    "\n",
    "```\n",
    "\n",
    "</details>\n"
   ]
  },
  {
   "cell_type": "markdown",
   "metadata": {},
   "source": [
    "<p>What is the value of <code>y</code> where <code>y = (3 + 2) * 2</code>?</p>\n"
   ]
  },
  {
   "cell_type": "code",
   "execution_count": null,
   "metadata": {},
   "outputs": [],
   "source": [
    "# Write your code below. Don't forget to press Shift+Enter to execute the cell\n"
   ]
  },
  {
   "cell_type": "markdown",
   "metadata": {},
   "source": [
    "<details><summary>Click here for the solution</summary>\n",
    "\n",
    "```python\n",
    "10\n",
    "\n",
    "```\n",
    "\n",
    "</details>\n"
   ]
  },
  {
   "cell_type": "markdown",
   "metadata": {},
   "source": [
    "<p>What is the value of <code>z</code> where <code>z = x + y</code>?</p>\n"
   ]
  },
  {
   "cell_type": "code",
   "execution_count": null,
   "metadata": {},
   "outputs": [],
   "source": [
    "# Write your code below. Don't forget to press Shift+Enter to execute the cell\n"
   ]
  },
  {
   "cell_type": "markdown",
   "metadata": {},
   "source": [
    "<details><summary>Click here for the solution</summary>\n",
    "\n",
    "```python\n",
    "17\n",
    "\n",
    "```\n",
    "\n",
    "</details>\n"
   ]
  },
  {
   "cell_type": "markdown",
   "metadata": {},
   "source": [
    "<hr>\n",
    "<h2>The last exercise!</h2>\n",
    "<p>Congratulations, you have completed your first lesson and hands-on lab in Python. However, there is one more thing you need to do. The Data Science community encourages sharing work. The best way to share and showcase your work is to share it on GitHub. By sharing your notebook on GitHub you are not only building your reputation with fellow data scientists, but you can also show it off when applying for a job. Even though this was your first piece of work, it is never too early to start building good habits. So, please read and follow <a href=\"https://cognitiveclass.ai/blog/data-scientists-stand-out-by-sharing-your-notebooks/\" target=\"_blank\">this article</a> to learn how to share your work.\n",
    "<hr>\n"
   ]
  }
 ],
 "metadata": {
  "kernelspec": {
   "name": "python369jvsc74a57bd031f2aee4e71d21fbe5cf8b01ff0e069b9275f58929596ceb00d14d90e3e16cd6",
   "display_name": "Python 3.6.9 64-bit"
  },
  "language_info": {
   "codemirror_mode": {
    "name": "ipython",
    "version": 3
   },
   "file_extension": ".py",
   "mimetype": "text/x-python",
   "name": "python",
   "nbconvert_exporter": "python",
   "pygments_lexer": "ipython3",
   "version": "3.6.9"
  },
  "metadata": {
   "interpreter": {
    "hash": "31f2aee4e71d21fbe5cf8b01ff0e069b9275f58929596ceb00d14d90e3e16cd6"
   }
  }
 },
 "nbformat": 4,
 "nbformat_minor": 4
}
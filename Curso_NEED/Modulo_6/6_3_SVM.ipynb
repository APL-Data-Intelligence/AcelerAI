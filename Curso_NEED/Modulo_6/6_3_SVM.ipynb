{
 "cells": [
  {
   "cell_type": "markdown",
   "id": "c767a35f-67d7-466e-ae99-3513146a2bee",
   "metadata": {},
   "source": [
    "<center>\n",
    "    <img src=\"../imagens/logo_APL.png\" width=\"300\" alt=\"APL logo\"  />\n",
    "</center>"
   ]
  },
  {
   "cell_type": "markdown",
   "id": "b19ec966-2eed-48e9-8b4c-214f4c970871",
   "metadata": {},
   "source": [
    "# Algoritmo: SVM (*Support Vector Machines*)"
   ]
  },
  {
   "cell_type": "markdown",
   "id": "3a84856c-5c26-462e-8919-8e0dc5384645",
   "metadata": {},
   "source": [
    "**Bem vindo!** Neste material você aprenderá o algoritmo  **SVM** (*Support Vector Machines*).  Usaremos a biblioteca  `Scikit-Learn`, desenvolvida para aplicação prática de algoritmos de *machine learning*. Ao final, espera-se que você seja capaz de entender e aplicar esse algoritmo."
   ]
  },
  {
   "cell_type": "markdown",
   "id": "7ead5e39-4245-4e52-b3a9-eafc2c2e703b",
   "metadata": {},
   "source": [
    "<h2>Conteúdo:</h2>\n",
    "<div class=\"alert alert-block alert-info\" style=\"margin-top: 20px\">\n",
    "<ul>\n",
    "    <li> Introdução </li>\n",
    "    <li> Entendendo e Carregando o Dataset </li> \n",
    "    <li> Análise Exploratória dos Dados </li>\n",
    "    <li> Regressores (Matriz de entrada) e Variável Alvo (vetor de saídas) </li>  \n",
    "    <li> Dividir o Dataset: Treinamento e Validação </li>   \n",
    "    <li> Algoritmo de Machine Learning </li>  \n",
    "    <li> Avaliação de Desempenho </li>  \n",
    "</ul>\n",
    "</div>\n",
    "\n",
    "<hr>"
   ]
  },
  {
   "cell_type": "markdown",
   "id": "40a72d74-0f1a-43e4-8965-9cc051d2f495",
   "metadata": {},
   "source": [
    "## Introdução\n",
    "\n",
    "Neste notebook, você usará SVM (Support Vector Machines) para construir e treinar um modelo usando registros de células humanas e classificar as células se as amostras são benignas ou malignas.\n",
    "\n",
    "O SVM funciona mapeando os dados (**espaço das amostras**) para um espaço de dimensão superior (**espaço das características**) para que os pontos de dados possam ser categorizados a partir de um hiperplano. Isso se dá por meio da função kernel. \n",
    "\n",
    "A figura abaixo exemplifica esse mapeamento feito pela função kernel:"
   ]
  },
  {
   "cell_type": "markdown",
   "id": "ce654078-02e0-4f2f-ade4-c386a593a4c0",
   "metadata": {},
   "source": [
    "<center>\n",
    "<img src=\"../imagens/SVM.png\"  width=\"500\">\n",
    "</center>"
   ]
  },
  {
   "cell_type": "markdown",
   "id": "7141b9aa-fb5c-4609-b448-71aa53745c11",
   "metadata": {},
   "source": [
    "Vamos começar importando as principais bibliotecas a serem utilizadas:"
   ]
  },
  {
   "cell_type": "code",
   "execution_count": null,
   "id": "d7d208a3-33f6-405c-a941-4f118eb6ba67",
   "metadata": {},
   "outputs": [],
   "source": [
    "from sklearn.model_selection import train_test_split\n",
    "from sklearn.metrics import accuracy_score\n",
    "import pandas as pd\n",
    "import numpy as np\n",
    "%matplotlib inline \n",
    "import matplotlib.pyplot as plt"
   ]
  },
  {
   "cell_type": "markdown",
   "id": "cab4a20b-e177-4cc4-a363-5e7f3e2bfba3",
   "metadata": {},
   "source": [
    "## Entendendo e Carregando o Dataset"
   ]
  },
  {
   "cell_type": "markdown",
   "id": "d3c18533-294e-4e21-8349-7372df3ea60b",
   "metadata": {},
   "source": [
    "Vamos carregar nosso dataset.\n",
    "O exemplo é baseado em um conjunto de dados que está publicamente disponível no [UCI Machine Learning Repository](http://mlearn.ics.uci.edu/MLRepository.html). Esse conjunto de dados consiste em centenas de registros de amostras de células humanas, contendo diversas características. Os campos em cada registro são:\n",
    "\n",
    "| Nome        | Descrição                             |\n",
    "| ----------- | ---------------------------           |\n",
    "| ID          | Identificação                         |\n",
    "| Clump       | espessura do aglomerado               |\n",
    "| UnifSize    | Uniformidade do tamanho da célula     |\n",
    "| UnifShape   | Uniformidade do formato da célula     |\n",
    "| MargAdh     | Adesão marginal                       |\n",
    "| SingEpiSize | Tamanho de célula epitelial única     |\n",
    "| BareNuc     | Núcleos puros                         |\n",
    "| BlandChrom  | Cromatina branda                      |\n",
    "| NormNucl    | Nucléolos normais                     |\n",
    "| Mit         | Mitoses                               |\n",
    "| Class       | Benigno ou Maligno                    |\n",
    "\n",
    "\n",
    "Para fins de simplificação, estamos usando um conjunto de dados que possui um número relativamente pequeno de preditores ou regressores ou *features* (no presente contexto, esses termos são equivalentes) em cada registro.\n"
   ]
  },
  {
   "cell_type": "code",
   "execution_count": null,
   "id": "b123db39-83c3-41f2-b408-e24f9cc39194",
   "metadata": {},
   "outputs": [],
   "source": [
    "cell_df = pd.read_csv(\"https://raw.githubusercontent.com/APL-Data-Intelligence/AcelerAI/main/Curso_NEED/datasets/cellsample_dataset/cell_samples.csv\")\n",
    "cell_df.shape"
   ]
  },
  {
   "cell_type": "markdown",
   "id": "4c7fca73-26c1-4486-9c8b-f658e80f98ea",
   "metadata": {
    "tags": []
   },
   "source": [
    "Nosso dataset possui, portanto, 699 amostras e 11 características."
   ]
  },
  {
   "cell_type": "code",
   "execution_count": null,
   "id": "f4d46d90-10ff-4409-af9d-7c4e498fa4df",
   "metadata": {},
   "outputs": [],
   "source": [
    "cell_df.head()"
   ]
  },
  {
   "cell_type": "markdown",
   "id": "f58c7928-0208-4572-93d7-4476749d43d0",
   "metadata": {},
   "source": [
    "## Análise Exploratória dos Dados"
   ]
  },
  {
   "cell_type": "markdown",
   "id": "d63cda20-a662-4b81-a83d-c947c3c202be",
   "metadata": {},
   "source": [
    "O campo **Class** contém o diagnóstico: se as amostras são benignas (valor = 2) ou malignas (valor = 4).\n",
    "\n",
    "Vejamos a quantidade de cada uma dessas amostras segundo esse diagnóstico:"
   ]
  },
  {
   "cell_type": "code",
   "execution_count": null,
   "id": "43651631-f754-404b-a876-50a2a3c88682",
   "metadata": {},
   "outputs": [],
   "source": [
    "cell_df['Class'].value_counts()"
   ]
  },
  {
   "cell_type": "markdown",
   "id": "6730e75d-b288-4c55-89ef-788a0c21201a",
   "metadata": {},
   "source": [
    "Vejamos a distribuição das classes (benigno ou maligno) com base nas features *CLump* e *UnifSize*:"
   ]
  },
  {
   "cell_type": "code",
   "execution_count": null,
   "id": "3a8ef9af-923b-4097-abf0-a9f124eb1ec6",
   "metadata": {},
   "outputs": [],
   "source": [
    "ax = cell_df[cell_df['Class'] == 4][0:50].plot(kind='scatter', x='Clump', y='UnifSize', color='DarkBlue', label='Maligno');\n",
    "cell_df[cell_df['Class'] == 2][0:50].plot(kind='scatter', x='Clump', y='UnifSize', color='Yellow', label='Benigno', ax=ax);\n",
    "plt.show()"
   ]
  },
  {
   "cell_type": "markdown",
   "id": "6f3fe49c-14d2-4548-89af-985089985b7b",
   "metadata": {},
   "source": [
    "## Separar as Colunas do Dataframe \n",
    "#### Regressores (Matriz de entrada) vs Variável Alvo (vetor de saídas)."
   ]
  },
  {
   "cell_type": "markdown",
   "id": "f08a0bdc-aacb-4b76-a55a-770f1e2ae616",
   "metadata": {},
   "source": [
    "Os regressores ou *features* são as variáveis explicativas do nosso dataset. Enquanto a variável alvo reflete a característica que desejamos classificar: em nosso dataset, se o câncer é benigno ou malígno.\n",
    "\n",
    "Para essa finalidade, vamos criar um novo dataframe a partir do dataframe orignal, mas utilizando apenas as features desejadas."
   ]
  },
  {
   "cell_type": "code",
   "execution_count": null,
   "id": "b5479fdc-7af2-47eb-b278-5a5c81ce1150",
   "metadata": {},
   "outputs": [],
   "source": [
    "feature_df = cell_df[['Clump', 'UnifSize', 'UnifShape', 'MargAdh', 'SingEpiSize', 'BlandChrom', 'NormNucl', 'Mit']]\n",
    "X = np.asarray(feature_df)\n",
    "X[0:5]"
   ]
  },
  {
   "cell_type": "markdown",
   "id": "5908324a-fa8b-4332-a840-133971932b77",
   "metadata": {},
   "source": [
    "Agora vamos criar o nosso dataframe que corresponde a variável alvo, ou seja, a variável que queremos fazer a predição."
   ]
  },
  {
   "cell_type": "code",
   "execution_count": null,
   "id": "03149d2d-d579-4a8c-8a6f-3332034b0a84",
   "metadata": {},
   "outputs": [],
   "source": [
    "cell_df['Class'] = cell_df['Class'].astype('int')\n",
    "y = np.asarray(cell_df['Class'])\n",
    "y [0:5]"
   ]
  },
  {
   "cell_type": "markdown",
   "id": "0079a695-ee0c-437f-8869-6d94281a774c",
   "metadata": {},
   "source": [
    "## Dividir o Dataset: Treinamento e Validação/Teste\n",
    "\n",
    "Uma solução bastante conhecida para minimizar esse problema é separar a base de dados em dois subconjuntos, que são mutuamente exclusivos:  um para treinamento e outro para validação/teste. "
   ]
  },
  {
   "cell_type": "code",
   "execution_count": null,
   "id": "f3347fe2-830a-42f1-9353-fe2a6def6d81",
   "metadata": {},
   "outputs": [],
   "source": [
    "from sklearn.model_selection import train_test_split"
   ]
  },
  {
   "cell_type": "code",
   "execution_count": null,
   "id": "3a2c9ae3-fc27-4532-b6d0-a4eaa89b49da",
   "metadata": {},
   "outputs": [],
   "source": [
    "X_train, X_test, y_train, y_test = train_test_split( X, y, test_size=0.2, random_state=4)"
   ]
  },
  {
   "cell_type": "markdown",
   "id": "d46d22f6-462c-4d5e-a292-54a37f521a3f",
   "metadata": {},
   "source": [
    "Vamos mostrar a dimensão desses conjuntos:"
   ]
  },
  {
   "cell_type": "code",
   "execution_count": null,
   "id": "05784e80-1df9-40c3-af76-ea2744cb9a6a",
   "metadata": {},
   "outputs": [],
   "source": [
    "print ('Conjunto de treino:', X_train.shape,  y_train.shape)\n",
    "print ('Conjunto de teste:', X_test.shape,  y_test.shape)"
   ]
  },
  {
   "cell_type": "markdown",
   "id": "409dd9cd-4b27-4a61-a132-b243953c9bc8",
   "metadata": {},
   "source": [
    "Podemos observar que nosso **conjunto de treinamento** possui 559 amostras (ou 80%), enquanto o **conjunto de avaliação** 140 amostras (ou 20%), totalizando as 699 amostras originais. "
   ]
  },
  {
   "cell_type": "markdown",
   "id": "db91aab3-40e6-4afa-b325-1f21ef620aac",
   "metadata": {},
   "source": [
    "## Algoritmo de Machine Learning"
   ]
  },
  {
   "cell_type": "markdown",
   "id": "b8aab6b0-5122-40bb-8c87-599605446ecb",
   "metadata": {},
   "source": [
    "#### **Passo 1:** Importando a componente do classificador. \n",
    "- No nosso exemplo vamos usar **Support Vector Machines**, na biblioteca `sklearn.svm`:"
   ]
  },
  {
   "cell_type": "code",
   "execution_count": null,
   "id": "999072c6-d291-4a46-95b1-d48256a5a047",
   "metadata": {},
   "outputs": [],
   "source": [
    "from sklearn import svm"
   ]
  },
  {
   "cell_type": "markdown",
   "id": "12eda479-78ab-46c8-be4a-f5b7caef5947",
   "metadata": {},
   "source": [
    "#### **Passo 2**: Instanciando o Estimador. "
   ]
  },
  {
   "cell_type": "code",
   "execution_count": null,
   "id": "46584b1f-a00d-4940-9354-de68c88ebc66",
   "metadata": {},
   "outputs": [],
   "source": [
    "clf = svm.SVC()"
   ]
  },
  {
   "cell_type": "markdown",
   "id": "d1474fe2-26d9-4f3a-8ce4-1222063e2d08",
   "metadata": {},
   "source": [
    "#### **Passo 3**: Ajustar os parâmetros do modelo a partir dos dados"
   ]
  },
  {
   "cell_type": "code",
   "execution_count": null,
   "id": "cae4481b-524f-4598-b70e-91cdf100d917",
   "metadata": {},
   "outputs": [],
   "source": [
    "clf.fit(X_train, y_train) "
   ]
  },
  {
   "cell_type": "markdown",
   "id": "9de0360e-f9b4-4de0-8819-c70d9bfd0685",
   "metadata": {},
   "source": [
    "#### **Passo 4:** Fazer a predição a partir de um novo comjunto de amostras:"
   ]
  },
  {
   "cell_type": "code",
   "execution_count": null,
   "id": "b84ce337-2778-4bbc-803e-0bd29cfffb94",
   "metadata": {},
   "outputs": [],
   "source": [
    "# Fazer previsões\n",
    "y_pred = clf.predict(X_test)"
   ]
  },
  {
   "cell_type": "markdown",
   "id": "c151c482-5c8f-4e55-87b8-71667f338a17",
   "metadata": {},
   "source": [
    "## Avaliação de Desempenho\n",
    "\n",
    "Vamos mostrar os valores de nosso dataset de validação e comparar com algumas predições feitas pelo nosso modelo:"
   ]
  },
  {
   "cell_type": "code",
   "execution_count": null,
   "id": "8e4e9907-0595-4828-aad3-09b260678626",
   "metadata": {},
   "outputs": [],
   "source": [
    "print(\"Valores reais:     \", y_test, \"\\n \")\n",
    "print(\"Valores previstos: \", y_pred)"
   ]
  },
  {
   "cell_type": "markdown",
   "id": "1bd01b9c-4826-48f1-af24-255967e3c822",
   "metadata": {},
   "source": [
    "Comparando esses valores  podemos observar que nosso modelo acertou muitas de suas previsões. \n",
    "\n",
    "Para quantificar esa análise, vamos utilizar a métrica: **acurácia**, método `metrics.accuracy_score`. Essa métrica indica o percentual de classes foram corretamente classificadas."
   ]
  },
  {
   "cell_type": "code",
   "execution_count": null,
   "id": "9de9144c-5b9d-40c7-b6e2-0bc888755430",
   "metadata": {},
   "outputs": [],
   "source": [
    "from sklearn import metrics\n",
    "print(\"Precisão no conjunto de treino: \", 100*metrics.accuracy_score(y_train, clf.predict(X_train)), '%.')\n",
    "print(\"Precisão no conjunto de teste: \", 100*metrics.accuracy_score(y_test, y_pred), '%.')"
   ]
  },
  {
   "cell_type": "markdown",
   "id": "73fa18de-6cb7-477e-8621-83e5e68d8686",
   "metadata": {},
   "source": [
    "Podemos observar, portanto, que o nosso modelo obteve uma acurácia superior a 90%."
   ]
  },
  {
   "cell_type": "markdown",
   "id": "d77b621d-8df2-4380-860e-b644a9185ff8",
   "metadata": {},
   "source": [
    "<hr>"
   ]
  },
  {
   "cell_type": "markdown",
   "id": "4ca7afd3-e19c-4674-9baf-3beeaf433466",
   "metadata": {},
   "source": [
    "## Direitos Autorais"
   ]
  },
  {
   "cell_type": "markdown",
   "id": "9e029a2e-eb2e-4898-abaa-c15a796dd1d4",
   "metadata": {},
   "source": [
    "[APL Data Intelligence](https://linktr.ee/APLdataintelligence)&#8482;  2021. Este notebook Python e seu código fonte estão liberados sob os termos da [Licença do MIT](https://bigdatauniversity.com/mit-license/)."
   ]
  }
 ],
 "metadata": {
  "kernelspec": {
   "display_name": "Python 3",
   "language": "python",
   "name": "python3"
  },
  "language_info": {
   "codemirror_mode": {
    "name": "ipython",
    "version": 3
   },
   "file_extension": ".py",
   "mimetype": "text/x-python",
   "name": "python",
   "nbconvert_exporter": "python",
   "pygments_lexer": "ipython3",
   "version": "3.8.8"
  }
 },
 "nbformat": 4,
 "nbformat_minor": 5
}

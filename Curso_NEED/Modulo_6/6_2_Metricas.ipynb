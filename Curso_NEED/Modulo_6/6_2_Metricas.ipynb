{
 "cells": [
  {
   "cell_type": "markdown",
   "metadata": {},
   "source": [
    "<center>\n",
    "    <img src=\"../imagens/logo_APL.png\" width=\"300\" alt=\"APL logo\"  />\n",
    "</center>"
   ]
  },
  {
   "cell_type": "markdown",
   "metadata": {
    "button": false,
    "new_sheet": false,
    "run_control": {
     "read_only": false
    }
   },
   "source": [
    "# Classificação: Métricas de Desempenho"
   ]
  },
  {
   "cell_type": "markdown",
   "metadata": {
    "button": false,
    "new_sheet": false,
    "run_control": {
     "read_only": false
    }
   },
   "source": [
    "**Bem vindo!** Neste material você aprenderá algumas das principais métricas de desempenho em problemas de classificação.  Usaremos a biblioteca `Scikit-Learn`, desenvolvida para aplicação prática de algoritmos de *machine learning*. Ao final, espera-se que você seja capaz de aplicar e interpretar o resuldo dessas métricas."
   ]
  },
  {
   "cell_type": "markdown",
   "metadata": {},
   "source": [
    "<h2>Conteúdo:</h2>\n",
    "<div class=\"alert alert-block alert-info\" style=\"margin-top: 20px\">\n",
    "<ul>\n",
    "    <li> Introdução </li>\n",
    "    <li> Entendendo e Carregando o Dataset </li> \n",
    "    <li> Análise Exploratória dos Dados </li>\n",
    "    <li> Regressores (Matriz de entrada) e Variável Alvo (vetor de saídas) </li>   \n",
    "    <li> Dividir o Dataset: Treinamento e Validação </li>   \n",
    "    <li> Algoritmo de Machine Learning </li>  \n",
    "    <li> Avaliação </li>  \n",
    "    <li> Visualização da Árvore de Decisão </li>\n",
    "</ul>\n",
    "</div>\n",
    "\n",
    "<hr>"
   ]
  },
  {
   "cell_type": "markdown",
   "metadata": {},
   "source": [
    "# Introdução"
   ]
  },
  {
   "cell_type": "markdown",
   "metadata": {},
   "source": [
    "Ao longo desse material vamos detalhar algumas das principais métricas de desempenho que podem ser utilizadas em problemas de classificação. Para tanto, a avaliação de modelo se dá a partir do cálculo de diversas medidas de desempenho, permitindo que o cientista de dados interprete a qualidade do modelo e sua potencial eficácia na resolução do problema em questão.\n",
    "\n",
    "Dentre as diversas opções de métricas de desempenho, neste módulo iremos aprender: \n",
    "- Matriz de Confusão\n",
    "- Acurácia\n",
    "- Precisão\n",
    "- Recall\n",
    "- F1 Score"
   ]
  },
  {
   "cell_type": "markdown",
   "metadata": {},
   "source": [
    "Carregamento das bibliotecas:"
   ]
  },
  {
   "cell_type": "code",
   "execution_count": 1,
   "metadata": {},
   "outputs": [],
   "source": [
    "from sklearn.model_selection import train_test_split\n",
    "from sklearn.metrics import accuracy_score\n",
    "import pandas as pd\n",
    "import numpy as np\n",
    "%matplotlib inline \n",
    "import matplotlib.pyplot as plt"
   ]
  },
  {
   "cell_type": "markdown",
   "metadata": {},
   "source": [
    "## Entendendo e Carregando o Dataset"
   ]
  },
  {
   "cell_type": "markdown",
   "metadata": {},
   "source": [
    "Vamos carregar nosso dataset.\n",
    "O exemplo é baseado em um conjunto de dados que está publicamente disponível no [UCI Machine Learning Repository](http://mlearn.ics.uci.edu/MLRepository.html). Esse conjunto de dados consiste em centenas de registros de amostras de células humanas, contendo diversas características. Os campos em cada registro são:\n",
    "\n",
    "| Nome        | Descrição                             |\n",
    "| ----------- | ---------------------------           |\n",
    "| ID          | Identificação                         |\n",
    "| Clump       | espessura do aglomerado               |\n",
    "| UnifSize    | Uniformidade do tamanho da célula     |\n",
    "| UnifShape   | Uniformidade do formato da célula     |\n",
    "| MargAdh     | Adesão marginal                       |\n",
    "| SingEpiSize | Tamanho de célula epitelial única     |\n",
    "| BareNuc     | Núcleos puros                         |\n",
    "| BlandChrom  | Cromatina branda                      |\n",
    "| NormNucl    | Nucléolos normais                     |\n",
    "| Mit         | Mitoses                               |\n",
    "| Class       | Benigno ou Maligno                    |\n",
    "\n",
    "\n",
    "Para fins de simplificação, estamos usando um conjunto de dados que possui um número relativamente pequeno de preditores ou regressores ou *features* (no presente contexto, esses termos são equivalentes) em cada registro.\n"
   ]
  },
  {
   "cell_type": "code",
   "execution_count": 2,
   "metadata": {},
   "outputs": [
    {
     "data": {
      "text/plain": [
       "(699, 11)"
      ]
     },
     "execution_count": 2,
     "metadata": {},
     "output_type": "execute_result"
    }
   ],
   "source": [
    "cell_df = pd.read_csv(\"https://raw.githubusercontent.com/APL-Data-Intelligence/AcelerAI/main/Curso_NEED/datasets/cellsample_dataset/cell_samples.csv\")\n",
    "cell_df.shape"
   ]
  },
  {
   "cell_type": "markdown",
   "metadata": {},
   "source": [
    "Nosso dataset possui, portanto, 699 amostras e 11 características/features."
   ]
  },
  {
   "cell_type": "code",
   "execution_count": 3,
   "metadata": {},
   "outputs": [
    {
     "data": {
      "text/html": [
       "<div>\n",
       "<style scoped>\n",
       "    .dataframe tbody tr th:only-of-type {\n",
       "        vertical-align: middle;\n",
       "    }\n",
       "\n",
       "    .dataframe tbody tr th {\n",
       "        vertical-align: top;\n",
       "    }\n",
       "\n",
       "    .dataframe thead th {\n",
       "        text-align: right;\n",
       "    }\n",
       "</style>\n",
       "<table border=\"1\" class=\"dataframe\">\n",
       "  <thead>\n",
       "    <tr style=\"text-align: right;\">\n",
       "      <th></th>\n",
       "      <th>ID</th>\n",
       "      <th>Clump</th>\n",
       "      <th>UnifSize</th>\n",
       "      <th>UnifShape</th>\n",
       "      <th>MargAdh</th>\n",
       "      <th>SingEpiSize</th>\n",
       "      <th>BareNuc</th>\n",
       "      <th>BlandChrom</th>\n",
       "      <th>NormNucl</th>\n",
       "      <th>Mit</th>\n",
       "      <th>Class</th>\n",
       "    </tr>\n",
       "  </thead>\n",
       "  <tbody>\n",
       "    <tr>\n",
       "      <th>0</th>\n",
       "      <td>1000025</td>\n",
       "      <td>5</td>\n",
       "      <td>1</td>\n",
       "      <td>1</td>\n",
       "      <td>1</td>\n",
       "      <td>2</td>\n",
       "      <td>1</td>\n",
       "      <td>3</td>\n",
       "      <td>1</td>\n",
       "      <td>1</td>\n",
       "      <td>2</td>\n",
       "    </tr>\n",
       "    <tr>\n",
       "      <th>1</th>\n",
       "      <td>1002945</td>\n",
       "      <td>5</td>\n",
       "      <td>4</td>\n",
       "      <td>4</td>\n",
       "      <td>5</td>\n",
       "      <td>7</td>\n",
       "      <td>10</td>\n",
       "      <td>3</td>\n",
       "      <td>2</td>\n",
       "      <td>1</td>\n",
       "      <td>2</td>\n",
       "    </tr>\n",
       "    <tr>\n",
       "      <th>2</th>\n",
       "      <td>1015425</td>\n",
       "      <td>3</td>\n",
       "      <td>1</td>\n",
       "      <td>1</td>\n",
       "      <td>1</td>\n",
       "      <td>2</td>\n",
       "      <td>2</td>\n",
       "      <td>3</td>\n",
       "      <td>1</td>\n",
       "      <td>1</td>\n",
       "      <td>2</td>\n",
       "    </tr>\n",
       "    <tr>\n",
       "      <th>3</th>\n",
       "      <td>1016277</td>\n",
       "      <td>6</td>\n",
       "      <td>8</td>\n",
       "      <td>8</td>\n",
       "      <td>1</td>\n",
       "      <td>3</td>\n",
       "      <td>4</td>\n",
       "      <td>3</td>\n",
       "      <td>7</td>\n",
       "      <td>1</td>\n",
       "      <td>2</td>\n",
       "    </tr>\n",
       "    <tr>\n",
       "      <th>4</th>\n",
       "      <td>1017023</td>\n",
       "      <td>4</td>\n",
       "      <td>1</td>\n",
       "      <td>1</td>\n",
       "      <td>3</td>\n",
       "      <td>2</td>\n",
       "      <td>1</td>\n",
       "      <td>3</td>\n",
       "      <td>1</td>\n",
       "      <td>1</td>\n",
       "      <td>2</td>\n",
       "    </tr>\n",
       "  </tbody>\n",
       "</table>\n",
       "</div>"
      ],
      "text/plain": [
       "        ID  Clump  UnifSize  UnifShape  MargAdh  SingEpiSize BareNuc  \\\n",
       "0  1000025      5         1          1        1            2       1   \n",
       "1  1002945      5         4          4        5            7      10   \n",
       "2  1015425      3         1          1        1            2       2   \n",
       "3  1016277      6         8          8        1            3       4   \n",
       "4  1017023      4         1          1        3            2       1   \n",
       "\n",
       "   BlandChrom  NormNucl  Mit  Class  \n",
       "0           3         1    1      2  \n",
       "1           3         2    1      2  \n",
       "2           3         1    1      2  \n",
       "3           3         7    1      2  \n",
       "4           3         1    1      2  "
      ]
     },
     "execution_count": 3,
     "metadata": {},
     "output_type": "execute_result"
    }
   ],
   "source": [
    "cell_df.head()"
   ]
  },
  {
   "cell_type": "markdown",
   "metadata": {},
   "source": [
    "### Análise Exploratória dos Dados"
   ]
  },
  {
   "cell_type": "markdown",
   "metadata": {},
   "source": [
    "O campo **Class** contém o diagnóstico: se as amostras são benignas (valor = 2) ou malignas (valor = 4).\n",
    "\n",
    "Vejamos a quantidade de cada uma dessas amostras segundo esse diagnóstico:"
   ]
  },
  {
   "cell_type": "code",
   "execution_count": 4,
   "metadata": {},
   "outputs": [
    {
     "data": {
      "text/plain": [
       "2    458\n",
       "4    241\n",
       "Name: Class, dtype: int64"
      ]
     },
     "execution_count": 4,
     "metadata": {},
     "output_type": "execute_result"
    }
   ],
   "source": [
    "cell_df['Class'].value_counts()"
   ]
  },
  {
   "cell_type": "markdown",
   "metadata": {},
   "source": [
    "O nosso dataset é composto, portanto, por 458 amostras benígnas e 241 malígnas.\n",
    "\n",
    "Todo problema de classificação binária pode ser considerado um problema de sim/não. Aqui a questão é: este câncer é Benigno? Na variável alvo (campo **Class** contém o diagnóstico), 2 significa Sim, enquanto 4 significa Não."
   ]
  },
  {
   "cell_type": "markdown",
   "metadata": {},
   "source": [
    "### Separar as Colunas do Dataframe \n",
    "#### Regressores (Matriz de entrada) vs Variável Alvo (vetor de saídas)."
   ]
  },
  {
   "cell_type": "markdown",
   "metadata": {},
   "source": [
    "Os regressores ou *features* são as variáveis explicativas do nosso dataset. Enquanto a variável alvo reflete a característica que desejamos classificar: em nosso dataset, se o câncer é benigno ou malígno.\n",
    "\n",
    "Para essa finalidade, vamos criar um novo dataframe a partir do dataframe orignal, mas utilizando apenas as features desejadas."
   ]
  },
  {
   "cell_type": "code",
   "execution_count": 5,
   "metadata": {},
   "outputs": [
    {
     "data": {
      "text/plain": [
       "array([[5, 1, 1, 1, 2, 3, 1, 1],\n",
       "       [5, 4, 4, 5, 7, 3, 2, 1],\n",
       "       [3, 1, 1, 1, 2, 3, 1, 1],\n",
       "       [6, 8, 8, 1, 3, 3, 7, 1],\n",
       "       [4, 1, 1, 3, 2, 3, 1, 1]], dtype=int64)"
      ]
     },
     "execution_count": 5,
     "metadata": {},
     "output_type": "execute_result"
    }
   ],
   "source": [
    "feature_df = cell_df[['Clump', 'UnifSize', 'UnifShape', 'MargAdh', 'SingEpiSize', 'BlandChrom', 'NormNucl', 'Mit']]\n",
    "X = np.asarray(feature_df)\n",
    "X[0:5]"
   ]
  },
  {
   "cell_type": "markdown",
   "metadata": {},
   "source": [
    "Agora vamos criar o nosso dataframe que corresponde a variável alvo, ou seja, a variável que queremos fazer a predição."
   ]
  },
  {
   "cell_type": "code",
   "execution_count": 6,
   "metadata": {},
   "outputs": [
    {
     "data": {
      "text/plain": [
       "array([2, 2, 2, 2, 2])"
      ]
     },
     "execution_count": 6,
     "metadata": {},
     "output_type": "execute_result"
    }
   ],
   "source": [
    "cell_df['Class'] = cell_df['Class'].astype('int')\n",
    "y = np.asarray(cell_df['Class'])\n",
    "y [0:5]"
   ]
  },
  {
   "cell_type": "markdown",
   "metadata": {},
   "source": [
    "### Dividir o Dataset: Treinamento e Validação/Teste\n",
    "\n",
    "Uma solução bastante conhecida para minimizar esse problema é separar a base de dados em dois subconjuntos, que são mutuamente exclusivos:  um para treinamento e outro para validação/teste. "
   ]
  },
  {
   "cell_type": "code",
   "execution_count": 7,
   "metadata": {},
   "outputs": [],
   "source": [
    "from sklearn.model_selection import train_test_split"
   ]
  },
  {
   "cell_type": "code",
   "execution_count": 8,
   "metadata": {},
   "outputs": [],
   "source": [
    "X_train, X_test, y_train, y_test = train_test_split( X, y, test_size=0.2, random_state=4)"
   ]
  },
  {
   "cell_type": "markdown",
   "metadata": {},
   "source": [
    "Vamos mostrar a dimensão desses conjuntos:"
   ]
  },
  {
   "cell_type": "code",
   "execution_count": 9,
   "metadata": {},
   "outputs": [
    {
     "name": "stdout",
     "output_type": "stream",
     "text": [
      "Conjunto de treino: (559, 8) (559,)\n",
      "Conjunto de teste: (140, 8) (140,)\n"
     ]
    }
   ],
   "source": [
    "print ('Conjunto de treino:', X_train.shape,  y_train.shape)\n",
    "print ('Conjunto de teste:', X_test.shape,  y_test.shape)"
   ]
  },
  {
   "cell_type": "markdown",
   "metadata": {},
   "source": [
    "Podemos observar que nosso **conjunto de treinamento** possui 559 amostras (ou 80%), enquanto o **conjunto de avaliação** 140 amostras (ou 20%), totalizando as 699 amostras originais. "
   ]
  },
  {
   "cell_type": "markdown",
   "metadata": {},
   "source": [
    "## Algoritmo de Machine Learning"
   ]
  },
  {
   "cell_type": "markdown",
   "metadata": {},
   "source": [
    "No nosso exemplo vamos usar **Support Vector Machines**, na biblioteca `sklearn.svm`. Entretanto, uma discussão mais detalhada desse algoritmo é adiada para o módulo XXXXXXXXXX"
   ]
  },
  {
   "cell_type": "code",
   "execution_count": 10,
   "metadata": {},
   "outputs": [],
   "source": [
    "from sklearn import svm\n",
    "# Instanciando o Estimador. \n",
    "classificador = svm.SVC()\n",
    "# Treinamento - Ajustar os parâmetros do modelo a partir dos dados\n",
    "classificador.fit(X_train, y_train) \n",
    "# Fazer a predição a partir de um novo comjunto de amostras:\n",
    "y_pred = classificador.predict(X_test)"
   ]
  },
  {
   "cell_type": "markdown",
   "metadata": {},
   "source": [
    "## Avaliação de Desempenho\n",
    "\n",
    "Vamos mostrar os valores de nosso dataset de validação e comparar com algumas predições feitas pelo nosso modelo:"
   ]
  },
  {
   "cell_type": "code",
   "execution_count": 11,
   "metadata": {},
   "outputs": [
    {
     "name": "stdout",
     "output_type": "stream",
     "text": [
      "Valores reais:      [4 2 2 4 2 2 2 4 4 4 2 2 2 2 4 4 2 2 2 2 2 4 2 2 2 4 2 2 4 4 2 4 2 2 2 4 2\n",
      " 4 4 2 2 4 4 2 2 2 2 2 2 2 2 4 2 2 2 2 4 4 4 4 2 2 4 4 4 2 2 2 4 2 4 4 4 2\n",
      " 2 2 4 2 4 2 2 2 2 2 2 2 2 4 4 2 4 2 2 4 4 4 2 4 4 2 4 2 4 2 2 2 2 2 2 2 2\n",
      " 2 2 2 2 4 4 2 2 2 4 2 4 2 2 2 4 4 2 4 2 2 2 4 2 4 2 2 4 4] \n",
      " \n",
      "Valores previstos:  [4 2 4 4 2 2 2 4 4 4 2 2 2 2 4 4 2 2 2 2 2 4 2 2 2 4 2 2 4 4 2 4 2 2 2 4 2\n",
      " 4 4 2 2 4 4 2 2 2 2 2 2 2 2 4 2 2 2 2 4 4 4 4 2 2 4 4 4 2 2 2 4 2 2 4 4 2\n",
      " 2 2 4 2 2 2 2 2 2 2 2 2 2 4 4 2 2 2 2 4 4 4 2 4 4 2 4 2 4 2 2 2 2 2 2 2 2\n",
      " 2 2 4 2 4 4 2 2 2 4 2 4 2 2 2 2 4 2 4 2 2 2 4 2 4 2 2 4 4]\n"
     ]
    }
   ],
   "source": [
    "print(\"Valores reais:     \", y_test, \"\\n \")\n",
    "print(\"Valores previstos: \", y_pred)"
   ]
  },
  {
   "cell_type": "markdown",
   "metadata": {},
   "source": [
    "Comparando esses valores  podemos observar que nosso modelo acertou muitas de suas previsões. Entretanto, para se quantificar esa análise, vamos utilizar algumas das principais métricas de desempenho em problemas de classificação."
   ]
  },
  {
   "cell_type": "markdown",
   "metadata": {},
   "source": [
    "## Matriz de Confusão\n",
    "\n",
    "A matriz de confusão é uma tabela comparativa dos valores que um algoritmo trouxe como predição em relação aos valores reais ocorridos. \n",
    "\n",
    "<center>\n",
    "    <img src=\"../imagens/matriz_confusao.png\" width=\"500\"  />\n",
    "</center>\n",
    "\n",
    "Figura é apenas um exemplo, vamos arrumar uma melhor, pois as cores estão confundido com a Matriz calculada e plotada na sequência..."
   ]
  },
  {
   "cell_type": "code",
   "execution_count": 12,
   "metadata": {},
   "outputs": [
    {
     "data": {
      "image/png": "[encoded data removed]",
      "text/plain": [
       "<Figure size 432x288 with 1 Axes>"
      ]
     },
     "metadata": {
      "needs_background": "light"
     },
     "output_type": "display_data"
    }
   ],
   "source": [
    "from sklearn.metrics import plot_confusion_matrix\n",
    "plot_confusion_matrix(classificador, X_test, y_test, colorbar=False, cmap='binary',display_labels = ('Benigno', 'Maligno'))  \n",
    "plt.show()"
   ]
  },
  {
   "cell_type": "markdown",
   "metadata": {},
   "source": [
    "**Previsões corretas**\n",
    "\n",
    "* **Verdadeiros Positivos** (TP = True Positive) = 86. Verdadeiros positivos são os casos em que a classe real era Positiva e o previsto também é Positivo. Neste caso, significa que no conjunto de testes, 86 casos de câncer benigno foram corretamente classificados.\n",
    "\n",
    "* **Verdadeiros Negativos** (TN = True Negative) = 48. Os verdadeiros negativos são os casos em que a classe real era Falsa e a prevista também é Falsa. Neste caso, significa que no conjunto de testes, 48 casos de câncer maligno foram corretamente classificados.\n",
    "\n",
    "**Previsões Incorretas**\n",
    "\n",
    "* **Falsos Positivos** (FP = False Positive) = 4. Falsos positivos são os casos em que a classe real era Falsa, mas foi previsto Positivo. A palavra **Falsos** indica que o modelo previu incorretamente, enquanto **Positivos** porque a classe previu ser positivo. Aqui significa que no conjunto de testes, 4 casos de Câncer Maligno (classe negativa) foram incorretamente classificados como Benigno (Classe Positiva).\n",
    "\n",
    "* **Falsos Negativos** (FN = False Negative) = 2. Falsos negativos são os casos em que a classe real Positiva, mas foi previsto é Falso. A palavra **Falsos** indica que o modelo previu incorretamente e **Negativos** porque a classe previu ser negativo. Aqui significa que apenas 2 casos de câncer benigno foram incorretamente classificado como maligno.\n",
    "\n",
    "Essa matriz é muito útil para avaliação de seu modelo, por duas razões principais: 1) porque os dados dela descrevem o resultado da classificação de cada registro; e 2) porque é a por meio dela que obtemos as demais métricas, conforme será detalhado na sequência.\n",
    "\n"
   ]
  },
  {
   "cell_type": "markdown",
   "metadata": {},
   "source": [
    "## Acurácia \n",
    "\n",
    "É o indicador mais simples de se calcular. É uma métrica que nos mostra a fração de previsões feitas corretamente, de acordo com:  $AC = \\frac{TP+TN}{TP+TN+FP+FN}$, em que $AC$ indica a Acurácia do modelo. Iniciamente, vamos importar o método ``accuracy_score``."
   ]
  },
  {
   "cell_type": "code",
   "execution_count": 13,
   "metadata": {},
   "outputs": [],
   "source": [
    "from sklearn.metrics import accuracy_score"
   ]
  },
  {
   "cell_type": "markdown",
   "metadata": {},
   "source": [
    " Podemos calcular a precisão de três maneiras: Na primeira usando o método ``accuracy_score()``:"
   ]
  },
  {
   "cell_type": "code",
   "execution_count": 14,
   "metadata": {},
   "outputs": [
    {
     "data": {
      "text/plain": [
       "0.9571428571428572"
      ]
     },
     "execution_count": 14,
     "metadata": {},
     "output_type": "execute_result"
    }
   ],
   "source": [
    "accuracy_score(y_true= y_test, y_pred= y_pred)"
   ]
  },
  {
   "cell_type": "markdown",
   "metadata": {},
   "source": [
    "Enquanto na segunda utilizando o método ``score()``:"
   ]
  },
  {
   "cell_type": "code",
   "execution_count": 15,
   "metadata": {},
   "outputs": [
    {
     "data": {
      "text/plain": [
       "0.9571428571428572"
      ]
     },
     "execution_count": 15,
     "metadata": {},
     "output_type": "execute_result"
    }
   ],
   "source": [
    "classificador.score(X_test, y_test)"
   ]
  },
  {
   "cell_type": "markdown",
   "metadata": {},
   "source": [
    "Na terceira, apenas para confirmar: $AC = \\frac{TP+TN}{TP+TN+FP+FN}$"
   ]
  },
  {
   "cell_type": "code",
   "execution_count": 16,
   "metadata": {},
   "outputs": [
    {
     "data": {
      "text/plain": [
       "0.9571428571428572"
      ]
     },
     "execution_count": 16,
     "metadata": {},
     "output_type": "execute_result"
    }
   ],
   "source": [
    "(86+48)/(86+48+4+2)"
   ]
  },
  {
   "cell_type": "markdown",
   "metadata": {},
   "source": [
    "Podemos observar, portanto, uma acurácia de 95,71%, ou seja 95,71% de nossas previsões estão corretas.\n",
    "\n",
    "Embora seja uma métrica de fácil interpretação, a acurácia não é, necessariamente, a melhor métrica. Ela não nos dá informações suficientes sobre as instâncias em que o classificador errou. E, ainda, embora possamos pensar que uma acurácia de 90% seja boa, isso não é necessariamente verdadeiro quandos os dados estão desbalanceados. Digamos que uma classe A componha 90% dos dados, enquanto uma classe B apenas 10%. Um classificador \"ingênuo\" que classificou todas as amostras do dataset como classe A teria uma  acurácia de 90%. \n",
    "\n",
    "Na sequência vamos discutir outras métricas que atacam esse problema e nos trazem outros insights sobre o classificador em análise\n"
   ]
  },
  {
   "cell_type": "markdown",
   "metadata": {},
   "source": [
    "## Precisão\n",
    "\n",
    "É utilizada para indicar a relação entre as previsões corretamente classificadas como positivas dentre todas as previsões positivas feitas pelo modelo. Respondendo à seguinte pergunta: de todas as amostras classificadas como positivas (malígnas), qual percentual foi classificado corretamente?  $PR = \\frac{TP}{TP+FP}$, em que $PR$ indica a precisão do modelo. Iniciamente, vamos importar o método ``precision_score``.\n"
   ]
  },
  {
   "cell_type": "code",
   "execution_count": 17,
   "metadata": {},
   "outputs": [],
   "source": [
    "from sklearn.metrics import precision_score"
   ]
  },
  {
   "cell_type": "code",
   "execution_count": 18,
   "metadata": {},
   "outputs": [
    {
     "data": {
      "text/plain": [
       "0.9555555555555556"
      ]
     },
     "execution_count": 18,
     "metadata": {},
     "output_type": "execute_result"
    }
   ],
   "source": [
    "precision_score(y_true=y_test, y_pred=y_pred,pos_label=2)"
   ]
  },
  {
   "cell_type": "markdown",
   "metadata": {},
   "source": [
    "Apenas para confirmar: $PR = \\frac{TP}{TP+FP}$"
   ]
  },
  {
   "cell_type": "code",
   "execution_count": 19,
   "metadata": {},
   "outputs": [
    {
     "name": "stdout",
     "output_type": "stream",
     "text": [
      "0.9555555555555556\n"
     ]
    }
   ],
   "source": [
    "PR=86/(86+4)\n",
    "print(PR)"
   ]
  },
  {
   "cell_type": "markdown",
   "metadata": {},
   "source": [
    "## Recall\n",
    "\n",
    "É utilizada para indicar a relação entre as previsões positivas realizadas corretamente e todas as previsões que realmente são positivas. Respondendo à seguinte pergunta: de todas as amostras positivas (malígnas) na base de dados original, qual percentual é identificado corretamente pelo modelo?  $RE = \\frac{TP}{TP+FN}$, em que $RE$ indica a métrica Recall. Iniciamente, vamos importar o método ``recall_score``.\n"
   ]
  },
  {
   "cell_type": "code",
   "execution_count": 20,
   "metadata": {},
   "outputs": [],
   "source": [
    "from sklearn.metrics import recall_score"
   ]
  },
  {
   "cell_type": "code",
   "execution_count": 21,
   "metadata": {},
   "outputs": [
    {
     "data": {
      "text/plain": [
       "0.9772727272727273"
      ]
     },
     "execution_count": 21,
     "metadata": {},
     "output_type": "execute_result"
    }
   ],
   "source": [
    "recall_score(y_true=y_test, y_pred=y_pred,pos_label=2)"
   ]
  },
  {
   "cell_type": "markdown",
   "metadata": {},
   "source": [
    "Apenas para confirmar: $RE = \\frac{TP}{TP+FN}$"
   ]
  },
  {
   "cell_type": "code",
   "execution_count": 22,
   "metadata": {},
   "outputs": [
    {
     "name": "stdout",
     "output_type": "stream",
     "text": [
      "0.9772727272727273\n"
     ]
    }
   ],
   "source": [
    "RE=86/(86+2)\n",
    "print(RE)"
   ]
  },
  {
   "cell_type": "markdown",
   "metadata": {},
   "source": [
    "## F1 Score\n",
    "Precisão e recall também podem ser combinados em uma única métrica chamada F1 Score. A pontuação da F1 é a média harmônica de precisão e recall, isto é quando os dois valores do cálculo são iguais, essa média gera resultados muito próximos da média “comum”. No entanto, sempre que os valores são diferentes, essa média se aproxima mais dos valores menores. $F1 = \\frac{2*PR*RE}{PR+RE}$, em que $F1$ indica a métrica F1 Score. Iniciamente, vamos importar o método ``f1_score``."
   ]
  },
  {
   "cell_type": "code",
   "execution_count": 23,
   "metadata": {},
   "outputs": [],
   "source": [
    "from sklearn.metrics import f1_score"
   ]
  },
  {
   "cell_type": "code",
   "execution_count": 24,
   "metadata": {},
   "outputs": [
    {
     "data": {
      "text/plain": [
       "0.9662921348314608"
      ]
     },
     "execution_count": 24,
     "metadata": {},
     "output_type": "execute_result"
    }
   ],
   "source": [
    "f1_score(y_true=y_test, y_pred=y_pred,pos_label=2)"
   ]
  },
  {
   "cell_type": "markdown",
   "metadata": {},
   "source": [
    "Apenas para confirmar: $F1 = \\frac{2*PR*RE}{PR+RE}$"
   ]
  },
  {
   "cell_type": "code",
   "execution_count": 25,
   "metadata": {},
   "outputs": [
    {
     "name": "stdout",
     "output_type": "stream",
     "text": [
      "0.9662921348314608\n"
     ]
    }
   ],
   "source": [
    "F1=2*PR*RE/(PR+RE)\n",
    "print(F1)"
   ]
  },
  {
   "cell_type": "markdown",
   "metadata": {},
   "source": [
    "<hr>"
   ]
  },
  {
   "cell_type": "markdown",
   "metadata": {},
   "source": [
    "## Direitos Autorais"
   ]
  },
  {
   "cell_type": "markdown",
   "metadata": {},
   "source": [
    "[APL Data Intelligence](https://linktr.ee/APLdataintelligence)&#8482;  2021. Este notebook Python e seu código fonte estão liberados sob os termos da [Licença do MIT](https://bigdatauniversity.com/mit-license/)."
   ]
  }
 ],
 "metadata": {
  "kernelspec": {
   "display_name": "Python 3",
   "language": "python",
   "name": "python3"
  },
  "language_info": {
   "codemirror_mode": {
    "name": "ipython",
    "version": 3
   },
   "file_extension": ".py",
   "mimetype": "text/x-python",
   "name": "python",
   "nbconvert_exporter": "python",
   "pygments_lexer": "ipython3",
   "version": "3.8.8"
  }
 },
 "nbformat": 4,
 "nbformat_minor": 4
}

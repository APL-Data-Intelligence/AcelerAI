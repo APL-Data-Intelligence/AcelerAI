{
 "cells": [
  {
   "cell_type": "markdown",
   "metadata": {},
   "source": [
    "<center>\n",
    "    <img src=\"../imagens/logo_APL.png\" width=\"300\" alt=\"APL logo\"  />\n",
    "</center>"
   ]
  },
  {
   "cell_type": "markdown",
   "metadata": {
    "id": "E93lFiSCqwim"
   },
   "source": [
    "# Análise Exploratória dos Dados em `Python`"
   ]
  },
  {
   "cell_type": "markdown",
   "metadata": {},
   "source": [
    "**Bem vindo!** Neste notebook serão discutidas ferramentas para a Análise Exploratória dos Dados. Ao final, espera-se que você seja capaz de você usar as ferramentas de captura, limpeza, análise e visualização dos dados. "
   ]
  },
  {
   "cell_type": "markdown",
   "metadata": {},
   "source": [
    "<h2>Conteúdo:</h2>\n",
    "<div class=\"alert alert-block alert-info\" style=\"margin-top: 20px\">\n",
    "        <li> Introdução </li>  \n",
    "        <li> Gráficos de Dispersão </li> \n",
    "        <li> Correlação </li>   \n",
    "        <li> Fundamentos de Regressão Linear </li> \n",
    "</div>\n",
    "\n",
    "<hr>"
   ]
  },
  {
   "cell_type": "markdown",
   "metadata": {},
   "source": [
    "# Introdução"
   ]
  },
  {
   "cell_type": "markdown",
   "metadata": {},
   "source": [
    "A ﬁnalidade da Análise Exploratória de Dados (AED) é permitir que o analista tenha um entendimento básico de seus dados e das relações existentes entre as variáveis analisadas.  Trata-se, portanto, de uma etapa fundamental que precede a  modelagem por algoritmos de *Machine Learning*.\n",
    "\n",
    "No nosso curso, para melhor organização, separamos essa etapa da fase de pré-processamento (aula anterior), em que aprendemos conceitos como: i) agrupamento dos dados; tratamento de valores ausentes e normalização de dados. \n",
    "\n",
    "O objetivo da AED é, portanto, utilizar síntese estatística e técnicas de visualização para entender melhor os dados e identificar insights sobre tendências e a qualidade dos dados, bem como para formular hipóteses a serem investigadas.\n",
    "\n",
    "Inicialmente, fazemos o carregamento dos pacotes `Python` necessários:"
   ]
  },
  {
   "cell_type": "code",
   "execution_count": null,
   "metadata": {
    "id": "2dwoEXGNqwiz",
    "tags": []
   },
   "outputs": [],
   "source": [
    "%matplotlib inline\n",
    "\n",
    "import pandas as pd\n",
    "import numpy as np\n",
    "\n",
    "import seaborn as sns\n",
    "import matplotlib.pylab as plt"
   ]
  },
  {
   "cell_type": "markdown",
   "metadata": {},
   "source": [
    "Vamos carregar o nosso dataset, o mesmo usado no módulo anterior."
   ]
  },
  {
   "cell_type": "code",
   "execution_count": null,
   "metadata": {
    "id": "oKjc2PmHqwi3",
    "outputId": "d4514a5c-ac26-4064-a6d8-0246aacfc318",
    "tags": []
   },
   "outputs": [],
   "source": [
    "df = pd.read_csv(\"https://raw.githubusercontent.com/APL-Data-Intelligence/AcelerAI/main/Curso_NEED/datasets/dados.csv\")\n",
    "print(df.head())"
   ]
  },
  {
   "cell_type": "markdown",
   "metadata": {
    "id": "UAtf-JbwqwjO"
   },
   "source": [
    "## Gráficos de Dispersão\n",
    "Como vimos anteriormente, gráficos de dispersão são fornecidos pela biblioteca `Pandas`. \n",
    "\n",
    "No nosso exemplo, vamos ver a relação entre o _Preço_ e o _Area_."
   ]
  },
  {
   "cell_type": "code",
   "execution_count": null,
   "metadata": {},
   "outputs": [],
   "source": [
    "df.plot.scatter(x='preco', y='area')"
   ]
  },
  {
   "cell_type": "markdown",
   "metadata": {},
   "source": [
    "## Matriz de gráficos de dispersão\n",
    "Objetivo de visualizar se existe correlação entre cada par de atributos. \n",
    "\n",
    "No nosso exemplo vamos usar as variáveis contínuas: _condomínio_, _preço_, _preço/m2_ e _área_."
   ]
  },
  {
   "cell_type": "code",
   "execution_count": null,
   "metadata": {},
   "outputs": [],
   "source": [
    "pd.plotting.scatter_matrix(df[['condominio', 'preco', 'pm2', 'area']]);"
   ]
  },
  {
   "cell_type": "markdown",
   "metadata": {},
   "source": [
    "### Gráficos de distribuição conjunta fornecidos pela biblioteca `Seaborn`. \n",
    "No nosso exemplo vamos ver a distribuição conjunta  entre o _Preço_ e o _Area_, exibindo uma relação entre essas duas variáveis, assim como perfis 1D (histogramas) nas laterais dos eixos."
   ]
  },
  {
   "cell_type": "code",
   "execution_count": null,
   "metadata": {},
   "outputs": [],
   "source": [
    "sns.jointplot(data=df, x='preco', y='area', alpha=0.4);"
   ]
  },
  {
   "cell_type": "markdown",
   "metadata": {},
   "source": [
    "### Matriz de dispersão da biblioteca `Seaborn`\n",
    "No nosso exemplo vamos usar as variáveis contínuas: _condomínio_, _preço_, _preço/m2_ e _área_."
   ]
  },
  {
   "cell_type": "code",
   "execution_count": null,
   "metadata": {},
   "outputs": [],
   "source": [
    "sns.pairplot(df[['condominio', 'preco', 'pm2', 'area']])"
   ]
  },
  {
   "cell_type": "markdown",
   "metadata": {
    "id": "BHZf49VsqwjK"
   },
   "source": [
    "# Correlação vs Causalidade\n",
    "**Correlação**: uma medida da extensão da interdependência entre as variáveis.\n",
    "\n",
    "**Causalidade**: a relação entre causa e efeito entre duas variáveis.\n",
    "\n",
    "É importante saber a diferença entre os dois e que a **correlação não implica causalidade**. Determinar a correlação é muito mais simples do que determinar a causalidade."
   ]
  },
  {
   "cell_type": "markdown",
   "metadata": {},
   "source": [
    "Calculando a **correlação** entre as features do nosso dataset."
   ]
  },
  {
   "cell_type": "code",
   "execution_count": null,
   "metadata": {},
   "outputs": [],
   "source": [
    "df.corr().round(2)"
   ]
  },
  {
   "cell_type": "markdown",
   "metadata": {},
   "source": [
    "A visualização por meio de uma figura pode facilitar nossa análise. Ovserve que as tonalidades de diferentes cores auxiliam na identificação do valor da **correlação**. A discussão de **causalidade** está fora do noso escopo neste momento."
   ]
  },
  {
   "cell_type": "code",
   "execution_count": null,
   "metadata": {
    "id": "vJrQYJpLqwjM",
    "outputId": "d245d25f-cdb0-417a-cbf2-dbc12c1ae670",
    "tags": []
   },
   "outputs": [],
   "source": [
    "fig, ax = plt.subplots(figsize=(8, 8))\n",
    "ax = sns.heatmap(df.corr(), vmin=-0, vmax=1, annot=True,\n",
    "                 cmap=sns.diverging_palette(20, 220, as_cmap=True),\n",
    "                 ax=ax)\n",
    "\n",
    "plt.show()"
   ]
  },
  {
   "cell_type": "markdown",
   "metadata": {},
   "source": [
    "Pela análise desse gráfico pode-se observar que existe uma correlação alta entre a _area_ e o _preco_ (residências com maior área construída tendem a possuir um maior preço). Também existe uma correlação alta entre o valor do _condominio_ e _preço_. \n",
    "\n",
    "Por outro lado,  existe uma correlação fraca entre a variável _vagas_ e _pm2_ (preço/m2). E uma correlação mais fraca ainda (quase nula) entre _quartos_ e _pm2_. Em outras palavras, outras features contribuem mais para o valor do preço/m2 que o numero de quartos e a quantidade de vagas."
   ]
  },
  {
   "cell_type": "markdown",
   "metadata": {},
   "source": [
    "## Fundamentos de Regressão Linear"
   ]
  },
  {
   "cell_type": "markdown",
   "metadata": {},
   "source": [
    "O conceito de Regressão Linear pode ser entendido como um conjunto de ferramentas que tenta estabelecer uma relação linear entre variáveis. Graficamente, processo de traçar uma reta através dos dados em um diagrama de dispersão. Portanto, pode complementar a análise de correlação. \n",
    "\n",
    "Pela análise do gráfico de correlação, pôde-se observar uma correlação alta tanto entre a _area_ e o _preco_ quanto entre o valor do _condominio_ e _preço_. Isso é confirmado pela análise dos gráficos a seguir: _area_ vs _preco_ (esquerda) e _condominio_ vs _preço_ (direita)."
   ]
  },
  {
   "cell_type": "code",
   "execution_count": null,
   "metadata": {},
   "outputs": [],
   "source": [
    "sns.pairplot(df, x_vars=[\"area\", \"condominio\"], y_vars=[\"preco\"], height=4, aspect=1, kind=\"reg\");"
   ]
  },
  {
   "cell_type": "markdown",
   "metadata": {},
   "source": [
    "Ainda, pela análise do gráfico de correlação, pôde-se observar uma correlação fraca entre a variável _vagas_ e _pm2_. E uma correlação quase nula entre _quartos_ e _pm2_. Isso é confirmado pela análise dos gráficos a seguir.\n",
    "\n",
    "Observe que a inclinação do gráfico _quartos_ vs _pm2_ (esquerda) é menor que a inclinação no gráfico _vagas_ vs  _pm2_ (direita)."
   ]
  },
  {
   "cell_type": "code",
   "execution_count": null,
   "metadata": {},
   "outputs": [],
   "source": [
    "sns.pairplot(df, x_vars=[\"quartos\", \"vagas\"], y_vars=[\"pm2\"], height=4, aspect=1, kind=\"reg\");"
   ]
  },
  {
   "cell_type": "markdown",
   "metadata": {},
   "source": [
    "### Detalhando a relação entre _vagas_ e _preço/m2_ em relação ao _bairro_."
   ]
  },
  {
   "cell_type": "markdown",
   "metadata": {},
   "source": [
    "Os gráficos a seguir detalham a relação entre _vagas_ e _pm2_ em função do bairro."
   ]
  },
  {
   "cell_type": "code",
   "execution_count": null,
   "metadata": {},
   "outputs": [],
   "source": [
    "sns.lmplot(x=\"vagas\", y=\"pm2\", col='bairro', data=df,col_wrap=4, height=3)"
   ]
  },
  {
   "cell_type": "markdown",
   "metadata": {},
   "source": [
    "Outra forma de se visualizar essa relação é por meio de uma tabela que relaciona: Bairro, numero de vagas e Preço/m2"
   ]
  },
  {
   "cell_type": "code",
   "execution_count": null,
   "metadata": {},
   "outputs": [],
   "source": [
    "df_1 = df[['bairro','pm2','vagas']]\n",
    "grouped_test1 = df_1.groupby(['bairro','vagas'],as_index=False).mean()\n",
    "grouped_pivot = grouped_test1.pivot(index='bairro',columns='vagas')\n",
    "grouped_pivot.round(2)"
   ]
  },
  {
   "cell_type": "markdown",
   "metadata": {},
   "source": [
    "O valor `NaN` indica que não existe um valor numérico. \n",
    "\n",
    "Dessa forma, na base de dados utilizada, não existem residências com 3 vagas em Copacana. Assim como não existem residências com 4 vagas nos bairros de Botafogo, Grajaú, Gávea e Tijuca.\n",
    "\n",
    "Observa-se que quase não existe variação do Preço/m2 no Bairro de Copacabana em função do numero de vagas, por isso a inclinação do reta é quase nulano gráfico correspondente. O mesmo vale para os bairros de Grajaú e Tijuca."
   ]
  },
  {
   "cell_type": "markdown",
   "metadata": {},
   "source": [
    "<hr>"
   ]
  },
  {
   "cell_type": "markdown",
   "metadata": {},
   "source": [
    "## Direitos Autorais"
   ]
  },
  {
   "cell_type": "markdown",
   "metadata": {},
   "source": [
    "[APL Data Intelligence](https://linktr.ee/APLdataintelligence)&#8482;  2021. Este notebook Python e seu código fonte estão liberados sob os termos da [Licença do MIT](https://bigdatauniversity.com/mit-license/)."
   ]
  }
 ],
 "metadata": {
  "colab": {
   "name": "Chapter 1 - Exploratory Data Analysis.ipynb",
   "provenance": []
  },
  "kernelspec": {
   "display_name": "Python 3",
   "language": "python",
   "name": "python3"
  },
  "language_info": {
   "codemirror_mode": {
    "name": "ipython",
    "version": 3
   },
   "file_extension": ".py",
   "mimetype": "text/x-python",
   "name": "python",
   "nbconvert_exporter": "python",
   "pygments_lexer": "ipython3",
   "version": "3.8.8"
  }
 },
 "nbformat": 4,
 "nbformat_minor": 4
}

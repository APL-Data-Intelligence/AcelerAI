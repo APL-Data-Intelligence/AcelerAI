{
 "cells": [
  {
   "cell_type": "markdown",
   "metadata": {},
   "source": [
    "<center>\n",
    "    <img src=\"imagens/logo_APL.png\" width=\"300\" alt=\"APL logo\"  />\n",
    "</center>"
   ]
  },
  {
   "cell_type": "markdown",
   "metadata": {},
   "source": [
    "# Funções em `Python`"
   ]
  },
  {
   "cell_type": "markdown",
   "metadata": {},
   "source": [
    "**Bem-vindo!** Neste material será abordado o conceito de *Funções* na linguagem `Python`. Ao final, espera-se que você conheça os conceitos básicos sobre funções, variáveis e como usar funções para melhorar a estrutura de seus programas."
   ]
  },
  {
   "cell_type": "markdown",
   "metadata": {},
   "source": [
    "<h2>Conteúdo:</h2>\n",
    "<div class=\"alert alert-block alert-info\" style=\"margin-top: 20px\">\n",
    "    <ul>\n",
    "        <li>\n",
    "            Funções:\n",
    "            <ul>\n",
    "                <li>O que é uma função? (<i>Range<i>)</li>  \n",
    "                <li>Variáveis?</li>\n",
    "                <li>Funções tornam as coisas mais simples</li>\n",
    "            <ul>\n",
    "       </li>\n",
    "             <li>Funções Pré-definidas</li> \n",
    "             <li>Usando comandos <code> if </code> / <code> else </code> e laços de repetição em funções</li> \n",
    "            <li> Definir valores padrão para o argumento em suas funções personalizadas</li> \n",
    "            <li> Global variables</li> \n",
    "            <li> Scope of a Variable</li> \n",
    "    <ul>\n",
    "</div>\n",
    "\n",
    "<hr>"
   ]
  },
  {
   "cell_type": "markdown",
   "metadata": {},
   "source": [
    "<h2 id=\"func\">Funções</h2>"
   ]
  },
  {
   "cell_type": "markdown",
   "metadata": {},
   "source": [
    "Uma função pode ser entendida um bloco de código reutilizável, que realiza operações especificadas na função. Funções permitem que você divida tarefas e reutilize seu código em diferentes programas.\n",
    "\n",
    "Existem dois tipos de funções:\n",
    "\n",
    "- <b> Funções predefinidas </b>\n",
    "- <b> Funções definidas pelo usuário </b>"
   ]
  },
  {
   "cell_type": "markdown",
   "metadata": {},
   "source": [
    "<h3> O que é uma Função?</h3>"
   ]
  },
  {
   "cell_type": "markdown",
   "metadata": {},
   "source": [
    "Você pode definir funções para fornecer a funcionalidade necessária. Aqui estão regras simples para definir uma função em Python:\n",
    "- Os blocos de funções começam com <code> def </code> seguido pela função <code> nome </code> e parênteses <code> () </code>.\n",
    "- Existem parâmetros de entrada ou argumentos que devem ser colocados entre parênteses.\n",
    "- Você também pode definir parâmetros dentro desses parênteses.\n",
    "- Há um corpo em cada função que começa com dois pontos (<code>: </code>) e é indentado.\n",
    "- Você também pode colocar a documentação antes do corpo\n",
    "- A instrução <code> return </code> finaliza a execução de uma função, opcionalmente, devolvendo um valor\n",
    "\n",
    "Um exemplo de função que incrementa o valor do parâmetro <code> x </code> imprime e retorna a saída como <code> y </code>:"
   ]
  },
  {
   "cell_type": "code",
   "execution_count": 5,
   "metadata": {},
   "outputs": [],
   "source": [
    "# Exemplo de sua primeira função: adicione 1 à variável x e armazene o resultado como y\n",
    "\n",
    "def incrementar(x):\n",
    "    y = x + 1\n",
    "    print(x, \"se você adiciona 1, fica igual a:\", y)\n",
    "    return(y)"
   ]
  },
  {
   "cell_type": "markdown",
   "metadata": {},
   "source": [
    "A figura abaixo ilustra a terminologia:"
   ]
  },
  {
   "cell_type": "markdown",
   "metadata": {},
   "source": [
    "<img src=\"https://s3-api.us-geo.objectstorage.softlayer.net/cf-courses-data/CognitiveClass/PY0101EN/Chapter%203/Images/FuncsDefinition.png\" width=\"500\" /> "
   ]
  },
  {
   "cell_type": "markdown",
   "metadata": {},
   "source": [
    "Podemos obter ajuda a respeito de uma função:"
   ]
  },
  {
   "cell_type": "code",
   "execution_count": 2,
   "metadata": {
    "collapsed": false,
    "jupyter": {
     "outputs_hidden": false
    }
   },
   "outputs": [
    {
     "name": "stdout",
     "output_type": "stream",
     "text": [
      "Help on function incrementar in module __main__:\n",
      "\n",
      "incrementar(x)\n",
      "\n"
     ]
    }
   ],
   "source": [
    "# Obtenha ajuda para adicionar função\n",
    "\n",
    "help(incrementar)"
   ]
  },
  {
   "cell_type": "markdown",
   "metadata": {},
   "source": [
    "Podemos chamar a função:"
   ]
  },
  {
   "cell_type": "code",
   "execution_count": 6,
   "metadata": {
    "collapsed": false,
    "jupyter": {
     "outputs_hidden": false
    }
   },
   "outputs": [
    {
     "name": "stdout",
     "output_type": "stream",
     "text": [
      "1 se você adiciona 1, fica igual a: 2\n"
     ]
    },
    {
     "data": {
      "text/plain": [
       "2"
      ]
     },
     "execution_count": 6,
     "metadata": {},
     "output_type": "execute_result"
    }
   ],
   "source": [
    "# Chamada à função incrementar()\n",
    "\n",
    "incrementar(1)"
   ]
  },
  {
   "cell_type": "markdown",
   "metadata": {},
   "source": [
    "Se chamarmos a função com uma nova entrada, obteremos um novo resultado:"
   ]
  },
  {
   "cell_type": "code",
   "execution_count": 7,
   "metadata": {
    "collapsed": false,
    "jupyter": {
     "outputs_hidden": false
    }
   },
   "outputs": [
    {
     "name": "stdout",
     "output_type": "stream",
     "text": [
      "2 se você adiciona 1, fica igual a: 3\n"
     ]
    },
    {
     "data": {
      "text/plain": [
       "3"
      ]
     },
     "execution_count": 7,
     "metadata": {},
     "output_type": "execute_result"
    }
   ],
   "source": [
    "# Nova chamada à função incrementar()\n",
    "\n",
    "incrementar(2)"
   ]
  },
  {
   "cell_type": "markdown",
   "metadata": {},
   "source": [
    "Podemos criar funções diferentes. Por exemplo, podemos criar uma função que multiplica dois números. Os números serão representados pelas variáveis <code> x </code> e <code> y </code>:"
   ]
  },
  {
   "cell_type": "code",
   "execution_count": 8,
   "metadata": {},
   "outputs": [],
   "source": [
    "# Defina uma função para vários dois números\n",
    "\n",
    "def Multiplicar(x, y):\n",
    "    z = x * y\n",
    "    return(z)"
   ]
  },
  {
   "cell_type": "markdown",
   "metadata": {},
   "source": [
    "A mesma função pode ser usada para diferentes tipos de dados. Por exemplo, podemos multiplicar dois inteiros:\n"
   ]
  },
  {
   "cell_type": "code",
   "execution_count": 9,
   "metadata": {
    "collapsed": false,
    "jupyter": {
     "outputs_hidden": false
    }
   },
   "outputs": [
    {
     "data": {
      "text/plain": [
       "6"
      ]
     },
     "execution_count": 9,
     "metadata": {},
     "output_type": "execute_result"
    }
   ],
   "source": [
    "# Use a função Multiplicar() para multiplicar dois valores inteiros\n",
    "\n",
    "Multiplicar(2, 3)"
   ]
  },
  {
   "cell_type": "markdown",
   "metadata": {},
   "source": [
    " Duas variáves do tipo Float (Numeros Reais): "
   ]
  },
  {
   "cell_type": "code",
   "execution_count": 10,
   "metadata": {
    "collapsed": false,
    "jupyter": {
     "outputs_hidden": false
    }
   },
   "outputs": [
    {
     "data": {
      "text/plain": [
       "31.400000000000002"
      ]
     },
     "execution_count": 10,
     "metadata": {},
     "output_type": "execute_result"
    }
   ],
   "source": [
    "# Use a função Multiplicar() para multiplicar dois numeros reais\n",
    "\n",
    "Multiplicar(10.0, 3.14)"
   ]
  },
  {
   "cell_type": "markdown",
   "metadata": {},
   "source": [
    "Podemos até replicar uma string multiplicando por um inteiro:"
   ]
  },
  {
   "cell_type": "code",
   "execution_count": 11,
   "metadata": {
    "collapsed": false,
    "jupyter": {
     "outputs_hidden": false
    }
   },
   "outputs": [
    {
     "data": {
      "text/plain": [
       "'Michael Jackson Michael Jackson '"
      ]
     },
     "execution_count": 11,
     "metadata": {},
     "output_type": "execute_result"
    }
   ],
   "source": [
    "# Use a função Multiplicar() para multiplicar duas variáveis de tipos diferntes\n",
    "\n",
    "Multiplicar(2, \"Michael Jackson \")"
   ]
  },
  {
   "cell_type": "markdown",
   "metadata": {},
   "source": [
    "<h3>Variáveis</h3>"
   ]
  },
  {
   "cell_type": "markdown",
   "metadata": {},
   "source": [
    "A entrada para uma função é chamada de parâmetro formal.\n",
    "\n",
    "Uma variável declarada dentro de uma função é chamada de variável local. O parâmetro existe apenas dentro da função (ou seja, o ponto onde a função começa e para).\n",
    "\n",
    "Uma variável declarada fora de uma definição de função é uma variável global e seu valor é acessível e modificável em todo o programa. Discutiremos mais sobre variáveis globais posteriormente, ao final desse notebook.\n"
   ]
  },
  {
   "cell_type": "code",
   "execution_count": 16,
   "metadata": {
    "collapsed": false,
    "jupyter": {
     "outputs_hidden": false
    }
   },
   "outputs": [],
   "source": [
    "# Definição de uma Função\n",
    "\n",
    "def eleva_quadrado(a):\n",
    "    \n",
    "    # Variável local b\n",
    "    b = 1\n",
    "    c = a * a + b\n",
    "    print(a, \"se você eleva ao quadrado e, ainda, acrescenta 1 ao resultado fica igual a: \", c) \n",
    "    return(c)"
   ]
  },
  {
   "cell_type": "markdown",
   "metadata": {},
   "source": [
    "Alguns desses detalhes são apresentados a seguir:  "
   ]
  },
  {
   "cell_type": "markdown",
   "metadata": {},
   "source": [
    "<img src=\"https://s3-api.us-geo.objectstorage.softlayer.net/cf-courses-data/CognitiveClass/PY0101EN/Chapter%203/Images/FuncsVar.png\" width=\"500\" />"
   ]
  },
  {
   "cell_type": "markdown",
   "metadata": {},
   "source": [
    "Podemos chamar a função com uma entrada de <b>3</b>:"
   ]
  },
  {
   "cell_type": "code",
   "execution_count": 17,
   "metadata": {
    "collapsed": false,
    "jupyter": {
     "outputs_hidden": false
    }
   },
   "outputs": [
    {
     "name": "stdout",
     "output_type": "stream",
     "text": [
      "3 se você eleva ao quadrado e, ainda, acrescenta 1 ao resultado fica igual a:  10\n"
     ]
    },
    {
     "data": {
      "text/plain": [
       "10"
      ]
     },
     "execution_count": 17,
     "metadata": {},
     "output_type": "execute_result"
    }
   ],
   "source": [
    "# Inicialização das variáveis Globais\n",
    "\n",
    "x = 3\n",
    "# Chamada à função eleva_quadrado() e imprime na tela o resultado\n",
    "y = eleva_quadrado(x)\n",
    "y"
   ]
  },
  {
   "cell_type": "markdown",
   "metadata": {},
   "source": [
    "Podemos chamar a função com uma entrada <b> 2 </b> de uma maneira diferente:"
   ]
  },
  {
   "cell_type": "code",
   "execution_count": 18,
   "metadata": {
    "collapsed": false,
    "jupyter": {
     "outputs_hidden": false
    }
   },
   "outputs": [
    {
     "name": "stdout",
     "output_type": "stream",
     "text": [
      "2 se você eleva ao quadrado e, ainda, acrescenta 1 ao resultado fica igual a:  5\n"
     ]
    },
    {
     "data": {
      "text/plain": [
       "5"
      ]
     },
     "execution_count": 18,
     "metadata": {},
     "output_type": "execute_result"
    }
   ],
   "source": [
    "# Chamada da função utilizando diretamente um valor numérico como parâmetro\n",
    "\n",
    "eleva_quadrado(2)"
   ]
  },
  {
   "cell_type": "markdown",
   "metadata": {},
   "source": [
    "Se não houver uma instrução <code> return </code>, a função retornará <code> None </code>. As duas funções a seguir são equivalentes:"
   ]
  },
  {
   "cell_type": "code",
   "execution_count": 19,
   "metadata": {
    "collapsed": false,
    "jupyter": {
     "outputs_hidden": false
    }
   },
   "outputs": [],
   "source": [
    "# Defina funções, uma com valor de retorno Nenhum e outra sem valor de retorno\n",
    "\n",
    "def AcelerAI_V1():\n",
    "    print('AcelerAI: Desmistificando a Ciência de Dados!')\n",
    "    \n",
    "def AcelerAI_V2():\n",
    "    print('AcelerAI: Desmistificando a Ciência de Dados!')\n",
    "    return(None)"
   ]
  },
  {
   "cell_type": "code",
   "execution_count": 20,
   "metadata": {
    "collapsed": false,
    "jupyter": {
     "outputs_hidden": false
    }
   },
   "outputs": [
    {
     "name": "stdout",
     "output_type": "stream",
     "text": [
      "AcelerAI: Desmistificando a Ciência de Dados!\n"
     ]
    }
   ],
   "source": [
    "# Observe a saída à chamada da função AcelerAI_V1\n",
    "\n",
    "AcelerAI_V1()"
   ]
  },
  {
   "cell_type": "code",
   "execution_count": 21,
   "metadata": {
    "collapsed": false,
    "jupyter": {
     "outputs_hidden": false
    }
   },
   "outputs": [
    {
     "name": "stdout",
     "output_type": "stream",
     "text": [
      "AcelerAI: Desmistificando a Ciência de Dados!\n"
     ]
    }
   ],
   "source": [
    "# Faça uma comparação com o resultado da saída à chamada da função AcelerAI_V2\n",
    "\n",
    "AcelerAI_V2()"
   ]
  },
  {
   "cell_type": "markdown",
   "metadata": {},
   "source": [
    "Imprimir a função após uma chamada revela que **None** é a instrução de retorno padrão:"
   ]
  },
  {
   "cell_type": "code",
   "execution_count": 23,
   "metadata": {
    "collapsed": false,
    "jupyter": {
     "outputs_hidden": false
    }
   },
   "outputs": [
    {
     "name": "stdout",
     "output_type": "stream",
     "text": [
      "AcelerAI: Desmistificando a Ciência de Dados!\n",
      "None\n",
      "AcelerAI: Desmistificando a Ciência de Dados!\n",
      "None\n"
     ]
    }
   ],
   "source": [
    "# See what functions returns are\n",
    "\n",
    "print(AcelerAI_V1())\n",
    "print(AcelerAI_V2())"
   ]
  },
  {
   "cell_type": "markdown",
   "metadata": {},
   "source": [
    "Crie uma função <code> concatenar_strings </code> que concatena duas strings usando a operação de adição:"
   ]
  },
  {
   "cell_type": "code",
   "execution_count": 24,
   "metadata": {},
   "outputs": [],
   "source": [
    "# Defina a função para combinar duas strings\n",
    "\n",
    "def concatenar_strings(a, b):\n",
    "    return(a + b)"
   ]
  },
  {
   "cell_type": "code",
   "execution_count": 27,
   "metadata": {},
   "outputs": [
    {
     "data": {
      "text/plain": [
       "'Machine Learning'"
      ]
     },
     "execution_count": 27,
     "metadata": {},
     "output_type": "execute_result"
    }
   ],
   "source": [
    "# Verifique o resultado da chamada à função concatenar_strings\n",
    "\n",
    "concatenar_strings(\"Machine \", \"Learning\")"
   ]
  },
  {
   "cell_type": "markdown",
   "metadata": {},
   "source": [
    "<hr/>\n",
    "    <div class=\"alert alert-success alertsuccess\" style=\"margin-top: 20px\">\n",
    "        <h4> [Dica] Como posso aprender mais sobre as funções predefinidas em Python?</h4>\n",
    "        <p>Apresentaremos uma variedade de funções predefinidas à medida que você aprender mais sobre Python. Existem funções demais, então não há como ensiná-las todas de uma vez. Mas se você gostaria de dar uma olhada rápida, aqui está um breve cartão de referência para algumas das funções predefinidas comumente usadas: <a href=\"http://www.astro.up.pt/~sousasag/Python_For_Astronomers/Python_qr.pdf\">Referência</a></p>\n",
    "    </div>\n",
    "<hr/>"
   ]
  },
  {
   "cell_type": "markdown",
   "metadata": {},
   "source": [
    "<h3>Funções tornam as coisas mais simples</h3>"
   ]
  },
  {
   "cell_type": "markdown",
   "metadata": {},
   "source": [
    "Considere as duas linhas de código no <b> Bloco 1 </b> e no <b> Bloco 2 </b>: o procedimento para cada bloco é idêntico. A única coisa diferente são os nomes e valores das variáveis."
   ]
  },
  {
   "cell_type": "markdown",
   "metadata": {},
   "source": [
    "<h4>Bloco 1:</h4>"
   ]
  },
  {
   "cell_type": "code",
   "execution_count": 28,
   "metadata": {
    "collapsed": false,
    "jupyter": {
     "outputs_hidden": false
    }
   },
   "outputs": [
    {
     "data": {
      "text/plain": [
       "5"
      ]
     },
     "execution_count": 28,
     "metadata": {},
     "output_type": "execute_result"
    }
   ],
   "source": [
    "# Valor calculado a partir das variáveis x1 e y1 no Bloco 1\n",
    "\n",
    "x1 = 4\n",
    "y1 = 5\n",
    "z1 = x1 + y1 + 2 * x1 * y1 - 1\n",
    "if(z1 < 0):\n",
    "    z1 = 0 \n",
    "else:\n",
    "    z1 = 5\n",
    "z1   "
   ]
  },
  {
   "cell_type": "markdown",
   "metadata": {},
   "source": [
    "<h4>Bloco 2:</h4>"
   ]
  },
  {
   "cell_type": "code",
   "execution_count": 29,
   "metadata": {
    "collapsed": false,
    "jupyter": {
     "outputs_hidden": false
    }
   },
   "outputs": [
    {
     "data": {
      "text/plain": [
       "5"
      ]
     },
     "execution_count": 29,
     "metadata": {},
     "output_type": "execute_result"
    }
   ],
   "source": [
    "# Valor calculado a partir das variáveis x2 e y2 no Bloco 2\n",
    "\n",
    "x2 = 4\n",
    "y2 = 5\n",
    "z2 = x2 + y2 + 2 * x2 * y2 - 1\n",
    "if(z2 < 0):\n",
    "    z2 = 0 \n",
    "else:\n",
    "    z2 = 5\n",
    "z2 "
   ]
  },
  {
   "cell_type": "markdown",
   "metadata": {},
   "source": [
    "Podemos substituir as linhas de código por uma função. Uma função combina muitas instruções em uma única linha de código. Depois que uma função é definida, ela pode ser usada repetidamente. Você pode invocar a mesma função muitas vezes em seu programa. Você pode salvar sua função e usá-la em outro programa ou usar a função de outra pessoa. As linhas de código no código <b> Bloco 1 </b> e no código <b> Bloco 2 </b> podem ser substituídas pela seguinte função:"
   ]
  },
  {
   "cell_type": "code",
   "execution_count": 30,
   "metadata": {
    "collapsed": false,
    "jupyter": {
     "outputs_hidden": false
    }
   },
   "outputs": [],
   "source": [
    "# Criando uma função para o cálculo anterior\n",
    "\n",
    "def Calculo(x,y):\n",
    "    z = x + y + 2 * x * y - 1\n",
    "    if(z < 0):\n",
    "        z = 0 \n",
    "    else:\n",
    "        z = 5\n",
    "    return(z) "
   ]
  },
  {
   "cell_type": "markdown",
   "metadata": {},
   "source": [
    "Esta função recebe duas entradas, `x` e `y`, e então aplica várias operações para retornar `z`.\n",
    "\n",
    "Simplesmente definimos a função, substituímos as instruções pela função e inserimos os novos valores de <code> x1 </code>, <code> y1 </code> e <code> x2 </code>, <code> y2 </code> como entradas. Todo o processo é demonstrado na figura a seguir:"
   ]
  },
  {
   "cell_type": "markdown",
   "metadata": {},
   "source": [
    "<img src=\"https://s3-api.us-geo.objectstorage.softlayer.net/cf-courses-data/CognitiveClass/PY0101EN/Chapter%203/Images/FuncsPros.gif\" width=\"850\" />"
   ]
  },
  {
   "cell_type": "markdown",
   "metadata": {},
   "source": [
    "Código ** Blocos 1 ** e ** Bloco 2 ** agora podem ser substituídos pelo código ** Bloco 3 ** e código ** Bloco 4 **."
   ]
  },
  {
   "cell_type": "markdown",
   "metadata": {},
   "source": [
    "<h4>Bloco 3:</h4>"
   ]
  },
  {
   "cell_type": "code",
   "execution_count": 31,
   "metadata": {
    "collapsed": false,
    "jupyter": {
     "outputs_hidden": false
    }
   },
   "outputs": [
    {
     "data": {
      "text/plain": [
       "5"
      ]
     },
     "execution_count": 31,
     "metadata": {},
     "output_type": "execute_result"
    }
   ],
   "source": [
    "a1 = 4\n",
    "b1 = 5\n",
    "c1 = Calculo(a1, b1)\n",
    "c1"
   ]
  },
  {
   "cell_type": "markdown",
   "metadata": {},
   "source": [
    "<h4>Bloco 4:</h4>"
   ]
  },
  {
   "cell_type": "code",
   "execution_count": 32,
   "metadata": {
    "collapsed": false,
    "jupyter": {
     "outputs_hidden": false
    }
   },
   "outputs": [
    {
     "data": {
      "text/plain": [
       "0"
      ]
     },
     "execution_count": 32,
     "metadata": {},
     "output_type": "execute_result"
    }
   ],
   "source": [
    "a2 = 0\n",
    "b2 = 0\n",
    "c2 = Calculo(a2, b2)\n",
    "c2"
   ]
  },
  {
   "cell_type": "markdown",
   "metadata": {},
   "source": [
    "<hr>"
   ]
  },
  {
   "cell_type": "markdown",
   "metadata": {},
   "source": [
    "<h2 id=\"pre\">Funções pré-definidas</h2>"
   ]
  },
  {
   "cell_type": "markdown",
   "metadata": {},
   "source": [
    "Existem muitas funções predefinidas em Python, então vamos começar com as mais simples."
   ]
  },
  {
   "cell_type": "markdown",
   "metadata": {},
   "source": [
    "A função <code>print()</code>:"
   ]
  },
  {
   "cell_type": "code",
   "execution_count": 33,
   "metadata": {},
   "outputs": [
    {
     "name": "stdout",
     "output_type": "stream",
     "text": [
      "[10.0, 8.5, 9.5, 7.0, 7.0, 9.5, 9.0, 9.5]\n"
     ]
    }
   ],
   "source": [
    "# Função pr-e-definida print()\n",
    "\n",
    "notas = [10.0, 8.5, 9.5, 7.0, 7.0, 9.5, 9.0, 9.5] \n",
    "print(notas)"
   ]
  },
  {
   "cell_type": "markdown",
   "metadata": {},
   "source": [
    "A função <code> sum () </code> adiciona todos os elementos em uma lista ou tupla:"
   ]
  },
  {
   "cell_type": "code",
   "execution_count": 34,
   "metadata": {},
   "outputs": [
    {
     "data": {
      "text/plain": [
       "70.0"
      ]
     },
     "execution_count": 34,
     "metadata": {},
     "output_type": "execute_result"
    }
   ],
   "source": [
    "# Use a funão sum() para adicionar todos os elementos de uma lista ou tupla\n",
    "\n",
    "sum(notas)"
   ]
  },
  {
   "cell_type": "markdown",
   "metadata": {},
   "source": [
    "A função <code> len () </code> retorna o comprimento de uma lista ou tupla:"
   ]
  },
  {
   "cell_type": "code",
   "execution_count": 35,
   "metadata": {},
   "outputs": [
    {
     "data": {
      "text/plain": [
       "8"
      ]
     },
     "execution_count": 35,
     "metadata": {},
     "output_type": "execute_result"
    }
   ],
   "source": [
    "# Mostra o comprimento (length) da lista ou tupla\n",
    "\n",
    "len(notas)"
   ]
  },
  {
   "cell_type": "markdown",
   "metadata": {},
   "source": [
    "<h2> Usando comandos <code> if </code> / <code> else </code> e laços de repetição em funções </h2>"
   ]
  },
  {
   "cell_type": "markdown",
   "metadata": {},
   "source": [
    "A função <code> return () </code> é particularmente útil se você tiver quaisquer instruções <code> IF </code> na função, quando quiser que sua saída dependa de alguma condição:"
   ]
  },
  {
   "cell_type": "code",
   "execution_count": 36,
   "metadata": {
    "collapsed": false,
    "jupyter": {
     "outputs_hidden": false
    }
   },
   "outputs": [
    {
     "name": "stdout",
     "output_type": "stream",
     "text": [
      "Michael Jackson Thriller 1980\n",
      "Classico!\n"
     ]
    }
   ],
   "source": [
    "# Exemplo de utilizando dos comandos if/else em uma função\n",
    "\n",
    "def tipo_de_album(artista, album, ano_lancamento):\n",
    "    \n",
    "    print(artista, album, ano_lancamento)\n",
    "    if ano_lancamento > 1980:\n",
    "        return \"Moderno!\"\n",
    "    else:\n",
    "        return \"Classico!\"\n",
    "    \n",
    "x = tipo_de_album(\"Michael Jackson\", \"Thriller\", 1980)\n",
    "print(x)"
   ]
  },
  {
   "cell_type": "markdown",
   "metadata": {},
   "source": [
    "Podemos usar um laço de repetição em uma função. Por exemplo, podemos utilizar o comando <code> print </code> em cada elemento de uma lista:"
   ]
  },
  {
   "cell_type": "code",
   "execution_count": 38,
   "metadata": {},
   "outputs": [],
   "source": [
    "# Imprima na tela os elementos da lista usando um laço de repetição\n",
    "\n",
    "def imprime_lista(lista):\n",
    "    for elemento in lista:\n",
    "        print(elemento)"
   ]
  },
  {
   "cell_type": "code",
   "execution_count": 40,
   "metadata": {
    "collapsed": false,
    "jupyter": {
     "outputs_hidden": false
    }
   },
   "outputs": [
    {
     "name": "stdout",
     "output_type": "stream",
     "text": [
      "1\n",
      "1\n",
      "Ciencia de dados\n",
      "abc\n"
     ]
    }
   ],
   "source": [
    "# Implement the printlist function\n",
    "\n",
    "imprime_lista(['1', 1, 'Ciencia de dados', \"abc\"])"
   ]
  },
  {
   "cell_type": "markdown",
   "metadata": {},
   "source": [
    "<hr>"
   ]
  },
  {
   "cell_type": "markdown",
   "metadata": {},
   "source": [
    "<h2> Definir valores padrão para o argumento em suas funções personalizadas</h2>"
   ]
  },
  {
   "cell_type": "markdown",
   "metadata": {},
   "source": [
    "You can set a default value for arguments in your function. For example, in the <code>isGoodRating()</code> function, what if we wanted to create a threshold for what we consider to be a good rating? Perhaps by default, we should have a default rating of 4:\n",
    "\n",
    "Você pode definir um valor padrão para os argumentos em sua função. Por exemplo, na função <code> nota_avaliacao () </code>, e se quiséssemos criar um limite para o que consideramos uma boa classificação? Talvez, por padrão, devêssemos ter uma classificação padrão de 4:"
   ]
  },
  {
   "cell_type": "code",
   "execution_count": 41,
   "metadata": {
    "collapsed": false,
    "jupyter": {
     "outputs_hidden": false
    }
   },
   "outputs": [],
   "source": [
    "# Example for setting param with default value\n",
    "\n",
    "def nota_avaliacao(nota=4): \n",
    "    if(nota < 7):\n",
    "        print(\"Este album não é bom, sua classificação é: \", nota)\n",
    "        \n",
    "    else:\n",
    "        print(\"Este album é bom, sua classificação é: \", nota)\n"
   ]
  },
  {
   "cell_type": "code",
   "execution_count": 42,
   "metadata": {
    "collapsed": false,
    "jupyter": {
     "outputs_hidden": false
    }
   },
   "outputs": [
    {
     "name": "stdout",
     "output_type": "stream",
     "text": [
      "Este album não é bom, sua classificação é:  4\n",
      "Este album é bom, sua classificação é:  10\n"
     ]
    }
   ],
   "source": [
    "# Test the value with default value and with input\n",
    "\n",
    "nota_avaliacao()\n",
    "nota_avaliacao(10)"
   ]
  },
  {
   "cell_type": "markdown",
   "metadata": {},
   "source": [
    "<hr>"
   ]
  },
  {
   "cell_type": "markdown",
   "metadata": {},
   "source": [
    "### Direitos Autorais"
   ]
  },
  {
   "cell_type": "markdown",
   "metadata": {},
   "source": [
    "[APL Data Intelligence](https://linktr.ee/APLdataintelligence)&#8482;  2021. Este notebook Python e seu código fonte estão liberados sob os termos da [Licença do MIT](https://bigdatauniversity.com/mit-license/)."
   ]
  }
 ],
 "metadata": {
  "kernelspec": {
   "display_name": "Python 3",
   "language": "python",
   "name": "python3"
  },
  "language_info": {
   "codemirror_mode": {
    "name": "ipython",
    "version": 3
   },
   "file_extension": ".py",
   "mimetype": "text/x-python",
   "name": "python",
   "nbconvert_exporter": "python",
   "pygments_lexer": "ipython3",
   "version": "3.8.8"
  }
 },
 "nbformat": 4,
 "nbformat_minor": 4
}

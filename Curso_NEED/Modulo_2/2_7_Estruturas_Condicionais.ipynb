{
 "cells": [
  {
   "cell_type": "markdown",
   "metadata": {},
   "source": [
    "<center>\n",
    "    <img src=\"../imagens/logo_APL.png\" width=\"300\" alt=\"APL logo\"  />\n",
    "</center>"
   ]
  },
  {
   "cell_type": "markdown",
   "metadata": {},
   "source": [
    "# Estruturas Condicionais em `Python`"
   ]
  },
  {
   "cell_type": "markdown",
   "metadata": {},
   "source": [
    "**Bem vindo!** Neste material será abordado o conceito de *Estruturas Condicionais* na linguagem `Python`. Ao final, espera-se que você seja capaz de entender e usar essas estruturas na construção de seus programas."
   ]
  },
  {
   "cell_type": "markdown",
   "metadata": {},
   "source": [
    "<h2>Conteúdo:</h2>\n",
    "<div class=\"alert alert-block alert-info\" style=\"margin-top: 20px\">\n",
    "    <ul>\n",
    "        <li>\n",
    "            Esturutras Condicionais:\n",
    "            <ul>\n",
    "                <li>Operadores de Comparação</li>\n",
    "                <li>Desvios/Saltos (<i>Branching<i>)</li>\n",
    "            <ul>\n",
    "        </li>\n",
    "    <ul>\n",
    "</div>\n",
    "\n",
    "<hr>"
   ]
  },
  {
   "cell_type": "markdown",
   "metadata": {},
   "source": [
    "<h2 id=\"cond\">Esturutras Condicionais</h2>"
   ]
  },
  {
   "cell_type": "markdown",
   "metadata": {},
   "source": [
    "<h3 id=\"comp\">Operadores de Comparação</h3>"
   ]
  },
  {
   "cell_type": "markdown",
   "metadata": {},
   "source": [
    "As operações de comparação comparam algum valor ou operando e, com base em uma condição, produzem um booleano. Ao comparar dois valores, você pode usar esses operadores:\n",
    "\n",
    "<ul>\n",
    "    <li>igual: <b>==</b></li>\n",
    "    <li>não igual: <b>!=</b></li>\n",
    "    <li>maior que: <b>></b></li>\n",
    "    <li>menor que: <b>&lt;</b></li>\n",
    "    <li>maior que ou igual a: <b>>=</b></li>\n",
    "    <li>menor que ou igual a: <b>&lt;=</b></li>\n",
    "</ul>"
   ]
  },
  {
   "cell_type": "markdown",
   "metadata": {},
   "source": [
    "Vamos atribuir a variável <code>x</code> o valor 5. Use o operador de igualdade denotado com dois sinais de igual <b>==</b> para determinar se dois valores são iguais. O caso abaixo compara a variável <code>x</code> with 6."
   ]
  },
  {
   "cell_type": "code",
   "execution_count": 21,
   "metadata": {},
   "outputs": [
    {
     "data": {
      "text/plain": [
       "False"
      ]
     },
     "execution_count": 21,
     "metadata": {},
     "output_type": "execute_result"
    }
   ],
   "source": [
    "# Testand uma condição de igualdade\n",
    "\n",
    "x = 5\n",
    "x == 6"
   ]
  },
  {
   "cell_type": "markdown",
   "metadata": {},
   "source": [
    "O resultado é <b>False</b>, uma vez que 5 não é igual a 6."
   ]
  },
  {
   "cell_type": "markdown",
   "metadata": {},
   "source": [
    "\n",
    "Considere o seguinte operador de comparação de igualdade <code>i > 5</code>.Se o valor do operando esquerdo, neste caso a variável <b>i</b>, é maior que o valor do operando, neste caso 5, então a instrução é <b>True</b>. Caso contrário, a declaração é <b>False</b>.  Se <b>i</b> é igual a 6, uma vez que 6 é maior que 5, a saída é <b>True</b>."
   ]
  },
  {
   "cell_type": "code",
   "execution_count": 22,
   "metadata": {},
   "outputs": [
    {
     "data": {
      "text/plain": [
       "True"
      ]
     },
     "execution_count": 22,
     "metadata": {},
     "output_type": "execute_result"
    }
   ],
   "source": [
    "# Operador de comparação >\n",
    "\n",
    "i = 6\n",
    "i > 5"
   ]
  },
  {
   "cell_type": "markdown",
   "metadata": {},
   "source": [
    "Definindo <code>i = 2</code>. A afirmação é falsa porque 2 não é maior que 5:"
   ]
  },
  {
   "cell_type": "code",
   "execution_count": 23,
   "metadata": {},
   "outputs": [
    {
     "data": {
      "text/plain": [
       "False"
      ]
     },
     "execution_count": 23,
     "metadata": {},
     "output_type": "execute_result"
    }
   ],
   "source": [
    "# Operador de comparação >\n",
    "\n",
    "i = 2\n",
    "i > 5"
   ]
  },
  {
   "cell_type": "markdown",
   "metadata": {},
   "source": [
    "Vamos mostrar alguns valores para <code>i</code> na figura. Supondo que os valores maiores que 5 sejam na cor verde, enquanto os demais em vermelho. A região verde representa onde a condição é  **True**, e a vermelha onde está a afirmação é **False**. Se o valor de <code>i</code> é 2, nós temos **False** já que o 2 cai na região vermelha. Por outro lado, se o valor para <code>i</code> é 6 nós temos um **True** como a condição cai na região verde. "
   ]
  },
  {
   "cell_type": "markdown",
   "metadata": {},
   "source": [
    "<img src=\"../imagens/CondsGreater.gif\" width=\"650\" />"
   ]
  },
  {
   "cell_type": "markdown",
   "metadata": {},
   "source": [
    "O teste de desigualdade usa um ponto de exclamação precedendo o sinal de igual, se dois operandos não forem iguais, a condição torna-se **True**. Por exemplo, a seguinte condição irá produzir **True** contanto que o valor de <code>i</code> não é igual a 6:"
   ]
  },
  {
   "cell_type": "code",
   "execution_count": 24,
   "metadata": {},
   "outputs": [
    {
     "data": {
      "text/plain": [
       "True"
      ]
     },
     "execution_count": 24,
     "metadata": {},
     "output_type": "execute_result"
    }
   ],
   "source": [
    "# Sinal de Desigualdade\n",
    "\n",
    "i = 2\n",
    "i != 6"
   ]
  },
  {
   "cell_type": "markdown",
   "metadata": {},
   "source": [
    "Se  <code>i</code> for igual a 6, a expressão de desigualdade produz <b>False</b>. "
   ]
  },
  {
   "cell_type": "code",
   "execution_count": 25,
   "metadata": {},
   "outputs": [
    {
     "data": {
      "text/plain": [
       "False"
      ]
     },
     "execution_count": 25,
     "metadata": {},
     "output_type": "execute_result"
    }
   ],
   "source": [
    "# Sinal de Desigualdade\n",
    "\n",
    "i = 6\n",
    "i != 6"
   ]
  },
  {
   "cell_type": "markdown",
   "metadata": {},
   "source": [
    "Veja a animação com a linha numérica abaixo. Quando a condição for **True** os números correspondentes são marcados em verde, enquanto para a condição **False** o número correspondente é marcado em vermelho. Se nós definirmos <code>i</code> igual a 2, o operador é verdadeiro, pois 2 está na região verde. Se nós definirmos <code>i</code> igual a 6, temos um **False** à medida em que a condição cai na região vermelha."
   ]
  },
  {
   "cell_type": "markdown",
   "metadata": {},
   "source": [
    "<img src=\"../imagens/CondsIneq.gif\" width=\"650\" />"
   ]
  },
  {
   "cell_type": "markdown",
   "metadata": {},
   "source": [
    "Podemos aplicar os mesmos métodos em strings. Por exemplo, use um operador de igualdade em duas strings diferentes. Como as strings não são iguais, obtemos um **False**."
   ]
  },
  {
   "cell_type": "code",
   "execution_count": 26,
   "metadata": {},
   "outputs": [
    {
     "data": {
      "text/plain": [
       "False"
      ]
     },
     "execution_count": 26,
     "metadata": {},
     "output_type": "execute_result"
    }
   ],
   "source": [
    "# Use o sinal de igualdade para comparar as strings\n",
    "\n",
    "\"Pink Floyd\" == \"Led Zepellin\""
   ]
  },
  {
   "cell_type": "markdown",
   "metadata": {},
   "source": [
    " Se usarmos o operador de desigualdade, a saída será **True** como as strings não são iguais."
   ]
  },
  {
   "cell_type": "code",
   "execution_count": 27,
   "metadata": {},
   "outputs": [
    {
     "data": {
      "text/plain": [
       "True"
      ]
     },
     "execution_count": 27,
     "metadata": {},
     "output_type": "execute_result"
    }
   ],
   "source": [
    "# Use o sinal de igualdade para comparar as strings\n",
    "\n",
    "\"Pink Floyd\" != \"Led Zepellin\""
   ]
  },
  {
   "cell_type": "markdown",
   "metadata": {},
   "source": [
    "A operação de desigualdade também é usada para comparar as letras / palavras / símbolos de acordo com o valor ASCII das letras. O valor decimal mostrado na tabela a seguir representa a ordem do caractere:\n"
   ]
  },
  {
   "cell_type": "markdown",
   "metadata": {},
   "source": [
    "Por exemplo, o código ASCII para <b>!</b> é 21, enquanto o código ASCII para <b>+</b>é 43. Portanto <b>+</b> é maior que <b>!</b> como 43 é maior que 21."
   ]
  },
  {
   "cell_type": "markdown",
   "metadata": {},
   "source": [
    "Da mesma forma, o valor para <b>A</b> é 101, e o valor para <b>B</b> é 102, portanto:"
   ]
  },
  {
   "cell_type": "code",
   "execution_count": 28,
   "metadata": {},
   "outputs": [
    {
     "data": {
      "text/plain": [
       "True"
      ]
     },
     "execution_count": 28,
     "metadata": {},
     "output_type": "execute_result"
    }
   ],
   "source": [
    "# Comparação de caracteres\n",
    "\n",
    "'B' > 'A'"
   ]
  },
  {
   "cell_type": "markdown",
   "metadata": {},
   "source": [
    " Quando são várias letras, a primeira letra tem precedência na ordem:"
   ]
  },
  {
   "cell_type": "code",
   "execution_count": 29,
   "metadata": {},
   "outputs": [
    {
     "data": {
      "text/plain": [
       "True"
      ]
     },
     "execution_count": 29,
     "metadata": {},
     "output_type": "execute_result"
    }
   ],
   "source": [
    "# Comparação de caracteres\n",
    "\n",
    "'BA' > 'AB'"
   ]
  },
  {
   "cell_type": "markdown",
   "metadata": {},
   "source": [
    "<b>Atenção</b>: Letras maiúsculas têm código ASCII diferente das letras minúsculas, o que significa que a comparação entre as letras em python diferencia maiúsculas de minúsculas."
   ]
  },
  {
   "cell_type": "markdown",
   "metadata": {},
   "source": [
    "<h3 id=\"branch\"> Desvios/Saltos (<i>Branching</i>)</h3>"
   ]
  },
  {
   "cell_type": "markdown",
   "metadata": {},
   "source": [
    "Desvios/Saltos (<i>Branching</i>) nos permitem executar instruções diferentes para entradas diferentes. É útil pensar em um **comando if** como uma sala trancada, se a declaração for **True** podemos entrar na sala e seu programa irá executar algumas tarefas predefinidas, mas se a instrução for **False** o programa irá ignorar a tarefa.\n"
   ]
  },
  {
   "cell_type": "markdown",
   "metadata": {},
   "source": [
    "Por exemplo, na imagem a seguir, considere que o retângulo azul represente um show do ACDC. Se o indivíduo tiver 18 anos ou mais, ele pode entrar nesse evento. Caso contrário, não.\n",
    "\n",
    "Para implementar essa condição, vamos usar o **comando if**. A sintaxe é simples <code> if <i> declaração da condição </i> :</code>, que contém uma palavra/código <code>if</code>, qualquer declaração de condição e dois pontos no final. Inicie suas tarefas que precisam ser executadas sob esta condição em **uma nova linha com indentação**. As linhas de código após os dois pontos e **com indentação** só serão executadas quando o **comando if** for **True**. As tarefas terminarão quando a linha de código não contiver mais a indentação.\n",
    "\n",
    "No caso abaixo, o comando <code>print(“Você pode entrar!”)</code> só é executado se a variável <code>idade</code> for maior que 18, ou seja, se a condição for **True**. Atenção: observe que esta linha de código tem a indentação. No entanto, a execução de <code>print(“Siga em frente!”)</code>não será influenciado pelo **comando if**."
   ]
  },
  {
   "cell_type": "code",
   "execution_count": 30,
   "metadata": {},
   "outputs": [
    {
     "name": "stdout",
     "output_type": "stream",
     "text": [
      "Você pode entrar!\n",
      "Siga em frente!\n"
     ]
    }
   ],
   "source": [
    "# Exemplo da estrutura condicional If\n",
    "\n",
    "idade = 19\n",
    "#idade = 17\n",
    "\n",
    "#expressão que pode ser verddeira ou falsa\n",
    "if idade >= 18:\n",
    "    \n",
    "    #dentro de uma indentação, temos a expressão que é executada se a condição for verdadeira\n",
    "    print(\"Você pode entrar!\" )\n",
    "\n",
    "#Por outro lado, as instruções após a instrução if serão executadas independentemente se a condição for verdadeira ou falsa\n",
    "print(\"Siga em frente!\")"
   ]
  },
  {
   "cell_type": "markdown",
   "metadata": {},
   "source": [
    "<i>Faça um teste. Retire o comentário da variável `idade´.</i>"
   ]
  },
  {
   "cell_type": "markdown",
   "metadata": {},
   "source": [
    "É útil usar o diagrama a seguir para ilustrar o processo. No lado esquerdo, vemos o que acontece quando a condição é <b>True</b>.  A pessoa entra no show do ACDC representando o código indentado a ser executado; e, então segue em frente. No lado direito, vemos o que acontece quando a condição é <b>False</b>; a pessoa não tem acesso e segue em frente. Nesse caso, o segmento de código indentado não é executado, mas o restante das instruções é. "
   ]
  },
  {
   "cell_type": "markdown",
   "metadata": {},
   "source": [
    "<img src=\"../imagens/CondsIf.gif\" width=\"650\" />"
   ]
  },
  {
   "cell_type": "markdown",
   "metadata": {},
   "source": [
    "O comando <code>else</code> executa um bloco de código se nenhuma das condições anteriores asua declaração forem **True**. Vamos usar a analogia do concerto ACDC novamente. Se o usuário tiver 17 anos, ele não pode ir ao show do ACDC, mas pode ir ao show do Meatloaf.\n",
    "A sintaxe do comando <code>else</code>  é similar à sintaxe do comando <code>if</code>, ou seja, <code>else :</code>. Observe que não há declaração de condição para <code>else</code>.\n",
    "Tente mudar os valores de <code>idade</code> para ver o que acontece:  "
   ]
  },
  {
   "cell_type": "code",
   "execution_count": 31,
   "metadata": {},
   "outputs": [
    {
     "name": "stdout",
     "output_type": "stream",
     "text": [
      "Vá assistir ao show do Meatloaf!\n",
      "Siga em frente!\n"
     ]
    }
   ],
   "source": [
    "# Exemplo da estrutura condicional Else\n",
    "\n",
    "idade = 18\n",
    "# idade = 19\n",
    "\n",
    "if idade > 18:\n",
    "    print(\"Você pode entrar no show do ACDC!\" )\n",
    "else:\n",
    "    print(\"Vá assistir ao show do Meatloaf!\" )\n",
    "    \n",
    "print(\"Siga em frente!\")"
   ]
  },
  {
   "cell_type": "markdown",
   "metadata": {},
   "source": [
    "O processo é demonstrado a seguir, onde cada uma das possibilidades é ilustrada em um lado da imagem. À esquerda está o caso em que a `idade` é 17, e isso corresponde ao indivíduo que vai ao concerto do Meatloaf. No lado direito vemos o que acontece quando o indivíduo tem mais de 18 anos, podendo assistir ao show do ACDC."
   ]
  },
  {
   "cell_type": "markdown",
   "metadata": {},
   "source": [
    "<img src=\"../imagens/CondsElse.gif\" width=\"650\" />"
   ]
  },
  {
   "cell_type": "markdown",
   "metadata": {},
   "source": [
    "O comando <code>elif</code>, abreviação de `else if`, nos permite verificar condições adicionais se as declarações de condição anteriores forem <b>False</b>. Se a condição do comando <code>elif</code> for <b>True</b>, as expressões alternativas serão executadas. Considere o exemplo do show, em que se o indivíduo tiver exatamente 18 anos, ele assistirá ao show do Pink Floyd em vez de assistir ACDC ou Meatloaf. Depois de ver o Pink Floyd, a pessoa segue em frente. A sintaxe do comando <code>elif</code>  é semelhante ao comando <code>if</code>, uma vez que  simplesmente substituímos <code>if</code> por <code>elif</code>."
   ]
  },
  {
   "cell_type": "code",
   "execution_count": 32,
   "metadata": {},
   "outputs": [
    {
     "name": "stdout",
     "output_type": "stream",
     "text": [
      "Você pode assitir Pink Floyd!\n",
      "Siga em frente!\n"
     ]
    }
   ],
   "source": [
    "# Exemplo da estrutura condicional Elif\n",
    "\n",
    "idade = 18\n",
    "\n",
    "if idade > 18:\n",
    "    print(\"Você pode assitir ACDC!\" )\n",
    "elif idade == 18:\n",
    "    print(\"Você pode assitir Pink Floyd!\")\n",
    "else:\n",
    "    print(\"Você só pode assitir MeatLoaf!\" )\n",
    "    \n",
    "print(\"Siga em frente!\")"
   ]
  },
  {
   "cell_type": "markdown",
   "metadata": {},
   "source": [
    "The three combinations are shown in the figure below.  The left-most region shows what happens when the individual is less than 18 years of age. The central component shows when the individual is exactly 18. The rightmost shows when the individual is over 18."
   ]
  },
  {
   "cell_type": "markdown",
   "metadata": {},
   "source": [
    "<img src =\"../imagens/CondsElif.gif\" width=\"650\" />"
   ]
  },
  {
   "cell_type": "markdown",
   "metadata": {},
   "source": [
    " Observe o código a seguir:\n"
   ]
  },
  {
   "cell_type": "code",
   "execution_count": 33,
   "metadata": {},
   "outputs": [
    {
     "name": "stdout",
     "output_type": "stream",
     "text": [
      "Segue o fluxo do código...\n"
     ]
    }
   ],
   "source": [
    "# Exemplo de Estrutura Condicional\n",
    "\n",
    "ano_album = 1970\n",
    "#ano_album = 1983\n",
    "\n",
    "if ano_album > 1980:\n",
    "    print(\"Ano de lançamento é maior que 1980.\")\n",
    "    \n",
    "print('Segue o fluxo do código...')"
   ]
  },
  {
   "cell_type": "markdown",
   "metadata": {},
   "source": [
    "Sinta-se à vontade para alterar o valor da variável <code> ano_album </code>. Você verá que o resultado pode mudar..."
   ]
  },
  {
   "cell_type": "markdown",
   "metadata": {},
   "source": [
    "Observe que o código no bloco <b> indentado </b> acima só será executado se os resultados forem <b> True </b>. "
   ]
  },
  {
   "cell_type": "markdown",
   "metadata": {},
   "source": [
    "Como antes, podemos adicionar um bloco <code> else </code> ao bloco <code> if </code>. O código no bloco <code> else </code> só será executado se o resultado for <b> False </b>.\n",
    "\n",
    "\n",
    "<b>Syntaxe:</b> \n",
    "\n",
    "if (condição):\n",
    "    # faça alguma coisa\n",
    "else:\n",
    "    # faça outra coisa"
   ]
  },
  {
   "cell_type": "markdown",
   "metadata": {},
   "source": [
    "Se a condição na instrução <code> if </code> for <b> False </b>, a instrução após o bloco <code> else </code> será executada. Isso é demonstrado na figura:"
   ]
  },
  {
   "cell_type": "markdown",
   "metadata": {},
   "source": [
    "<img src=\"../imagens/CondsLogicMap.png\" width=\"650\" />"
   ]
  },
  {
   "cell_type": "code",
   "execution_count": 34,
   "metadata": {},
   "outputs": [
    {
     "name": "stdout",
     "output_type": "stream",
     "text": [
      "Ano de lançamento anterior a 1980.\n",
      "Segue o fluxo do código...\n"
     ]
    }
   ],
   "source": [
    "# Condition statement example\n",
    "\n",
    "album_year = 1983\n",
    "#album_year = 1970\n",
    "\n",
    "if ano_album > 1980:\n",
    "    print(\"Ano de lançamento é maior que 1980.\")\n",
    "else:\n",
    "    print(\"Ano de lançamento anterior a 1980.\")\n",
    "print('Segue o fluxo do código...')"
   ]
  },
  {
   "cell_type": "markdown",
   "metadata": {},
   "source": [
    "Sinta-se à vontade para alterar o valor da variável <code> ano_album </code>. Você verá que o resultado pode mudar..."
   ]
  },
  {
   "cell_type": "markdown",
   "metadata": {},
   "source": [
    "<hr>"
   ]
  },
  {
   "cell_type": "markdown",
   "metadata": {},
   "source": [
    "## Direitos Autorais"
   ]
  },
  {
   "cell_type": "markdown",
   "metadata": {},
   "source": [
    "[APL Data Intelligence](https://linktr.ee/APLdataintelligence)&#8482;  2021. Este notebook Python e seu código fonte estão liberados sob os termos da [Licença do MIT](https://bigdatauniversity.com/mit-license/)."
   ]
  }
 ],
 "metadata": {
  "kernelspec": {
   "display_name": "Python 3",
   "language": "python",
   "name": "python3"
  },
  "language_info": {
   "codemirror_mode": {
    "name": "ipython",
    "version": 3
   },
   "file_extension": ".py",
   "mimetype": "text/x-python",
   "name": "python",
   "nbconvert_exporter": "python",
   "pygments_lexer": "ipython3",
   "version": "3.8.8"
  }
 },
 "nbformat": 4,
 "nbformat_minor": 4
}

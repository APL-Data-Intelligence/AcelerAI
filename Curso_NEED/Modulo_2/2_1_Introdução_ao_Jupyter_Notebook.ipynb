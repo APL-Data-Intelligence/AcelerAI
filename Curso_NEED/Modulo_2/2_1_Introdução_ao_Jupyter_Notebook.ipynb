{
 "cells": [
  {
   "cell_type": "markdown",
   "metadata": {},
   "source": [
    "<center>\n",
    "    <img src=\"imagens/logo_APL.png\" width=\"300\" alt=\"APL logo\"  />\n",
    "</center>"
   ]
  },
  {
   "cell_type": "markdown",
   "metadata": {},
   "source": [
    "# Introdução Jupyter Notebook\n",
    "**Bem vindo!** Neste material vamos apresentar o ambiente de programação que usaremos ao longo do nosso curso: **Jupyter Notebooks**. Ao final, espera-se que você esteja familiarizado com as funcionalidades básicas desse ambiente."
   ]
  },
  {
   "cell_type": "markdown",
   "metadata": {},
   "source": [
    "<h2>Conteúdo</h2>\n",
    "<div class=\"alert alert-block alert-info\" style=\"margin-top: 20px\">\n",
    "    <ul>\n",
    "        <li> Escrever um \"Hello World\" em Python  </li>\n",
    "                <li>Qual versão do Python estamos usando?</li>\n",
    "                <li>Escrevendo comentários em Python</li>\n",
    "                <li>Erros em Python</li>\n",
    "                <li>O Python sabe sobre o seu erro antes de executar o código?</li>\n",
    "                <li>Exercício: Seu primeiro programa</li>\n",
    "</div>\n",
    "\n",
    "<hr>\n"
   ]
  },
  {
   "cell_type": "markdown",
   "metadata": {},
   "source": [
    "# Escrever um \"Hello World\" em Python\n"
   ]
  },
  {
   "cell_type": "markdown",
   "metadata": {},
   "source": [
    "Ao aprender uma nova linguagem de programação, é comum começar com um exemplo \"hello world\". Por mais simples que seja, essa única linha de código garantirá que sabemos como imprimir uma string na saída e como executar o código dentro das células de um notebook.\n"
   ]
  },
  {
   "cell_type": "markdown",
   "metadata": {},
   "source": [
    "<hr/>\n",
    "<div class=\"alert alert-success alertsuccess\" style=\"margin-top: 20px\">\n",
    "[Dica]: Para executar o código Python na célula de código abaixo, clique na célula para selecioná-la e pressione <kbd>Shift</kbd> + <kbd>Enter</kbd>.\n",
    "</div>\n",
    "<hr/>"
   ]
  },
  {
   "cell_type": "code",
   "execution_count": 6,
   "metadata": {},
   "outputs": [
    {
     "name": "stdout",
     "output_type": "stream",
     "text": [
      "Olá, mundo!\n"
     ]
    }
   ],
   "source": [
    "# Tente executar esse código\n",
    "\n",
    "print('Olá, mundo!')"
   ]
  },
  {
   "cell_type": "markdown",
   "metadata": {},
   "source": [
    "Depois de executar a célula acima, você deve ver que o Python imprime <code>Olá, mundo!</code>. Parabéns por executar seu primeiro código Python!"
   ]
  },
  {
   "cell_type": "markdown",
   "metadata": {},
   "source": [
    "<hr/>\n",
    "<div class=\"alert alert-success alertsuccess\" style=\"margin-top: 20px\">\n",
    "    [Dica:] <code>print()</code> é uma função. Você passou a string <code>'Olá, mundo!'</code> como um argumento para instruir o Python sobre o que imprimir.\n",
    "</div>\n",
    "<hr/>\n"
   ]
  },
  {
   "cell_type": "markdown",
   "metadata": {},
   "source": [
    "<h3 id=\"version\">Qual versão do Python estamos usando?</h3>\n"
   ]
  },
  {
   "cell_type": "markdown",
   "metadata": {},
   "source": [
    "<p>\n",
    "     Existem duas versões populares da linguagem de programação Python em uso hoje: Python 2 e Python 3. A comunidade Python decidiu mudar do Python 2 para o Python 3, e muitas bibliotecas populares anunciaram que não suportarão mais o Python 2.\n",
    "</p>\n",
    "<p>\n",
    "     Como Python 3 é o futuro, neste curso iremos usá-lo exclusivamente. Como sabemos que nosso notebook é executado por um runtime Python 3? Podemos olhar no canto superior direito deste notebook e ver \"Python 3\".\n",
    "</p>\n",
    "<p>\n",
    "     Também podemos perguntar diretamente ao Python e obter uma resposta detalhada. Tente executar o seguinte código:\n",
    "</p>\n"
   ]
  },
  {
   "cell_type": "code",
   "execution_count": 7,
   "metadata": {},
   "outputs": [
    {
     "name": "stdout",
     "output_type": "stream",
     "text": [
      "3.6.9 (default, Jan 26 2021, 15:33:00) \n",
      "[GCC 8.4.0]\n"
     ]
    }
   ],
   "source": [
    "# Verificar a versão do Python\n",
    "\n",
    "import sys\n",
    "print(sys.version)"
   ]
  },
  {
   "cell_type": "markdown",
   "metadata": {},
   "source": [
    "<hr/>\n",
    "<div class=\"alert alert-success alertsuccess\" style=\"margin-top: 20px\">\n",
    "    [Dica:] <code>sys</code> é um módulo embutido que contém muitos parâmetros e funções específicos do sistema, incluindo a versão Python em uso. Antes de usá-lo, devemos usar <code>import</code> explicitamente.\n",
    "</div>\n",
    "<hr/>\n"
   ]
  },
  {
   "cell_type": "markdown",
   "metadata": {},
   "source": [
    "# Escrevendo comentários Python\n"
   ]
  },
  {
   "cell_type": "markdown",
   "metadata": {},
   "source": [
    "<p>\n",
    "     Além de escrever o código, observe que é sempre uma boa ideia adicionar comentários ao seu código. Isso ajudará outras pessoas a entender o que você estava tentando realizar (a razão pela qual você escreveu um determinado trecho de código). Isso não apenas ajuda <strong> outras pessoas </strong> a entender seu código, mas também pode servir como um lembrete <strong> para você </strong> quando voltar a ele semanas ou meses depois. </p>\n",
    "\n",
    "<p>\n",
    "     Para escrever comentários em Python, use o símbolo numérico <code> # </code> antes de escrever seu comentário. Quando você executa seu código, o Python irá ignorar tudo após o <code> # </code> em uma determinada linha.\n",
    "</p>\n"
   ]
  },
  {
   "cell_type": "code",
   "execution_count": 8,
   "metadata": {},
   "outputs": [
    {
     "name": "stdout",
     "output_type": "stream",
     "text": [
      "Olá, mundo!\n"
     ]
    }
   ],
   "source": [
    "# Pratique escrever comentários\n",
    "\n",
    "print('Olá, mundo!') # Essa linha escreve uma string\n",
    "# print('Oi')"
   ]
  },
  {
   "cell_type": "markdown",
   "metadata": {},
   "source": [
    "<p>\n",
    "     Depois de executar a célula acima, você deve notar que <code> Esta linha escreve uma string </code> não apareceu na saída, porque era um comentário (e, portanto, ignorado pelo Python).\n",
    "</p>\n",
    "<p>\n",
    "     A segunda linha também não foi executada porque <code> print ('Oi') </code> também era precedido pelo sinal numérico (<code> # </code>)! Visto que este não é um comentário explicativo do programador, mas uma linha real de código, podemos dizer que o programador <em> comentou </em> aquela segunda linha de código.\n",
    "</p>\n",
    "<hr/>"
   ]
  },
  {
   "cell_type": "markdown",
   "metadata": {},
   "source": [
    "# Erros em Python"
   ]
  },
  {
   "cell_type": "markdown",
   "metadata": {},
   "source": [
    "<p> Todo mundo comete erros. Para muitos tipos de erros, o Python dirá que você cometeu um erro, exibindo uma mensagem de erro. É importante ler as mensagens de erro com atenção para realmente entender onde você cometeu um erro e como você pode corrigi-lo. </p>\n",
    "<p> Por exemplo, se você soletrar <code> print </code> como <code> frint</code>, o Python exibirá uma mensagem de erro. Experimente: </p>"
   ]
  },
  {
   "cell_type": "code",
   "execution_count": 9,
   "metadata": {},
   "outputs": [
    {
     "ename": "NameError",
     "evalue": "name 'frint' is not defined",
     "output_type": "error",
     "traceback": [
      "\u001b[0;31m---------------------------------------------------------------------------\u001b[0m",
      "\u001b[0;31mNameError\u001b[0m                                 Traceback (most recent call last)",
      "\u001b[0;32m<ipython-input-9-6cb32604495c>\u001b[0m in \u001b[0;36m<module>\u001b[0;34m\u001b[0m\n\u001b[1;32m      1\u001b[0m \u001b[0;31m# Print string mensagem de erro\u001b[0m\u001b[0;34m\u001b[0m\u001b[0;34m\u001b[0m\u001b[0;34m\u001b[0m\u001b[0m\n\u001b[1;32m      2\u001b[0m \u001b[0;34m\u001b[0m\u001b[0m\n\u001b[0;32m----> 3\u001b[0;31m \u001b[0mfrint\u001b[0m\u001b[0;34m(\u001b[0m\u001b[0;34m\"Hello, Python!\"\u001b[0m\u001b[0;34m)\u001b[0m\u001b[0;34m\u001b[0m\u001b[0;34m\u001b[0m\u001b[0m\n\u001b[0m",
      "\u001b[0;31mNameError\u001b[0m: name 'frint' is not defined"
     ]
    }
   ],
   "source": [
    "# Print string mensagem de erro\n",
    "\n",
    "frint(\"Hello, Python!\")"
   ]
  },
  {
   "cell_type": "markdown",
   "metadata": {},
   "source": [
    "<p> A mensagem de erro informa:\n",
    "<ol>\n",
    "     <li> onde ocorreu o erro (mais útil em grandes células de notebook ou scripts) e </li>\n",
    "     <li> que tipo de erro foi (NameError) </li>\n",
    "</ol>\n",
    "<p> Aqui, Python tentou executar a função <code> frint</code>, mas não conseguiu determinar o que é <code> frint </code>, pois não é uma função integrada e não foi definida anteriormente por nós também. </p>"
   ]
  },
  {
   "cell_type": "markdown",
   "metadata": {},
   "source": [
    "<p>\n",
    "     Você notará que se cometermos um tipo diferente de erro, ao esquecermos de fechar a string, obteremos um erro diferente (ou seja, um <code> SyntaxError</code>). Experimente abaixo:\n",
    "</p>\n"
   ]
  },
  {
   "cell_type": "code",
   "execution_count": 3,
   "metadata": {},
   "outputs": [
    {
     "ename": "SyntaxError",
     "evalue": "EOL while scanning string literal (<ipython-input-3-cb885df087ab>, line 3)",
     "output_type": "error",
     "traceback": [
      "\u001b[0;36m  File \u001b[0;32m\"<ipython-input-3-cb885df087ab>\"\u001b[0;36m, line \u001b[0;32m3\u001b[0m\n\u001b[0;31m    print(\"Hello, Python!)\u001b[0m\n\u001b[0m                          ^\u001b[0m\n\u001b[0;31mSyntaxError\u001b[0m\u001b[0;31m:\u001b[0m EOL while scanning string literal\n"
     ]
    }
   ],
   "source": [
    "# Tente ver o erro abaixo\n",
    "\n",
    "print(\"Hello, Python!)"
   ]
  },
  {
   "cell_type": "markdown",
   "metadata": {},
   "source": [
    "<hr/>"
   ]
  },
  {
   "cell_type": "markdown",
   "metadata": {},
   "source": [
    "# O Python sabe sobre seu erro antes de executar seu código?"
   ]
  },
  {
   "cell_type": "markdown",
   "metadata": {},
   "source": [
    "Python é o que se chama de <em> linguagem interpretada</em>. As linguagens compiladas examinam todo o seu programa em tempo de compilação e são capazes de avisá-lo sobre toda uma classe de erros antes da execução. Em contraste, Python interpreta seu script linha por linha enquanto o executa. O Python irá parar de executar o programa inteiro quando encontrar um erro (a menos que o erro seja esperado e tratado pelo programador, um assunto mais avançado que abordaremos posteriormente neste curso)."
   ]
  },
  {
   "cell_type": "markdown",
   "metadata": {},
   "source": [
    "Tente executar o código na célula abaixo e veja o que acontece:"
   ]
  },
  {
   "cell_type": "code",
   "execution_count": 5,
   "metadata": {},
   "outputs": [
    {
     "name": "stdout",
     "output_type": "stream",
     "text": [
      "Isso será escrito\n"
     ]
    },
    {
     "ename": "NameError",
     "evalue": "name 'frint' is not defined",
     "output_type": "error",
     "traceback": [
      "\u001b[0;31m---------------------------------------------------------------------------\u001b[0m",
      "\u001b[0;31mNameError\u001b[0m                                 Traceback (most recent call last)",
      "\u001b[0;32m<ipython-input-5-30119619ac62>\u001b[0m in \u001b[0;36m<module>\u001b[0;34m\u001b[0m\n\u001b[1;32m      2\u001b[0m \u001b[0;34m\u001b[0m\u001b[0m\n\u001b[1;32m      3\u001b[0m \u001b[0mprint\u001b[0m\u001b[0;34m(\u001b[0m\u001b[0;34m\"Isso será escrito\"\u001b[0m\u001b[0;34m)\u001b[0m\u001b[0;34m\u001b[0m\u001b[0;34m\u001b[0m\u001b[0m\n\u001b[0;32m----> 4\u001b[0;31m \u001b[0mfrint\u001b[0m\u001b[0;34m(\u001b[0m\u001b[0;34m\"Isso causará erro\"\u001b[0m\u001b[0;34m)\u001b[0m\u001b[0;34m\u001b[0m\u001b[0;34m\u001b[0m\u001b[0m\n\u001b[0m\u001b[1;32m      5\u001b[0m \u001b[0mprint\u001b[0m\u001b[0;34m(\u001b[0m\u001b[0;34m\"Isso NÃO será escrito\"\u001b[0m\u001b[0;34m)\u001b[0m\u001b[0;34m\u001b[0m\u001b[0;34m\u001b[0m\u001b[0m\n",
      "\u001b[0;31mNameError\u001b[0m: name 'frint' is not defined"
     ]
    }
   ],
   "source": [
    "# Print string e erro para saber a ordem de execução\n",
    "\n",
    "print(\"Isso será escrito\")\n",
    "frint(\"Isso causará erro\")\n",
    "print(\"Isso NÃO será escrito\")"
   ]
  },
  {
   "cell_type": "markdown",
   "metadata": {},
   "source": [
    "<hr>"
   ]
  },
  {
   "cell_type": "markdown",
   "metadata": {},
   "source": [
    "## Direitos Autorais"
   ]
  },
  {
   "cell_type": "markdown",
   "metadata": {},
   "source": [
    "[APL Data Intelligence](https://linktr.ee/APLdataintelligence)&#8482;  2021. Este notebook Python e seu código fonte estão liberados sob os termos da [Licença do MIT](https://bigdatauniversity.com/mit-license/)."
   ]
  }
 ],
 "metadata": {
  "kernelspec": {
   "display_name": "Python 3",
   "language": "python",
   "name": "python3"
  },
  "language_info": {
   "codemirror_mode": {
    "name": "ipython",
    "version": 3
   },
   "file_extension": ".py",
   "mimetype": "text/x-python",
   "name": "python",
   "nbconvert_exporter": "python",
   "pygments_lexer": "ipython3",
   "version": "3.8.8"
  },
  "metadata": {
   "interpreter": {
    "hash": "31f2aee4e71d21fbe5cf8b01ff0e069b9275f58929596ceb00d14d90e3e16cd6"
   }
  }
 },
 "nbformat": 4,
 "nbformat_minor": 4
}
